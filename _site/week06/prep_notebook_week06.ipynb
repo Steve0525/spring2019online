{
 "cells": [
  {
   "cell_type": "markdown",
   "metadata": {},
   "source": [
    "# Activity #1 - intro to traitlets and object oriented programming\n",
    "* So first, we'll do the relatively dry stuff - playing with some concepts of object oriented programming"
   ]
  },
  {
   "cell_type": "code",
   "execution_count": 1,
   "metadata": {},
   "outputs": [],
   "source": [
    "# it is possible you will have to install this\n",
    "import traitlets"
   ]
  },
  {
   "cell_type": "code",
   "execution_count": 2,
   "metadata": {},
   "outputs": [],
   "source": [
    "# ok, lets make a simple object class\n",
    "class MyObject(traitlets.HasTraits):\n",
    "    # lets use the unicode trait to let our object have a name\n",
    "    name = traitlets.Unicode(\"unnamed\") \n",
    "    # lets also give our object an age\n",
    "    age = traitlets.Int(0)"
   ]
  },
  {
   "cell_type": "code",
   "execution_count": 3,
   "metadata": {},
   "outputs": [
    {
     "data": {
      "text/plain": [
       "<__main__.MyObject at 0x10f5fac90>"
      ]
     },
     "execution_count": 3,
     "metadata": {},
     "output_type": "execute_result"
    }
   ],
   "source": [
    "# now, lets create an object we can manipulate out of this class\n",
    "my_obj = MyObject()\n",
    "my_obj"
   ]
  },
  {
   "cell_type": "code",
   "execution_count": 4,
   "metadata": {},
   "outputs": [
    {
     "data": {
      "text/plain": [
       "(u'unnamed', 0)"
      ]
     },
     "execution_count": 4,
     "metadata": {},
     "output_type": "execute_result"
    }
   ],
   "source": [
    "# so far, nothing is defined yet and the object has the \n",
    "#  class's defaults\n",
    "my_obj.name, my_obj.age"
   ]
  },
  {
   "cell_type": "code",
   "execution_count": 5,
   "metadata": {},
   "outputs": [
    {
     "data": {
      "text/plain": [
       "(u'Bob', 47)"
      ]
     },
     "execution_count": 5,
     "metadata": {},
     "output_type": "execute_result"
    }
   ],
   "source": [
    "# lets create another object \n",
    "# and here we can show how it can \n",
    "#  be created and initialized\n",
    "obj2 = MyObject(name = \"Bob\", age = 47)\n",
    "obj2.name, obj2.age"
   ]
  },
  {
   "cell_type": "code",
   "execution_count": 6,
   "metadata": {},
   "outputs": [],
   "source": [
    "# now lets create a function that can act on \n",
    "#  one of the variables of our object\n",
    "#  in particluar, its going to change the name in \n",
    "#  my object\n",
    "def name_changed(change):\n",
    "    print(change['new']) # this is a format that is required of a traitlets class\n",
    "\n",
    "# lets tell traitlets that we are going to change something\n",
    "my_obj.observe(name_changed, ['name'])"
   ]
  },
  {
   "cell_type": "code",
   "execution_count": 7,
   "metadata": {},
   "outputs": [
    {
     "name": "stdout",
     "output_type": "stream",
     "text": [
      "Linda\n"
     ]
    }
   ],
   "source": [
    "my_obj.name = \"Linda\""
   ]
  },
  {
   "cell_type": "code",
   "execution_count": 8,
   "metadata": {},
   "outputs": [
    {
     "data": {
      "text/plain": [
       "u'Bob'"
      ]
     },
     "execution_count": 8,
     "metadata": {},
     "output_type": "execute_result"
    }
   ],
   "source": [
    "# note: right now this seems overly complicated\n",
    "#  why would we do this?  can't I just simply \n",
    "# assign the name to the object's name??\n",
    "#  whats with this whole function name_changed\n",
    "#  and .observe?\n",
    "\n",
    "# so, we can actually associate actions with changes \n",
    "# Behold:\n",
    "def name_changed2(change):\n",
    "    print(\"I just changed '%s' to '%s'\" % (change['old'], change['new']))\n",
    "\n",
    "# lets apply this to our other object we created\n",
    "obj2.name"
   ]
  },
  {
   "cell_type": "code",
   "execution_count": 9,
   "metadata": {},
   "outputs": [],
   "source": [
    "obj2.observe(name_changed2, ['name'])"
   ]
  },
  {
   "cell_type": "code",
   "execution_count": 10,
   "metadata": {},
   "outputs": [
    {
     "name": "stdout",
     "output_type": "stream",
     "text": [
      "I just changed 'Bob' to 'Gene'\n"
     ]
    }
   ],
   "source": [
    "obj2.name = \"Gene\""
   ]
  },
  {
   "cell_type": "code",
   "execution_count": 11,
   "metadata": {},
   "outputs": [],
   "source": [
    "# we can even take a look at the nitty gritty\n",
    "# details of how this change is taking place \n",
    "# \"under the hood\" with traitlets\n",
    "\n",
    "# lets create a new object\n",
    "obj3 = MyObject()"
   ]
  },
  {
   "cell_type": "code",
   "execution_count": 12,
   "metadata": {},
   "outputs": [],
   "source": [
    "# and now, instead of specifying an action\n",
    "#  with our change, lets look at what \n",
    "# change really is:\n",
    "def trait_change(change):\n",
    "    print(\"Change dictionary:\")\n",
    "    print(change)\n",
    "\n",
    "obj3.observe(trait_change)"
   ]
  },
  {
   "cell_type": "code",
   "execution_count": 13,
   "metadata": {},
   "outputs": [
    {
     "name": "stdout",
     "output_type": "stream",
     "text": [
      "Change dictionary:\n",
      "{'owner': <__main__.MyObject object at 0x10f619410>, 'new': u'Something Else', 'old': u'unnamed', 'name': 'name', 'type': 'change'}\n"
     ]
    }
   ],
   "source": [
    "obj3.name = \"Something Else\"\n",
    "# so we can see that there are these weird \"new\" and \"old\" names\n",
    "#  this is tracking how things change\n",
    "#  the \"owner\" is just pointint to obj3 (of class MyObject)"
   ]
  },
  {
   "cell_type": "code",
   "execution_count": 14,
   "metadata": {},
   "outputs": [
    {
     "name": "stdout",
     "output_type": "stream",
     "text": [
      "Change dictionary:\n",
      "{'owner': <__main__.MyObject object at 0x10f619410>, 'new': 10, 'old': 0, 'name': 'age', 'type': 'change'}\n"
     ]
    }
   ],
   "source": [
    "# lets try another one:\n",
    "obj3.age = 10"
   ]
  },
  {
   "cell_type": "markdown",
   "metadata": {},
   "source": [
    "### An aside: string printing"
   ]
  },
  {
   "cell_type": "code",
   "execution_count": 15,
   "metadata": {},
   "outputs": [
    {
     "data": {
      "text/plain": [
       "'String formatting is sticking stuff in the middle: 10.13500'"
      ]
     },
     "execution_count": 15,
     "metadata": {},
     "output_type": "execute_result"
    }
   ],
   "source": [
    "# just as an aside, there are fancy ways to print out strings\n",
    "#  and numbers in one line\n",
    "\n",
    "# here is one example\n",
    "\"String formatting is sticking stuff %s the middle: %0.5f\" % (\"in\", 10.135)\n",
    "# so \"in\" is placed at %s and 10.135 is placed at %0.5f"
   ]
  },
  {
   "cell_type": "code",
   "execution_count": 16,
   "metadata": {},
   "outputs": [
    {
     "data": {
      "text/plain": [
       "'The nicer way is to do this, see'"
      ]
     },
     "execution_count": 16,
     "metadata": {},
     "output_type": "execute_result"
    }
   ],
   "source": [
    "# we can also insert strings as place holder numbers:\n",
    "\"{2} nicer way {0} to do this, {1}\".format(\"is\", \"see\", \"The\")"
   ]
  },
  {
   "cell_type": "markdown",
   "metadata": {},
   "source": [
    "### Take aways\n",
    "* this was just a quick overview of traitlets\n",
    "* traitlets are another way to use interactivity in python - we can create classes and then track changes to those classes with our \"change\" functions"
   ]
  },
  {
   "cell_type": "markdown",
   "metadata": {},
   "source": [
    "# Activity #2 - More details of ipywidgets\n",
    "* We've already done a LOT of things with ipywidgets\n",
    "* we'll get into some more of the nitty gritty details of different things we can use with widgets now"
   ]
  },
  {
   "cell_type": "code",
   "execution_count": 17,
   "metadata": {},
   "outputs": [
    {
     "data": {
      "application/vnd.jupyter.widget-view+json": {
       "model_id": "a12905d376de4337a1fdd97be20aa111",
       "version_major": 2,
       "version_minor": 0
      },
      "text/plain": [
       "aW50ZXJhY3RpdmUoY2hpbGRyZW49KERyb3Bkb3duKGRlc2NyaXB0aW9uPXUnbmFtZScsIG9wdGlvbnM9KCdMaW5kYScsICdUaW5hJywgJ0xvdWlzZScpLCB2YWx1ZT0nTGluZGEnKSwgT3V0cHXigKY=\n"
      ]
     },
     "metadata": {},
     "output_type": "display_data"
    }
   ],
   "source": [
    "# import, per usual\n",
    "import ipywidgets\n",
    "\n",
    "# so, this is how we've used widgets before for the most part\n",
    "@ipywidgets.interact(name = ['Linda', 'Tina', 'Louise'])\n",
    "def print_name(name):\n",
    "    print(name) # just a simple print out"
   ]
  },
  {
   "cell_type": "code",
   "execution_count": 18,
   "metadata": {},
   "outputs": [],
   "source": [
    "# but now, lets go into ipywidgets in a bit more detail\n",
    "# and look at specific functions\n",
    "\n",
    "# for example, we can create a little display\n",
    "# that increments integer numbers\n",
    "itext = ipywidgets.IntText()"
   ]
  },
  {
   "cell_type": "code",
   "execution_count": 19,
   "metadata": {},
   "outputs": [
    {
     "data": {
      "application/vnd.jupyter.widget-view+json": {
       "model_id": "31107b54fc0345d1849d4d8238a9f039",
       "version_major": 2,
       "version_minor": 0
      },
      "text/plain": [
       "IntText(value=0)"
      ]
     },
     "metadata": {},
     "output_type": "display_data"
    }
   ],
   "source": [
    "# to be able to display our widget\n",
    "from IPython.display import display\n",
    "# note: depending on the version of jupyter\n",
    "#  you are using, you may or maynot have\n",
    "#  to use \"display\" to display things\n",
    "#  we'll do it both ways, starting \n",
    "#  with display\n",
    "\n",
    "# lets show the thing!\n",
    "display(itext)\n",
    "# you can see there are little numbers at the \n",
    "#  end that we can toggle up and down"
   ]
  },
  {
   "cell_type": "code",
   "execution_count": 20,
   "metadata": {},
   "outputs": [
    {
     "data": {
      "application/vnd.jupyter.widget-view+json": {
       "model_id": "31107b54fc0345d1849d4d8238a9f039",
       "version_major": 2,
       "version_minor": 0
      },
      "text/plain": [
       "IntText(value=0)"
      ]
     },
     "metadata": {},
     "output_type": "display_data"
    }
   ],
   "source": [
    "# note that if I make another display of itext,\n",
    "# this one and the previous one have values that are\n",
    "# tied together\n",
    "display(itext)"
   ]
  },
  {
   "cell_type": "code",
   "execution_count": 21,
   "metadata": {},
   "outputs": [
    {
     "data": {
      "text/plain": [
       "0"
      ]
     },
     "execution_count": 21,
     "metadata": {},
     "output_type": "execute_result"
    }
   ],
   "source": [
    "# also, the value of itext is then stored - so \n",
    "#  we could in theory generate a toggle and then \n",
    "# do stuff with its value\n",
    "itext.value\n",
    "# note if I go up and change the toggle value\n",
    "#  I have to re-run this cell to print out the \n",
    "# newly stored value"
   ]
  },
  {
   "cell_type": "code",
   "execution_count": 22,
   "metadata": {},
   "outputs": [],
   "source": [
    "# I can also set the value \"by hand\"\n",
    "itext.value = 10\n",
    "# once I run this cell, now the toggle values are\n",
    "# updated above"
   ]
  },
  {
   "cell_type": "code",
   "execution_count": 23,
   "metadata": {},
   "outputs": [],
   "source": [
    "# we can also do fun things like create progress bars\n",
    "ip = ipywidgets.IntProgress()"
   ]
  },
  {
   "cell_type": "code",
   "execution_count": 24,
   "metadata": {},
   "outputs": [
    {
     "data": {
      "application/vnd.jupyter.widget-view+json": {
       "model_id": "18677b82188f4d25b62686970b82094c",
       "version_major": 2,
       "version_minor": 0
      },
      "text/plain": [
       "IntProgress(value=0)"
      ]
     },
     "metadata": {},
     "output_type": "display_data"
    }
   ],
   "source": [
    "display(ip)"
   ]
  },
  {
   "cell_type": "code",
   "execution_count": 25,
   "metadata": {},
   "outputs": [],
   "source": [
    "# so, its probably hard to see, but there is indeed a \n",
    "# bar there\n",
    "# I can show this better by setting the progress\n",
    "# to 90% by hand:\n",
    "ip.value = 90"
   ]
  },
  {
   "cell_type": "code",
   "execution_count": 26,
   "metadata": {},
   "outputs": [],
   "source": [
    "# we can also check out more of the interer counters, \n",
    "#  like this nifty slider\n",
    "irange = ipywidgets.IntRangeSlider(min = -10, max = 10, step = 1)"
   ]
  },
  {
   "cell_type": "code",
   "execution_count": 27,
   "metadata": {},
   "outputs": [
    {
     "data": {
      "application/vnd.jupyter.widget-view+json": {
       "model_id": "c7ccc314cb8840f1a35194b8ad59cfb8",
       "version_major": 2,
       "version_minor": 0
      },
      "text/plain": [
       "IntRangeSlider(value=(-5, 5), max=10, min=-10)"
      ]
     },
     "metadata": {},
     "output_type": "display_data"
    }
   ],
   "source": [
    "display(irange)"
   ]
  },
  {
   "cell_type": "code",
   "execution_count": 28,
   "metadata": {},
   "outputs": [
    {
     "data": {
      "text/plain": [
       "(-5, 5)"
      ]
     },
     "execution_count": 28,
     "metadata": {},
     "output_type": "execute_result"
    }
   ],
   "source": [
    "# again, the value of the slider is stored\n",
    "#  if we want to use it\n",
    "irange.value"
   ]
  },
  {
   "cell_type": "markdown",
   "metadata": {},
   "source": [
    "### BY THEIR POWERS COMBINED!!"
   ]
  },
  {
   "cell_type": "code",
   "execution_count": 29,
   "metadata": {},
   "outputs": [
    {
     "data": {
      "text/plain": [
       "<traitlets.traitlets.link at 0x10f630b90>"
      ]
     },
     "execution_count": 29,
     "metadata": {},
     "output_type": "execute_result"
    }
   ],
   "source": [
    "# we can also mix traitlets & ipython widgets\n",
    "#  in neat ways\n",
    "#  here, we'll use the ipywidgets function\n",
    "#  link to associate 2 different things\n",
    "\n",
    "# a new instance of my class as m\n",
    "m = MyObject(name = \"Bob\", age = 47)\n",
    "# lets link an widget label with a traitlet class value\n",
    "l = ipywidgets.Label() \n",
    "\n",
    "# lets link the traitelet name with the \n",
    "# widget label, l\n",
    "ipywidgets.link( (m, \"name\"), (l, \"value\") )"
   ]
  },
  {
   "cell_type": "code",
   "execution_count": 77,
   "metadata": {},
   "outputs": [
    {
     "data": {
      "application/vnd.jupyter.widget-view+json": {
       "model_id": "cd220fcc057947d3aa0d2e7f8b58ee8f",
       "version_major": 2,
       "version_minor": 0
      },
      "text/plain": [
       "Label(value=u'Bob')"
      ]
     },
     "metadata": {},
     "output_type": "display_data"
    }
   ],
   "source": [
    "# now if we display this widget label\n",
    "#  we see the traitlet object's name\n",
    "display(l)"
   ]
  },
  {
   "cell_type": "code",
   "execution_count": 78,
   "metadata": {},
   "outputs": [],
   "source": [
    "# we can even update the traitlet name & the \n",
    "# widget label updates as well\n",
    "m.name = \"Linda\""
   ]
  },
  {
   "cell_type": "markdown",
   "metadata": {},
   "source": [
    "### More ipywidgets fun"
   ]
  },
  {
   "cell_type": "code",
   "execution_count": 79,
   "metadata": {},
   "outputs": [],
   "source": [
    "# we can use ipywidgets to make clickers\n",
    "button1 = ipywidgets.Button(description = \"I am a Clicker\")"
   ]
  },
  {
   "cell_type": "code",
   "execution_count": 80,
   "metadata": {},
   "outputs": [
    {
     "data": {
      "application/vnd.jupyter.widget-view+json": {
       "model_id": "998a6c42d8ee444dbbff9001792df6c0",
       "version_major": 2,
       "version_minor": 0
      },
      "text/plain": [
       "Button(description=u'I am a Clicker', style=ButtonStyle())"
      ]
     },
     "metadata": {},
     "output_type": "display_data"
    },
    {
     "name": "stdout",
     "output_type": "stream",
     "text": [
      "I have clicked. Click.\n"
     ]
    }
   ],
   "source": [
    "display(button1)\n",
    "# we note that nothing happens when we press this button"
   ]
  },
  {
   "cell_type": "code",
   "execution_count": 81,
   "metadata": {},
   "outputs": [],
   "source": [
    "# now, lets make a function that can act when we press\n",
    "# this button\n",
    "def say_click(event):\n",
    "    print(\"I have clicked. Click.\")"
   ]
  },
  {
   "cell_type": "code",
   "execution_count": 82,
   "metadata": {},
   "outputs": [],
   "source": [
    "# now we can tell our button that we've created to \n",
    "# say click when we click\n",
    "button1.on_click(say_click)\n",
    "# we'll note that this is \"back reactive\" - so now \n",
    "# if we go up to our displayed button and press click\n",
    "# it says it has clicked were before it did nothing"
   ]
  },
  {
   "cell_type": "code",
   "execution_count": 83,
   "metadata": {},
   "outputs": [],
   "source": [
    "# we can use ipywidgets to create text boxes\n",
    "ta1 = ipywidgets.Textarea(\"Hi, this is a box of text. (1)\")\n",
    "\n",
    "ta2 = ipywidgets.Textarea(\"Hi, this is a box of text. (2)\")\n",
    "\n",
    "ta3 = ipywidgets.Textarea(\"Hi, this is a box of text. (3)\")\n",
    "\n",
    "ta4 = ipywidgets.Textarea(\"Hi, this is a box of text. (4)\")"
   ]
  },
  {
   "cell_type": "code",
   "execution_count": 85,
   "metadata": {},
   "outputs": [
    {
     "data": {
      "application/vnd.jupyter.widget-view+json": {
       "model_id": "1af2308f28fc47ea9467487f41edf3ef",
       "version_major": 2,
       "version_minor": 0
      },
      "text/plain": [
       "Textarea(value=u'Hi, this is a box of text. (1)')"
      ]
     },
     "metadata": {},
     "output_type": "display_data"
    }
   ],
   "source": [
    "# first we'll just display the first one\n",
    "display(ta1)"
   ]
  },
  {
   "cell_type": "code",
   "execution_count": 86,
   "metadata": {},
   "outputs": [],
   "source": [
    "# we can organize these text boxes in a few ways\n",
    "#  one way is to use ipywidgets to display things\n",
    "#  in tabular form:\n",
    "tabs = ipywidgets.Tab([ta1, ta2, ta3, ta4])"
   ]
  },
  {
   "cell_type": "code",
   "execution_count": 87,
   "metadata": {},
   "outputs": [
    {
     "data": {
      "application/vnd.jupyter.widget-view+json": {
       "model_id": "ab8e219ade9c438e98db91467040bae2",
       "version_major": 2,
       "version_minor": 0
      },
      "text/plain": [
       "VGFiKGNoaWxkcmVuPShUZXh0YXJlYSh2YWx1ZT11J0hpLCB0aGlzIGlzIGEgYm94IG9mIHRleHQuICgxKScpLCBUZXh0YXJlYSh2YWx1ZT11J0hpLCB0aGlzIGlzIGEgYm94IG9mIHRleHQuICjigKY=\n"
      ]
     },
     "metadata": {},
     "output_type": "display_data"
    }
   ],
   "source": [
    "display(tabs)"
   ]
  },
  {
   "cell_type": "code",
   "execution_count": 88,
   "metadata": {},
   "outputs": [],
   "source": [
    "# or we can \"accordian\" them:\n",
    "acc = ipywidgets.Accordion([ta1, ta2, ta3, ta4])"
   ]
  },
  {
   "cell_type": "code",
   "execution_count": 89,
   "metadata": {},
   "outputs": [
    {
     "data": {
      "application/vnd.jupyter.widget-view+json": {
       "model_id": "9177d147a2f14eaa8e12012eac047e24",
       "version_major": 2,
       "version_minor": 0
      },
      "text/plain": [
       "QWNjb3JkaW9uKGNoaWxkcmVuPShUZXh0YXJlYSh2YWx1ZT11J0hpLCB0aGlzIGlzIGEgYm94IG9mIHRleHQuICgxKScpLCBUZXh0YXJlYSh2YWx1ZT11J0hpLCB0aGlzIGlzIGEgYm94IG9mIHTigKY=\n"
      ]
     },
     "metadata": {},
     "output_type": "display_data"
    }
   ],
   "source": [
    "display(acc)"
   ]
  },
  {
   "cell_type": "code",
   "execution_count": 91,
   "metadata": {},
   "outputs": [
    {
     "data": {
      "application/vnd.jupyter.widget-view+json": {
       "model_id": "a5907b231a884c009d2b17d285cdc9ca",
       "version_major": 2,
       "version_minor": 0
      },
      "text/plain": [
       "SEJveChjaGlsZHJlbj0oVGV4dGFyZWEodmFsdWU9dSdIaSwgdGhpcyBpcyBhIGJveCBvZiB0ZXh0LiAoMSknKSwgVGV4dGFyZWEodmFsdWU9dSdIaSwgdGhpcyBpcyBhIGJveCBvZiB0ZXh0LiDigKY=\n"
      ]
     },
     "metadata": {},
     "output_type": "display_data"
    }
   ],
   "source": [
    "# or we can organize them into horizontal boxes\n",
    "ipywidgets.HBox([ta1, ta2, ta3, ta4])\n",
    "# note this means a few of them are off screen so \n",
    "# this might not be the best option"
   ]
  },
  {
   "cell_type": "code",
   "execution_count": 92,
   "metadata": {},
   "outputs": [
    {
     "data": {
      "application/vnd.jupyter.widget-view+json": {
       "model_id": "6a44149dff6f40d6b22e1005ebb2c15a",
       "version_major": 2,
       "version_minor": 0
      },
      "text/plain": [
       "VkJveChjaGlsZHJlbj0oVGV4dGFyZWEodmFsdWU9dSdIaSwgdGhpcyBpcyBhIGJveCBvZiB0ZXh0LiAoMSknKSwgVGV4dGFyZWEodmFsdWU9dSdIaSwgdGhpcyBpcyBhIGJveCBvZiB0ZXh0LiDigKY=\n"
      ]
     },
     "metadata": {},
     "output_type": "display_data"
    }
   ],
   "source": [
    "# or we can organize them in a vertical manner\n",
    "ipywidgets.VBox([ta1, ta2, ta3, ta4])"
   ]
  },
  {
   "cell_type": "code",
   "execution_count": 95,
   "metadata": {},
   "outputs": [
    {
     "data": {
      "application/vnd.jupyter.widget-view+json": {
       "model_id": "55608417dbd34eadb354c9739ec151ef",
       "version_major": 2,
       "version_minor": 0
      },
      "text/plain": [
       "VkJveChjaGlsZHJlbj0oSEJveChjaGlsZHJlbj0oVGV4dGFyZWEodmFsdWU9dSdIaSwgdGhpcyBpcyBhIGJveCBvZiB0ZXh0LiAoMSknKSwgVGV4dGFyZWEodmFsdWU9dSdIaSwgdGhpcyBpcyDigKY=\n"
      ]
     },
     "metadata": {},
     "output_type": "display_data"
    }
   ],
   "source": [
    "# or, if we want to be super fancy we \n",
    "# can organize them in a verticle box of \n",
    "# sets of horizontal boxes\n",
    "ipywidgets.VBox( [ipywidgets.HBox([ta1, ta2]),\n",
    "                  ipywidgets.HBox([ta3, ta4])] )"
   ]
  },
  {
   "cell_type": "code",
   "execution_count": 96,
   "metadata": {},
   "outputs": [
    {
     "data": {
      "application/vnd.jupyter.widget-view+json": {
       "model_id": "716886c1fb0f4373acee83d0a29a39a2",
       "version_major": 2,
       "version_minor": 0
      },
      "text/plain": [
       "VkJveChjaGlsZHJlbj0oSEJveChjaGlsZHJlbj0oVGV4dGFyZWEodmFsdWU9dSdIaSwgdGhpcyBpcyBhIGJveCBvZiB0ZXh0LiAoMSknKSwgVGV4dGFyZWEodmFsdWU9dSdIaSwgdGhpcyBpcyDigKY=\n"
      ]
     },
     "metadata": {},
     "output_type": "display_data"
    }
   ],
   "source": [
    "# we can even insert a label in our array of \n",
    "# horizontal boxes and see how ipywidgets would\n",
    "#  place this text\n",
    "ipywidgets.VBox( [ipywidgets.HBox([ta1, ta2]),\n",
    "                  ipywidgets.Label(\"Hello there!\"),\n",
    "                  ipywidgets.HBox([ta3, ta4])] )"
   ]
  },
  {
   "cell_type": "markdown",
   "metadata": {},
   "source": [
    "* So, those were just some toy examples\n",
    "* Lets see how we can create something interactive with some of these tools that will update a variable based on the interactivity that we have built"
   ]
  },
  {
   "cell_type": "code",
   "execution_count": 30,
   "metadata": {},
   "outputs": [
    {
     "data": {
      "application/vnd.jupyter.widget-view+json": {
       "model_id": "517241c729724c838b0ac7ebf377d98f",
       "version_major": 2,
       "version_minor": 0
      },
      "text/plain": [
       "SEJveChjaGlsZHJlbj0oQnV0dG9uKGRlc2NyaXB0aW9uPXUnLTEwJywgc3R5bGU9QnV0dG9uU3R5bGUoKSksIEludFByb2dyZXNzKHZhbHVlPTApLCBCdXR0b24oZGVzY3JpcHRpb249dScrMTDigKY=\n"
      ]
     },
     "metadata": {},
     "output_type": "display_data"
    }
   ],
   "source": [
    "# lets start by making a progress bar again:\n",
    "ip = ipywidgets.IntProgress()\n",
    "# now, lets add in a button that will add 10\n",
    "button_plus = ipywidgets.Button(description = \"+10\")\n",
    "# and one that will subtract 10\n",
    "button_minus = ipywidgets.Button(description = \"-10\")\n",
    "\n",
    "# lets see how this looks in a horizontal box row:\n",
    "ipywidgets.HBox([button_minus, ip, button_plus])\n",
    "# we note if we click these, nothing happens\n",
    "#  this is because we haven't associated actions \n",
    "#  to our clicks"
   ]
  },
  {
   "cell_type": "code",
   "execution_count": 31,
   "metadata": {},
   "outputs": [
    {
     "data": {
      "text/plain": [
       "0"
      ]
     },
     "execution_count": 31,
     "metadata": {},
     "output_type": "execute_result"
    }
   ],
   "source": [
    "# so, no matter what we press, we don't see anything happening\n",
    "ip.value"
   ]
  },
  {
   "cell_type": "code",
   "execution_count": 32,
   "metadata": {},
   "outputs": [],
   "source": [
    "# so, lets now associate a change in the value of our\n",
    "# progress bar when we click the down button:\n",
    "def click_down(event):\n",
    "    ip.value -= 10\n",
    "    \n",
    "# and lets tie this change in value to \n",
    "# the click with the \"on_click\" function of our down button\n",
    "button_minus.on_click(click_down)"
   ]
  },
  {
   "cell_type": "code",
   "execution_count": 33,
   "metadata": {},
   "outputs": [],
   "source": [
    "# same type of thing, but for our up button\n",
    "def click_up(event):\n",
    "    ip.value += 10\n",
    "button_plus.on_click(click_up)"
   ]
  },
  {
   "cell_type": "code",
   "execution_count": 34,
   "metadata": {},
   "outputs": [
    {
     "data": {
      "application/vnd.jupyter.widget-view+json": {
       "model_id": "639388a2d3934b8ca490be3b245b0ad4",
       "version_major": 2,
       "version_minor": 0
      },
      "text/plain": [
       "SEJveChjaGlsZHJlbj0oQnV0dG9uKGRlc2NyaXB0aW9uPXUnLTEwJywgc3R5bGU9QnV0dG9uU3R5bGUoKSksIEludFByb2dyZXNzKHZhbHVlPTApLCBCdXR0b24oZGVzY3JpcHRpb249dScrMTDigKY=\n"
      ]
     },
     "metadata": {},
     "output_type": "display_data"
    }
   ],
   "source": [
    "# lets try this again:\n",
    "ipywidgets.HBox([button_minus, ip, button_plus])\n",
    "# note also again that these associations with \n",
    "# these up and down click functions are in a sense\n",
    "# \"back reactive\" - so now our previous instance of this \n",
    "# clicker and progress bar updates as well!"
   ]
  },
  {
   "cell_type": "markdown",
   "metadata": {},
   "source": [
    "* ok, lets make some more fun linking examples"
   ]
  },
  {
   "cell_type": "code",
   "execution_count": 35,
   "metadata": {},
   "outputs": [],
   "source": [
    "# lets first make a slider\n",
    "islider = ipywidgets.IntSlider(min = 0, max = 10, step = 1, orientation = 'vertical')"
   ]
  },
  {
   "cell_type": "code",
   "execution_count": 36,
   "metadata": {},
   "outputs": [],
   "source": [
    "# lets give this slider a base color that\n",
    "# is sort of purple-y, using a hex code\n",
    "islider.style.handle_color = \"#750075\""
   ]
  },
  {
   "cell_type": "code",
   "execution_count": 37,
   "metadata": {},
   "outputs": [
    {
     "data": {
      "application/vnd.jupyter.widget-view+json": {
       "model_id": "b6f705dcf3984a6abf78cd5b886818f3",
       "version_major": 2,
       "version_minor": 0
      },
      "text/plain": [
       "IntSlider(value=0, max=10, orientation=u'vertical', style=SliderStyle(handle_color='#750075'))"
      ]
     },
     "metadata": {},
     "output_type": "display_data"
    }
   ],
   "source": [
    "islider # note here (and above with our boxes) I'm not using \"display\"\n",
    "# note this slider slides up and down, \n",
    "# nothing too exciting"
   ]
  },
  {
   "cell_type": "code",
   "execution_count": 38,
   "metadata": {},
   "outputs": [
    {
     "data": {
      "application/vnd.jupyter.widget-view+json": {
       "model_id": "006d180879da44849f50e14f90f1d710",
       "version_major": 2,
       "version_minor": 0
      },
      "text/plain": [
       "ColorPicker(value='black')"
      ]
     },
     "metadata": {},
     "output_type": "display_data"
    }
   ],
   "source": [
    "# lets create a new widget object called a color picker:\n",
    "cp = ipywidgets.ColorPicker()\n",
    "cp\n",
    "# when we show this we can click on the little\n",
    "# box and it popus up a color picker we can mess around with"
   ]
  },
  {
   "cell_type": "code",
   "execution_count": 39,
   "metadata": {},
   "outputs": [
    {
     "data": {
      "text/plain": [
       "<traitlets.traitlets.link at 0x10f663890>"
      ]
     },
     "execution_count": 39,
     "metadata": {},
     "output_type": "execute_result"
    }
   ],
   "source": [
    "# now, lets link the slider and the color picker\n",
    "ipywidgets.link( (cp, 'value'), (islider.style, 'handle_color'))"
   ]
  },
  {
   "cell_type": "code",
   "execution_count": 124,
   "metadata": {},
   "outputs": [
    {
     "data": {
      "application/vnd.jupyter.widget-view+json": {
       "model_id": "91bed19548454885ace0572671c346c1",
       "version_major": 2,
       "version_minor": 0
      },
      "text/plain": [
       "VkJveChjaGlsZHJlbj0oQ29sb3JQaWNrZXIodmFsdWU9dScjZWExZjk2JyksIEludFNsaWRlcih2YWx1ZT0zLCBtYXg9MTAsIG9yaWVudGF0aW9uPXUndmVydGljYWwnLCBzdHlsZT1TbGlkZXLigKY=\n"
      ]
     },
     "metadata": {},
     "output_type": "display_data"
    }
   ],
   "source": [
    "ipywidgets.VBox([cp, islider])\n",
    "# note how previous instances of these\n",
    "# objects are tied together\n",
    "#  also note how the .link function \n",
    "# sort of intuitievly knows how to link these \n",
    "#  two interactive widgets together"
   ]
  },
  {
   "cell_type": "code",
   "execution_count": 126,
   "metadata": {},
   "outputs": [
    {
     "data": {
      "application/vnd.jupyter.widget-view+json": {
       "model_id": "6448654405644dc1b0f076f3b20d6a6b",
       "version_major": 2,
       "version_minor": 0
      },
      "text/plain": [
       "DatePicker(value=None)"
      ]
     },
     "metadata": {},
     "output_type": "display_data"
    }
   ],
   "source": [
    "# just a few more fun examples and then we'll move\n",
    "# on to bqplot\n",
    "\n",
    "# we can create a date picker:\n",
    "ipywidgets.DatePicker()"
   ]
  },
  {
   "cell_type": "code",
   "execution_count": 128,
   "metadata": {},
   "outputs": [
    {
     "data": {
      "application/vnd.jupyter.widget-view+json": {
       "model_id": "fda8c8ef034146119da021ecb6eacd69",
       "version_major": 2,
       "version_minor": 0
      },
      "text/plain": [
       "Play(value=0)"
      ]
     },
     "metadata": {},
     "output_type": "display_data"
    }
   ],
   "source": [
    "# we can also make a widget that does allows\n",
    "#  us to \"press play\" or interact with \n",
    "# playable things like music or animation\n",
    "ipywidgets.Play()\n",
    "# of course, we haven't linked any functions to \n",
    "# it now, but lets try that"
   ]
  },
  {
   "cell_type": "code",
   "execution_count": 134,
   "metadata": {
    "scrolled": true
   },
   "outputs": [
    {
     "data": {
      "application/vnd.jupyter.widget-view+json": {
       "model_id": "9db096a5d6d24e9eaca15a6b389e0639",
       "version_major": 2,
       "version_minor": 0
      },
      "text/plain": [
       "HBox(children=(Play(value=50, description=u'Press Play', interval=50, min=1), IntSlider(value=50, min=1)))"
      ]
     },
     "metadata": {},
     "output_type": "display_data"
    }
   ],
   "source": [
    "# as a quick example, lets link an integer slider to \n",
    "# our play button\n",
    "\n",
    "# first, lets define the range of our play button\n",
    "play = ipywidgets.Play(interval = 50, value = 50, min = 1, max = 100, step = 1, description = \"Press Play\")\n",
    "# so, we start at 50, and create min and max value around that\n",
    "\n",
    "# now, lets create our slider\n",
    "slider = ipywidgets.IntSlider()\n",
    "\n",
    "# now, lets associate the min and max of the play interval\n",
    "#  with the min and max of the integer slider\n",
    "ipywidgets.link((play, 'min'), (slider, 'min'))\n",
    "ipywidgets.link((play, 'max'), (slider, 'max'))\n",
    "ipywidgets.link((play, 'value'), (slider, 'value'))\n",
    "# note that we don't have to tell the .link function\n",
    "# how to link these objects - it knows intuatively\n",
    "# how to link the play widget min & max to the \n",
    "# slider min and max\n",
    "\n",
    "# lets display them side by side\n",
    "ipywidgets.HBox([play, slider])"
   ]
  },
  {
   "cell_type": "code",
   "execution_count": 136,
   "metadata": {},
   "outputs": [
    {
     "data": {
      "application/vnd.jupyter.widget-view+json": {
       "model_id": "4c7493f83afe4f0d9f7b44df0a86eefb",
       "version_major": 2,
       "version_minor": 0
      },
      "text/plain": [
       "IntSlider(value=66, min=1)"
      ]
     },
     "metadata": {},
     "output_type": "display_data"
    }
   ],
   "source": [
    "# note if we display the slider on its own,\n",
    "# its still linked to the play button above\n",
    "slider"
   ]
  },
  {
   "cell_type": "markdown",
   "metadata": {},
   "source": [
    "### Take aways\n",
    "* so, we went through some toy examples for how we can link widgets together\n",
    "* these may have seemed like some silly examples, but these basic ideas are used to build up higher-level interactivity packages like bqplot that we are going to use now"
   ]
  },
  {
   "cell_type": "markdown",
   "metadata": {},
   "source": [
    "# Activity #3: Bqplot!"
   ]
  },
  {
   "cell_type": "code",
   "execution_count": 272,
   "metadata": {},
   "outputs": [],
   "source": [
    "# note: it is possible you will have to pip-install this or anaconda install this\n",
    "#  also: you might have to close and reopen this notebook if when we get to \n",
    "# \"display\" below, no figure pops up\n",
    "\n",
    "# hopefully, you won't have to restart jupyter but maybe\n",
    "\n",
    "import bqplot\n",
    "import numpy as np"
   ]
  },
  {
   "cell_type": "markdown",
   "metadata": {},
   "source": [
    "Now we are going to mess around with some of the declaritive programming type options that bqplot can use.  This will rely heavily on the \"Grammar of Graphics\" constructs."
   ]
  },
  {
   "cell_type": "code",
   "execution_count": 273,
   "metadata": {},
   "outputs": [],
   "source": [
    "# lets first start by creating data elements for our graphic\n",
    "# just some random numbers:\n",
    "x = np.arange(100)\n",
    "y = np.random.random(100) + 5"
   ]
  },
  {
   "cell_type": "code",
   "execution_count": 274,
   "metadata": {},
   "outputs": [],
   "source": [
    "# now we'll define some scale objects which will\n",
    "# determine how lines will be drawn on our canvas\n",
    "x_sc = bqplot.LinearScale()\n",
    "y_sc = bqplot.LinearScale()"
   ]
  },
  {
   "cell_type": "code",
   "execution_count": 275,
   "metadata": {},
   "outputs": [],
   "source": [
    "# now we are going to use GoG type calls to\n",
    "# define what lines to actually draw combining\n",
    "# information about our data and our scales\n",
    "lines = bqplot.Lines(x = x, y = y, scales = {'x': x_sc, 'y': y_sc})"
   ]
  },
  {
   "cell_type": "code",
   "execution_count": 276,
   "metadata": {},
   "outputs": [],
   "source": [
    "# now, we are going to define what axis we want placed around\n",
    "# the lines that we draw\n",
    "# we'll draw both x & y axis\n",
    "ax_x = bqplot.Axis(scale = x_sc, label = 'X Value')\n",
    "ax_y = bqplot.Axis(scale = y_sc, label = 'Y Value', orientation = 'vertical')"
   ]
  },
  {
   "cell_type": "code",
   "execution_count": 278,
   "metadata": {},
   "outputs": [
    {
     "data": {
      "application/vnd.jupyter.widget-view+json": {
       "model_id": "2d43bb8f8a30402abb14f592ec6adc56",
       "version_major": 2,
       "version_minor": 0
      },
      "text/plain": [
       "RmlndXJlKGF4ZXM9W0F4aXMobGFiZWw9dSdYIFZhbHVlJywgc2NhbGU9TGluZWFyU2NhbGUoKSwgc2lkZT11J2JvdHRvbScpLCBBeGlzKGxhYmVsPXUnWSBWYWx1ZScsIG9yaWVudGF0aW9uPSfigKY=\n"
      ]
     },
     "metadata": {},
     "output_type": "display_data"
    }
   ],
   "source": [
    "# finally, we combine all these things together into a \n",
    "# bonified figure:\n",
    "fig = bqplot.Figure(marks = [lines], axes = [ax_x, ax_y])\n",
    "#display(fig)\n",
    "# if you don't see the following fig, here is where\n",
    "#  you might have to close and reopen your notebook\n",
    "fig # note: just \"fig\" instead of \"display(fig)\" may also be an option for you"
   ]
  },
  {
   "cell_type": "code",
   "execution_count": 279,
   "metadata": {},
   "outputs": [],
   "source": [
    "# ok, but this isn't interactive in anyway\n",
    "# lets make it!!\n",
    "pz = bqplot.interacts.PanZoom( scales = {'x': [x_sc], 'y': [y_sc]})"
   ]
  },
  {
   "cell_type": "code",
   "execution_count": 280,
   "metadata": {},
   "outputs": [
    {
     "ename": "NameError",
     "evalue": "name 'display' is not defined",
     "output_type": "error",
     "traceback": [
      "\u001b[0;31m---------------------------------------------------------------------------\u001b[0m",
      "\u001b[0;31mNameError\u001b[0m                                 Traceback (most recent call last)",
      "\u001b[0;32m<ipython-input-280-9a29e271c352>\u001b[0m in \u001b[0;36m<module>\u001b[0;34m()\u001b[0m\n\u001b[1;32m      1\u001b[0m \u001b[0mfig\u001b[0m \u001b[0;34m=\u001b[0m \u001b[0mbqplot\u001b[0m\u001b[0;34m.\u001b[0m\u001b[0mFigure\u001b[0m\u001b[0;34m(\u001b[0m\u001b[0mmarks\u001b[0m \u001b[0;34m=\u001b[0m \u001b[0;34m[\u001b[0m\u001b[0mlines\u001b[0m\u001b[0;34m]\u001b[0m\u001b[0;34m,\u001b[0m \u001b[0maxes\u001b[0m \u001b[0;34m=\u001b[0m \u001b[0;34m[\u001b[0m\u001b[0max_x\u001b[0m\u001b[0;34m,\u001b[0m \u001b[0max_y\u001b[0m\u001b[0;34m]\u001b[0m\u001b[0;34m,\u001b[0m \u001b[0minteraction\u001b[0m \u001b[0;34m=\u001b[0m \u001b[0mpz\u001b[0m\u001b[0;34m)\u001b[0m\u001b[0;34m\u001b[0m\u001b[0m\n\u001b[0;32m----> 2\u001b[0;31m \u001b[0mdisplay\u001b[0m\u001b[0;34m(\u001b[0m\u001b[0mfig\u001b[0m\u001b[0;34m)\u001b[0m\u001b[0;34m\u001b[0m\u001b[0m\n\u001b[0m\u001b[1;32m      3\u001b[0m \u001b[0;31m# note that if I pan and zoom, the figure updates. Ooooo. fancy\u001b[0m\u001b[0;34m\u001b[0m\u001b[0;34m\u001b[0m\u001b[0m\n\u001b[1;32m      4\u001b[0m \u001b[0;31m#  note also, that the above figure also reacts as well\u001b[0m\u001b[0;34m\u001b[0m\u001b[0;34m\u001b[0m\u001b[0m\n\u001b[1;32m      5\u001b[0m \u001b[0;31m# this is because we are using the same lines & ax's objects (I think)\u001b[0m\u001b[0;34m\u001b[0m\u001b[0;34m\u001b[0m\u001b[0m\n",
      "\u001b[0;31mNameError\u001b[0m: name 'display' is not defined"
     ]
    }
   ],
   "source": [
    "fig = bqplot.Figure(marks = [lines], axes = [ax_x, ax_y], interaction = pz)\n",
    "display(fig)\n",
    "# note that if I pan and zoom, the figure updates. Ooooo. fancy\n",
    "#  note also, that the above figure also reacts as well\n",
    "# this is because we are using the same lines & ax's objects (I think)"
   ]
  },
  {
   "cell_type": "code",
   "execution_count": 281,
   "metadata": {},
   "outputs": [],
   "source": [
    "# lets see an example of where this can fail\n",
    "\n",
    "# first lets make an x from 0-10 in 100 steps\n",
    "x = np.mgrid[0.0:10.0:100j]\n",
    "# and 2 y variables\n",
    "y1 = x * 2\n",
    "y2 = x**2"
   ]
  },
  {
   "cell_type": "code",
   "execution_count": 282,
   "metadata": {},
   "outputs": [],
   "source": [
    "x_sc = bqplot.LinearScale(min = 1, max = 10)\n",
    "# lets do one y-scale over linear and 1 over log\n",
    "y_sc1 = bqplot.LinearScale(min = 1, max = 20)\n",
    "y_sc2 = bqplot.LogScale(min = 1, max = 100)"
   ]
  },
  {
   "cell_type": "code",
   "execution_count": 283,
   "metadata": {},
   "outputs": [],
   "source": [
    "# lets genrate lines for each y value\n",
    "lines1 = bqplot.Lines(x = x, y = y1, scales = {'x': x_sc, 'y': y_sc1})\n",
    "lines2 = bqplot.Lines(x = x, y = y2, scales = {'x': x_sc, 'y': y_sc2})"
   ]
  },
  {
   "cell_type": "code",
   "execution_count": 284,
   "metadata": {},
   "outputs": [],
   "source": [
    "# and lets plot an x axis like before\n",
    "ax_x = bqplot.Axis(scale = x_sc, label = 'X Value')\n",
    "# and one y axis on the left\n",
    "ax_y1 = bqplot.Axis(scale = y_sc1, label = 'Y1 Value', \n",
    "                    orientation = 'vertical')\n",
    "# and one y-axis on the right\n",
    "ax_y2 = bqplot.Axis(scale = y_sc2, label = 'Y2 Value', \n",
    "                    orientation = 'vertical', side = 'right')"
   ]
  },
  {
   "cell_type": "code",
   "execution_count": 286,
   "metadata": {},
   "outputs": [
    {
     "data": {
      "application/vnd.jupyter.widget-view+json": {
       "model_id": "36fa30f55d9f45a8934086669abd4f5a",
       "version_major": 2,
       "version_minor": 0
      },
      "text/plain": [
       "RmlndXJlKGF4ZXM9W0F4aXMobGFiZWw9dSdYIFZhbHVlJywgc2NhbGU9TGluZWFyU2NhbGUobWF4PTEwLjAsIG1pbj0xLjApLCBzaWRlPXUnYm90dG9tJyksIEF4aXMobGFiZWw9dSdZMSBWYWzigKY=\n"
      ]
     },
     "metadata": {},
     "output_type": "display_data"
    }
   ],
   "source": [
    "# lets allow pan and zoom\n",
    "pz = bqplot.interacts.PanZoom(scales = {'x': [x_sc], \n",
    "                                        'y': [y_sc1, y_sc2]})\n",
    "#bqplot.interacts.PanZoom?\n",
    "fig = bqplot.Figure(marks = [lines1, lines2], \n",
    "                    axes = [ax_x, ax_y1, ax_y2], interaction=pz)\n",
    "#display(fig)\n",
    "fig\n",
    "# now we note if we zoom out too far, or pan to too negative of the x-axis\n",
    "# we lose a line\n",
    "\n",
    "# why? because the line is log-scaled, and log(numbers < 0) is undefined\n",
    "\n",
    "# this is a way in which declaritive programming can fail because there\n",
    "#  aren't obvious options to inhibit pan&zoom to a positive range"
   ]
  },
  {
   "cell_type": "markdown",
   "metadata": {},
   "source": [
    "FYI lots of more fun notebooks here: https://github.com/dmadeka/PyGotham-2017\n",
    "\n",
    "From video tutorial here: https://www.youtube.com/watch?v=rraXF0EjRC8"
   ]
  },
  {
   "cell_type": "code",
   "execution_count": 287,
   "metadata": {},
   "outputs": [],
   "source": [
    "# ok, lets do another quick interactive example using a scatter plot\n",
    "x = np.random.random(100)\n",
    "y = np.random.random(100)"
   ]
  },
  {
   "cell_type": "code",
   "execution_count": 288,
   "metadata": {},
   "outputs": [],
   "source": [
    "x_sc = bqplot.LinearScale()\n",
    "y_sc = bqplot.LinearScale()\n",
    "\n",
    "x_ax = bqplot.Axis(scale = x_sc, label = 'X')\n",
    "y_ax = bqplot.Axis(scale = y_sc, label = 'Y', orientation = 'vertical')"
   ]
  },
  {
   "cell_type": "code",
   "execution_count": 289,
   "metadata": {},
   "outputs": [],
   "source": [
    "scatters = bqplot.Scatter(x = x,\n",
    "                          y = y,\n",
    "                          scales = {'x': x_sc, 'y': y_sc})"
   ]
  },
  {
   "cell_type": "code",
   "execution_count": 290,
   "metadata": {},
   "outputs": [
    {
     "ename": "NameError",
     "evalue": "name 'display' is not defined",
     "output_type": "error",
     "traceback": [
      "\u001b[0;31m---------------------------------------------------------------------------\u001b[0m",
      "\u001b[0;31mNameError\u001b[0m                                 Traceback (most recent call last)",
      "\u001b[0;32m<ipython-input-290-44b321491378>\u001b[0m in \u001b[0;36m<module>\u001b[0;34m()\u001b[0m\n\u001b[1;32m      7\u001b[0m \u001b[0;31m# note we are selecing along the x-scale\u001b[0m\u001b[0;34m\u001b[0m\u001b[0;34m\u001b[0m\u001b[0m\n\u001b[1;32m      8\u001b[0m \u001b[0mfig\u001b[0m \u001b[0;34m=\u001b[0m \u001b[0mbqplot\u001b[0m\u001b[0;34m.\u001b[0m\u001b[0mFigure\u001b[0m\u001b[0;34m(\u001b[0m\u001b[0mmarks\u001b[0m \u001b[0;34m=\u001b[0m \u001b[0;34m[\u001b[0m\u001b[0mscatters\u001b[0m\u001b[0;34m]\u001b[0m\u001b[0;34m,\u001b[0m \u001b[0maxes\u001b[0m \u001b[0;34m=\u001b[0m \u001b[0;34m[\u001b[0m\u001b[0mx_ax\u001b[0m\u001b[0;34m,\u001b[0m \u001b[0my_ax\u001b[0m\u001b[0;34m]\u001b[0m\u001b[0;34m,\u001b[0m \u001b[0minteraction\u001b[0m \u001b[0;34m=\u001b[0m \u001b[0mselector\u001b[0m\u001b[0;34m)\u001b[0m\u001b[0;34m\u001b[0m\u001b[0m\n\u001b[0;32m----> 9\u001b[0;31m \u001b[0mdisplay\u001b[0m\u001b[0;34m(\u001b[0m\u001b[0mfig\u001b[0m\u001b[0;34m)\u001b[0m\u001b[0;34m\u001b[0m\u001b[0m\n\u001b[0m\u001b[1;32m     10\u001b[0m \u001b[0;31m# this might depend on what computer you are in, but on my mac, I click\u001b[0m\u001b[0;34m\u001b[0m\u001b[0;34m\u001b[0m\u001b[0m\n\u001b[1;32m     11\u001b[0m \u001b[0;31m#  to start selecting and then double click to \"lock in\" my selected\u001b[0m\u001b[0;34m\u001b[0m\u001b[0;34m\u001b[0m\u001b[0m\n",
      "\u001b[0;31mNameError\u001b[0m: name 'display' is not defined"
     ]
    }
   ],
   "source": [
    "# now, lets create a selector to select points along the x-axis\n",
    "selector = bqplot.interacts.FastIntervalSelector(\n",
    "            scale = x_sc, marks = [scatters]) \n",
    "# we can also highlight what points we are selecting\n",
    "scatters.unselected_style={'opacity': 0.8}\n",
    "scatters.selected_style={'fill': 'red', 'stroke': 'yellow'}\n",
    "# note we are selecing along the x-scale\n",
    "fig = bqplot.Figure(marks = [scatters], axes = [x_ax, y_ax], interaction = selector)\n",
    "display(fig)\n",
    "# this might depend on what computer you are in, but on my mac, I click\n",
    "#  to start selecting and then double click to \"lock in\" my selected\n",
    "# region"
   ]
  },
  {
   "cell_type": "code",
   "execution_count": 291,
   "metadata": {},
   "outputs": [],
   "source": [
    "# we can then print out what region is selected\n",
    "selector.selected"
   ]
  },
  {
   "cell_type": "code",
   "execution_count": null,
   "metadata": {},
   "outputs": [],
   "source": []
  },
  {
   "cell_type": "code",
   "execution_count": 292,
   "metadata": {},
   "outputs": [],
   "source": [
    "# now, lets try some interactive histogramming of our buildings data\n",
    "import pandas as pd\n",
    "buildings = pd.read_csv(\"/Users/jillnaiman1/Downloads/building_inventory.csv\",\n",
    "                        na_values = {'Year Acquired': 0, \n",
    "                                     'Year Constructed': 0, \n",
    "                                     'Square Footage': 0})"
   ]
  },
  {
   "cell_type": "code",
   "execution_count": 294,
   "metadata": {},
   "outputs": [
    {
     "data": {
      "application/vnd.jupyter.widget-view+json": {
       "model_id": "44dd47c6cfa044cba27b449701929d1a",
       "version_major": 2,
       "version_minor": 0
      },
      "text/plain": [
       "VkJveChjaGlsZHJlbj0oRmlndXJlKGF4ZXM9W0F4aXMoc2NhbGU9TGluZWFyU2NhbGUoKSksIEF4aXMob3JpZW50YXRpb249J3ZlcnRpY2FsJywgc2NhbGU9TGluZWFyU2NhbGUoKSldLCBmaWfigKY=\n"
      ]
     },
     "metadata": {},
     "output_type": "display_data"
    }
   ],
   "source": [
    "# since buildings is our data, we don't have to do anything\n",
    "#  with that, but we do need to create our scales and \n",
    "# axes like we've been doing before:\n",
    "# (1)\n",
    "x_sc = bqplot.LinearScale()\n",
    "y_sc = bqplot.LinearScale()\n",
    "x_ax = bqplot.Axis(scale = x_sc)\n",
    "y_ax = bqplot.Axis(scale = y_sc, orientation = 'vertical')\n",
    "\n",
    "# (2) now, lets do an interactive rebinning, but lets\n",
    "# use bqplot and a slider widget to do it\n",
    "hist = bqplot.Hist(sample = buildings[\"Year Acquired\"],\n",
    "            scales = {'sample': x_sc, 'count': y_sc},\n",
    "                   bins = 128, normalized = True,\n",
    "                   colors = [\"#FFFFFF\"])\n",
    "\n",
    "# lets also create a slider like we've done before\n",
    "islider = ipywidgets.IntSlider(min = 8, max = 128, step = 1)\n",
    "# and lets link our sider and our bins of our histogram\n",
    "ipywidgets.link((islider, 'value'), (hist, 'bins'))\n",
    "# construct a fig\n",
    "#fig = bqplot.Figure(marks = [hist], axes = [x_ax, y_ax])\n",
    "# ***RUN NEXT CELL BEFORE ADDING 2ND HIST\n",
    "\n",
    "# (3) ok, but maybe we want to see our original histogram\n",
    "#  underneath, lets add this to our figure\n",
    "hist2 = bqplot.Hist(sample = buildings[\"Year Acquired\"],\n",
    "                   opacity = 0.1, normalized = True,\n",
    "            scales = {'sample': x_sc, 'count': y_sc},\n",
    "                  bins = 128)\n",
    "fig = bqplot.Figure(marks = [hist, hist2], axes = [x_ax, y_ax])\n",
    "\n",
    "# for 2 & 3\n",
    "#display(ipywidgets.VBox([fig, islider]))\n",
    "ipywidgets.VBox([fig, islider])"
   ]
  },
  {
   "cell_type": "markdown",
   "metadata": {},
   "source": [
    "# Activity #4: Wealth of Nations plot\n",
    "* originially from the TedTalk: https://www.ted.com/talks/hans_rosling_shows_the_best_stats_you_ve_ever_seen\n",
    "* found on Rosling's website: https://www.ted.com/talks/hans_rosling_shows_the_best_stats_you_ve_ever_seen\n",
    "* We're going to make a tool similar to GapMinders:https://www.gapminder.org/world/\n",
    "* Much of this is, in more detail, in the PyGothum-2017 github: https://github.com/dmadeka/PyGotham-2017 \n",
    "* This will talk to javascript on the backend to mimic the output of another plotting package d3.js, but we don't have to learn about d3.js (just now) and can instead rely on our current Python knowledge"
   ]
  },
  {
   "cell_type": "code",
   "execution_count": 1,
   "metadata": {},
   "outputs": [],
   "source": [
    "# import pandas if we have not\n",
    "import pandas as pd\n",
    "\n",
    "# lets start off our plot at the initial year of 1800\n",
    "initial_year = 1800"
   ]
  },
  {
   "cell_type": "code",
   "execution_count": 21,
   "metadata": {},
   "outputs": [
    {
     "data": {
      "text/plain": [
       "Index([u'income', u'lifeExpectancy', u'name', u'population', u'region'], dtype='object')"
      ]
     },
     "execution_count": 21,
     "metadata": {},
     "output_type": "execute_result"
    }
   ],
   "source": [
    "# we'll read in our datafile and apply \n",
    "# some pre-written cleaning routines \n",
    "# get out the data we want for our plotting\n",
    "from wealth_of_nations import process_data, get_min_max, get_data\n",
    "\n",
    "# grab data\n",
    "data = process_data('/Users/jillnaiman1/Downloads/nations.json')\n",
    "\n",
    "data"
   ]
  },
  {
   "cell_type": "code",
   "execution_count": 3,
   "metadata": {},
   "outputs": [],
   "source": [
    "# grab min & max values of our variables of interest\n",
    "income_min, income_max, life_exp_min, life_exp_max, pop_min, pop_max = get_min_max(data)"
   ]
  },
  {
   "cell_type": "code",
   "execution_count": 6,
   "metadata": {},
   "outputs": [],
   "source": [
    "# lets allow for a mouse-over interaction\n",
    "# for silly:\n",
    "import bqplot\n",
    "tt = bqplot.Tooltip(fields=['name', 'x', 'y'], \n",
    "                    labels=['Country Name', \n",
    "                            'Income per Capita', 'Life Expectancy'])\n",
    "#bqplot.Tooltip?"
   ]
  },
  {
   "cell_type": "code",
   "execution_count": 7,
   "metadata": {},
   "outputs": [],
   "source": [
    "# we will label what year is being plotted, just like in the Gabminder plot\n",
    "year_label = bqplot.Label(x=[0.75], y=[0.10], \n",
    "                   font_size=52, font_weight='bolder', \n",
    "                   colors=['orange'],\n",
    "                   text=[str(initial_year)], enable_move=True)"
   ]
  },
  {
   "cell_type": "code",
   "execution_count": 8,
   "metadata": {},
   "outputs": [],
   "source": [
    "# we'll define our scales like before\n",
    "# here we scale our x & y axis to the scales of the min and max of our data\n",
    "x_sc = bqplot.LogScale(min=income_min, max=income_max)\n",
    "y_sc = bqplot.LinearScale(min=life_exp_min, max=life_exp_max)\n",
    "\n",
    "# this is just something to color-code each circle by the region it corresponds to\n",
    "#  (for example, asia, south america, africa, etc)\n",
    "# the colors call is just mapping each catagorical variable to a color\n",
    "c_sc = bqplot.OrdinalColorScale(domain=data['region'].unique().tolist(), \n",
    "                                colors=bqplot.CATEGORY10[:6])\n",
    "\n",
    "# finally, we want the size of each of our dots to correspond to the population of \n",
    "# each country\n",
    "#size_sc = bqplot.LinearScale(min=pop_min, max=pop_max)#, mid_range=0.1)\n",
    "size_sc = bqplot.LinearScale(max=1326856173.0, min=2128.0)\n",
    "#bqplot.LinearScale?"
   ]
  },
  {
   "cell_type": "code",
   "execution_count": 9,
   "metadata": {},
   "outputs": [],
   "source": [
    "# create and label our x & y axis\n",
    "ax_y = bqplot.Axis(label='Life Expectancy', scale=y_sc, \n",
    "                   orientation='vertical', side='left', \n",
    "                   grid_lines='solid')\n",
    "ax_x = bqplot.Axis(label='Income per Capita', scale=x_sc, \n",
    "                   grid_lines='solid')"
   ]
  },
  {
   "cell_type": "code",
   "execution_count": 10,
   "metadata": {},
   "outputs": [],
   "source": [
    "# now we'll use another little function from our library above to grab\n",
    "# data for our initial setup (year = 1800)\n",
    "# Start with the first year's data\n",
    "cap_income, life_exp, pop = get_data(data,initial_year,initial_year)"
   ]
  },
  {
   "cell_type": "code",
   "execution_count": 11,
   "metadata": {},
   "outputs": [],
   "source": [
    "# now lets make our scatter plot!\n",
    "wealth_scat = bqplot.Scatter(x=cap_income, y=life_exp, \n",
    "                             color=data['region'], size=pop,\n",
    "                      names=data['name'], display_names=False,\n",
    "                      scales={'x': x_sc, 'y': y_sc, 'color': c_sc, \n",
    "                              'size': size_sc},\n",
    "                      default_size=4112, tooltip=tt, \n",
    "                             animate=True, stroke='Black',\n",
    "                      unhovered_style={'opacity': 0.5})\n",
    "# much of these calls are things we've seen before, others will allow fun things \n",
    "#  like animation and also the ability to click on our plot and interact with it"
   ]
  },
  {
   "cell_type": "code",
   "execution_count": 12,
   "metadata": {},
   "outputs": [],
   "source": [
    "# for our initial, 1800 view, we'll just allow the first \"line\" of the evolution of the \n",
    "# each nation's track to be displayed... this is essentially a place holder (visible = false)\n",
    "nation_line = bqplot.Lines(x=data['income'][0], \n",
    "                           y=data['lifeExpectancy'][0], \n",
    "                           colors=['Gray'],\n",
    "                       scales={'x': x_sc, 'y': y_sc}, visible=False)"
   ]
  },
  {
   "cell_type": "code",
   "execution_count": 13,
   "metadata": {},
   "outputs": [],
   "source": [
    "# milliseconds of time between changes we make\n",
    "time_interval = 10"
   ]
  },
  {
   "cell_type": "code",
   "execution_count": 14,
   "metadata": {},
   "outputs": [],
   "source": [
    "# create the figure & \n",
    "fig = bqplot.Figure(marks=[wealth_scat, year_label, nation_line], \n",
    "                    axes=[ax_x, ax_y],\n",
    "             title='Health and Wealth of Nations', \n",
    "                    animation_duration=time_interval)\n",
    "\n",
    "# lets control the size in pixels too\n",
    "fig.layout.min_width = '960px'\n",
    "fig.layout.min_height = '640px'"
   ]
  },
  {
   "cell_type": "code",
   "execution_count": 15,
   "metadata": {},
   "outputs": [],
   "source": [
    "# we'll use our friend the int slider to slide through years\n",
    "# for silly:\n",
    "import ipywidgets\n",
    "year_slider = ipywidgets.IntSlider(min=1800, max=2008, step=1, description='Year', value=initial_year)"
   ]
  },
  {
   "cell_type": "code",
   "execution_count": 16,
   "metadata": {},
   "outputs": [],
   "source": [
    "# make sure we define what happens when we change the year on our slider\n",
    "def year_changed(change):\n",
    "    wealth_scat.x, wealth_scat.y, wealth_scat.size = get_data(data,year_slider.value,initial_year)\n",
    "    #wealth_scat.size+=1000\n",
    "    year_label.text = [str(year_slider.value)]\n",
    "\n",
    "year_slider.observe(year_changed, 'value')"
   ]
  },
  {
   "cell_type": "code",
   "execution_count": 17,
   "metadata": {},
   "outputs": [],
   "source": [
    "# now we'll say what happens when we hover over an object\n",
    "# we'll use \"change\" again to make it such that if a \n",
    "# user hovers over a country, the countries \"life line\" \n",
    "#  is visible\n",
    "def hover_changed(change):\n",
    "    if change.new is not None:\n",
    "        nation_line.x = data['income'][change.new + 1]\n",
    "        nation_line.y = data['lifeExpectancy'][change.new + 1]\n",
    "        nation_line.visible = True\n",
    "    else:\n",
    "        nation_line.visible = False\n",
    "        \n",
    "wealth_scat.observe(hover_changed, 'hovered_point')"
   ]
  },
  {
   "cell_type": "code",
   "execution_count": 18,
   "metadata": {},
   "outputs": [],
   "source": [
    "# finally, lets add a little play button so we can animate\n",
    "#  what happens in time, just like on the d3.js plot\n",
    "play_button = ipywidgets.Play(min=1800, max=2008, interval=time_interval)\n",
    "# note, we use \"jslink\" because the \"backend\" here is javascript\n",
    "#  bqplot is just interacting with javascript\n",
    "ipywidgets.jslink((play_button, 'value'), (year_slider, 'value'))"
   ]
  },
  {
   "cell_type": "code",
   "execution_count": 19,
   "metadata": {},
   "outputs": [
    {
     "data": {
      "application/vnd.jupyter.widget-view+json": {
       "model_id": "11e590a9741e4be18898998c90f23422",
       "version_major": 2,
       "version_minor": 0
      },
      "text/plain": [
       "VkJveChjaGlsZHJlbj0oSEJveChjaGlsZHJlbj0oUGxheSh2YWx1ZT0xODAwLCBpbnRlcnZhbD0xMCwgbWF4PTIwMDgsIG1pbj0xODAwKSwgSW50U2xpZGVyKHZhbHVlPTE4MDAsIGRlc2NyaXDigKY=\n"
      ]
     },
     "metadata": {},
     "output_type": "display_data"
    }
   ],
   "source": [
    "# finally, lets put it all together!!\n",
    "\n",
    "ipywidgets.VBox([ipywidgets.HBox([play_button, year_slider]), fig])"
   ]
  },
  {
   "cell_type": "code",
   "execution_count": 20,
   "metadata": {},
   "outputs": [
    {
     "data": {
      "text/plain": [
       "(2128.0, 1326856173.0)"
      ]
     },
     "execution_count": 20,
     "metadata": {},
     "output_type": "execute_result"
    }
   ],
   "source": [
    "pop_min, pop_max"
   ]
  },
  {
   "cell_type": "code",
   "execution_count": 2,
   "metadata": {},
   "outputs": [],
   "source": [
    "import bqplot\n",
    "bqplot.Tooltip?"
   ]
  },
  {
   "cell_type": "code",
   "execution_count": null,
   "metadata": {},
   "outputs": [],
   "source": []
  }
 ],
 "metadata": {
  "kernelspec": {
   "display_name": "Python 3",
   "language": "python",
   "name": "python3"
  },
  "language_info": {
   "codemirror_mode": {
    "name": "ipython",
    "version": 3
   },
   "file_extension": ".py",
   "mimetype": "text/x-python",
   "name": "python",
   "nbconvert_exporter": "python",
   "pygments_lexer": "ipython3",
   "version": "3.6.8"
  }
 },
 "nbformat": 4,
 "nbformat_minor": 2
}
