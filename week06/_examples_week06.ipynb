{
 "cells": [
  {
   "cell_type": "code",
   "execution_count": 1,
   "metadata": {},
   "outputs": [],
   "source": [
    "import traitlets"
   ]
  },
  {
   "cell_type": "code",
   "execution_count": 2,
   "metadata": {},
   "outputs": [],
   "source": [
    "class MyObject(traitlets.HasTraits):\n",
    "    name = traitlets.Unicode(\"unnamed\")\n",
    "    age = traitlets.Int(0)"
   ]
  },
  {
   "cell_type": "code",
   "execution_count": 3,
   "metadata": {},
   "outputs": [],
   "source": [
    "my_obj = MyObject()"
   ]
  },
  {
   "cell_type": "code",
   "execution_count": 4,
   "metadata": {},
   "outputs": [
    {
     "data": {
      "text/plain": [
       "(u'unnamed', 0)"
      ]
     },
     "execution_count": 4,
     "metadata": {},
     "output_type": "execute_result"
    }
   ],
   "source": [
    "my_obj.name, my_obj.age"
   ]
  },
  {
   "cell_type": "code",
   "execution_count": 5,
   "metadata": {},
   "outputs": [],
   "source": [
    "obj2 = MyObject(name = \"Weezer\", age = 26)"
   ]
  },
  {
   "cell_type": "code",
   "execution_count": 6,
   "metadata": {},
   "outputs": [],
   "source": [
    "def name_changed(change):\n",
    "    print(change['new'])\n",
    "\n",
    "my_obj.observe(name_changed, ['name'])"
   ]
  },
  {
   "cell_type": "code",
   "execution_count": 7,
   "metadata": {},
   "outputs": [
    {
     "name": "stdout",
     "output_type": "stream",
     "text": [
      "Nerf Herder\n"
     ]
    }
   ],
   "source": [
    "my_obj.name = \"Nerf Herder\""
   ]
  },
  {
   "cell_type": "code",
   "execution_count": 8,
   "metadata": {},
   "outputs": [],
   "source": [
    "def name_changed2(change):\n",
    "    print(\"I just changed '%s' to '%s'\" % (change['old'], change['new']))\n",
    "\n",
    "obj2.observe(name_changed2, ['name'])"
   ]
  },
  {
   "cell_type": "code",
   "execution_count": 9,
   "metadata": {},
   "outputs": [
    {
     "name": "stdout",
     "output_type": "stream",
     "text": [
      "I just changed 'Weezer' to 'Mustard Plug'\n"
     ]
    }
   ],
   "source": [
    "obj2.name = \"Mustard Plug\""
   ]
  },
  {
   "cell_type": "code",
   "execution_count": 10,
   "metadata": {},
   "outputs": [],
   "source": [
    "obj3 = MyObject()"
   ]
  },
  {
   "cell_type": "code",
   "execution_count": 11,
   "metadata": {},
   "outputs": [],
   "source": [
    "def trait_change(change):\n",
    "    print(\"Change dictionary\", change)\n",
    "\n",
    "obj3.observe(trait_change)"
   ]
  },
  {
   "cell_type": "code",
   "execution_count": 12,
   "metadata": {},
   "outputs": [
    {
     "name": "stdout",
     "output_type": "stream",
     "text": [
      "('Change dictionary', {'owner': <__main__.MyObject object at 0x10238b290>, 'new': u'Something Else', 'old': u'unnamed', 'name': 'name', 'type': 'change'})\n"
     ]
    }
   ],
   "source": [
    "obj3.name = \"Something Else\""
   ]
  },
  {
   "cell_type": "code",
   "execution_count": 13,
   "metadata": {},
   "outputs": [
    {
     "name": "stdout",
     "output_type": "stream",
     "text": [
      "('Change dictionary', {'owner': <__main__.MyObject object at 0x10238b290>, 'new': 10, 'old': 0, 'name': 'age', 'type': 'change'})\n"
     ]
    }
   ],
   "source": [
    "obj3.age = 10"
   ]
  },
  {
   "cell_type": "code",
   "execution_count": 14,
   "metadata": {},
   "outputs": [
    {
     "data": {
      "text/plain": [
       "'String formatting is sticking stuff in the middle: 10.13500'"
      ]
     },
     "execution_count": 14,
     "metadata": {},
     "output_type": "execute_result"
    }
   ],
   "source": [
    "\"String formatting is sticking stuff %s the middle: %0.5f\" % (\"in\", 10.135)"
   ]
  },
  {
   "cell_type": "code",
   "execution_count": 15,
   "metadata": {},
   "outputs": [
    {
     "data": {
      "text/plain": [
       "'The nicer way is to do this, see'"
      ]
     },
     "execution_count": 15,
     "metadata": {},
     "output_type": "execute_result"
    }
   ],
   "source": [
    "\"{2} nicer way {0} to do this, {1}\".format(\"is\", \"see\", \"The\")"
   ]
  },
  {
   "cell_type": "code",
   "execution_count": 16,
   "metadata": {},
   "outputs": [
    {
     "data": {
      "application/vnd.jupyter.widget-view+json": {
       "model_id": "7765b1ce4dc344cfa2cb10951761e060",
       "version_major": 2,
       "version_minor": 0
      },
      "text/plain": [
       "aW50ZXJhY3RpdmUoY2hpbGRyZW49KERyb3Bkb3duKGRlc2NyaXB0aW9uPXUnbmFtZScsIG9wdGlvbnM9KCdXZWV6ZXInLCAnTmVyZiBIZXJkZXInLCAnTXVzdGFyZCBQbHVnJyksIHZhbHVlPSfigKY=\n"
      ]
     },
     "metadata": {},
     "output_type": "display_data"
    }
   ],
   "source": [
    "import ipywidgets\n",
    "\n",
    "@ipywidgets.interact(name = ['Weezer', 'Nerf Herder', 'Mustard Plug'])\n",
    "def print_bandname(name):\n",
    "    print(name)"
   ]
  },
  {
   "cell_type": "code",
   "execution_count": 17,
   "metadata": {},
   "outputs": [],
   "source": [
    "itext = ipywidgets.IntText()"
   ]
  },
  {
   "cell_type": "code",
   "execution_count": 18,
   "metadata": {},
   "outputs": [
    {
     "data": {
      "application/vnd.jupyter.widget-view+json": {
       "model_id": "4db69b9929fd4d77bd3b3531945f9005",
       "version_major": 2,
       "version_minor": 0
      },
      "text/plain": [
       "IntText(value=0)"
      ]
     },
     "metadata": {},
     "output_type": "display_data"
    }
   ],
   "source": [
    "# added:\n",
    "from IPython.display import display\n",
    "display(itext)"
   ]
  },
  {
   "cell_type": "code",
   "execution_count": 19,
   "metadata": {},
   "outputs": [
    {
     "data": {
      "application/vnd.jupyter.widget-view+json": {
       "model_id": "4db69b9929fd4d77bd3b3531945f9005",
       "version_major": 2,
       "version_minor": 0
      },
      "text/plain": [
       "IntText(value=0)"
      ]
     },
     "metadata": {},
     "output_type": "display_data"
    }
   ],
   "source": [
    "display(itext)"
   ]
  },
  {
   "cell_type": "code",
   "execution_count": 20,
   "metadata": {},
   "outputs": [
    {
     "data": {
      "text/plain": [
       "0"
      ]
     },
     "execution_count": 20,
     "metadata": {},
     "output_type": "execute_result"
    }
   ],
   "source": [
    "itext.value"
   ]
  },
  {
   "cell_type": "code",
   "execution_count": 21,
   "metadata": {},
   "outputs": [],
   "source": [
    "itext.value = 10"
   ]
  },
  {
   "cell_type": "code",
   "execution_count": 22,
   "metadata": {},
   "outputs": [],
   "source": [
    "ip = ipywidgets.IntProgress()"
   ]
  },
  {
   "cell_type": "code",
   "execution_count": 23,
   "metadata": {},
   "outputs": [
    {
     "data": {
      "application/vnd.jupyter.widget-view+json": {
       "model_id": "8a9e9affef49459f8994d93577d7dbdc",
       "version_major": 2,
       "version_minor": 0
      },
      "text/plain": [
       "IntProgress(value=0)"
      ]
     },
     "metadata": {},
     "output_type": "display_data"
    }
   ],
   "source": [
    "display(ip)"
   ]
  },
  {
   "cell_type": "code",
   "execution_count": 24,
   "metadata": {},
   "outputs": [],
   "source": [
    "ip.value = 90"
   ]
  },
  {
   "cell_type": "code",
   "execution_count": 25,
   "metadata": {},
   "outputs": [],
   "source": [
    "irange = ipywidgets.IntRangeSlider(min = -10, max = 10, step = 1)"
   ]
  },
  {
   "cell_type": "code",
   "execution_count": 26,
   "metadata": {},
   "outputs": [
    {
     "data": {
      "application/vnd.jupyter.widget-view+json": {
       "model_id": "97115252cd52439e956604d41d7534f4",
       "version_major": 2,
       "version_minor": 0
      },
      "text/plain": [
       "IntRangeSlider(value=(-5, 5), max=10, min=-10)"
      ]
     },
     "metadata": {},
     "output_type": "display_data"
    }
   ],
   "source": [
    "display(irange)"
   ]
  },
  {
   "cell_type": "code",
   "execution_count": 27,
   "metadata": {},
   "outputs": [
    {
     "data": {
      "text/plain": [
       "(-5, 5)"
      ]
     },
     "execution_count": 27,
     "metadata": {},
     "output_type": "execute_result"
    }
   ],
   "source": [
    "irange.value"
   ]
  },
  {
   "cell_type": "code",
   "execution_count": 28,
   "metadata": {},
   "outputs": [
    {
     "data": {
      "text/plain": [
       "<traitlets.traitlets.link at 0x10238ba50>"
      ]
     },
     "execution_count": 28,
     "metadata": {},
     "output_type": "execute_result"
    }
   ],
   "source": [
    "m = MyObject(name = \"Weezer\", age = 26)\n",
    "l = ipywidgets.Label()\n",
    "ipywidgets.link( (m, \"name\"), (l, \"value\") )"
   ]
  },
  {
   "cell_type": "code",
   "execution_count": 29,
   "metadata": {},
   "outputs": [
    {
     "data": {
      "application/vnd.jupyter.widget-view+json": {
       "model_id": "dde1fd4e871d47299f49698916376755",
       "version_major": 2,
       "version_minor": 0
      },
      "text/plain": [
       "Label(value=u'Weezer')"
      ]
     },
     "metadata": {},
     "output_type": "display_data"
    }
   ],
   "source": [
    "display(l)"
   ]
  },
  {
   "cell_type": "code",
   "execution_count": 30,
   "metadata": {},
   "outputs": [],
   "source": [
    "m.name = \"Nerf Herder\""
   ]
  },
  {
   "cell_type": "code",
   "execution_count": 31,
   "metadata": {},
   "outputs": [],
   "source": [
    "button1 = ipywidgets.Button(description = \"Cow Clicker\")"
   ]
  },
  {
   "cell_type": "code",
   "execution_count": 32,
   "metadata": {},
   "outputs": [
    {
     "data": {
      "application/vnd.jupyter.widget-view+json": {
       "model_id": "f60179b70cd044bb8f287a3d90674a0b",
       "version_major": 2,
       "version_minor": 0
      },
      "text/plain": [
       "Button(description=u'Cow Clicker', style=ButtonStyle())"
      ]
     },
     "metadata": {},
     "output_type": "display_data"
    }
   ],
   "source": [
    "display(button1)"
   ]
  },
  {
   "cell_type": "code",
   "execution_count": 33,
   "metadata": {},
   "outputs": [],
   "source": [
    "def say_click(event):\n",
    "    print(\"Click.\")"
   ]
  },
  {
   "cell_type": "code",
   "execution_count": 34,
   "metadata": {},
   "outputs": [],
   "source": [
    "button1.on_click(say_click)"
   ]
  },
  {
   "cell_type": "code",
   "execution_count": 35,
   "metadata": {},
   "outputs": [],
   "source": [
    "ta1 = ipywidgets.Textarea(\"Hi, this is a box of text. (1)\")\n",
    "\n",
    "ta2 = ipywidgets.Textarea(\"Hi, this is a box of text. (2)\")\n",
    "\n",
    "ta3 = ipywidgets.Textarea(\"Hi, this is a box of text. (3)\")\n",
    "\n",
    "ta4 = ipywidgets.Textarea(\"Hi, this is a box of text. (4)\")"
   ]
  },
  {
   "cell_type": "code",
   "execution_count": 36,
   "metadata": {},
   "outputs": [
    {
     "data": {
      "application/vnd.jupyter.widget-view+json": {
       "model_id": "74859e7ee18b4ff0b8c4865ecd55a125",
       "version_major": 2,
       "version_minor": 0
      },
      "text/plain": [
       "Textarea(value=u'Hi, this is a box of text. (1)')"
      ]
     },
     "metadata": {},
     "output_type": "display_data"
    }
   ],
   "source": [
    "display(ta1)"
   ]
  },
  {
   "cell_type": "code",
   "execution_count": 37,
   "metadata": {},
   "outputs": [],
   "source": [
    "tabs = ipywidgets.Tab([ta1, ta2, ta3, ta4])"
   ]
  },
  {
   "cell_type": "code",
   "execution_count": 38,
   "metadata": {},
   "outputs": [
    {
     "data": {
      "application/vnd.jupyter.widget-view+json": {
       "model_id": "12244c5cae6c44e683b056887c5df0b5",
       "version_major": 2,
       "version_minor": 0
      },
      "text/plain": [
       "VGFiKGNoaWxkcmVuPShUZXh0YXJlYSh2YWx1ZT11J0hpLCB0aGlzIGlzIGEgYm94IG9mIHRleHQuICgxKScpLCBUZXh0YXJlYSh2YWx1ZT11J0hpLCB0aGlzIGlzIGEgYm94IG9mIHRleHQuICjigKY=\n"
      ]
     },
     "metadata": {},
     "output_type": "display_data"
    }
   ],
   "source": [
    "display(tabs)"
   ]
  },
  {
   "cell_type": "code",
   "execution_count": 39,
   "metadata": {},
   "outputs": [],
   "source": [
    "acc = ipywidgets.Accordion([ta1, ta2, ta3, ta4])"
   ]
  },
  {
   "cell_type": "code",
   "execution_count": 40,
   "metadata": {},
   "outputs": [
    {
     "data": {
      "application/vnd.jupyter.widget-view+json": {
       "model_id": "80729ecd7366460cbb049767027a8a52",
       "version_major": 2,
       "version_minor": 0
      },
      "text/plain": [
       "QWNjb3JkaW9uKGNoaWxkcmVuPShUZXh0YXJlYSh2YWx1ZT11J0hpLCB0aGlzIGlzIGEgYm94IG9mIHRleHQuICgxKScpLCBUZXh0YXJlYSh2YWx1ZT11J0hpLCB0aGlzIGlzIGEgYm94IG9mIHTigKY=\n"
      ]
     },
     "metadata": {},
     "output_type": "display_data"
    }
   ],
   "source": [
    "display(acc)"
   ]
  },
  {
   "cell_type": "code",
   "execution_count": 41,
   "metadata": {},
   "outputs": [
    {
     "data": {
      "application/vnd.jupyter.widget-view+json": {
       "model_id": "6418c693cf1147aa955856b50a30b54b",
       "version_major": 2,
       "version_minor": 0
      },
      "text/plain": [
       "SEJveChjaGlsZHJlbj0oVGV4dGFyZWEodmFsdWU9dSdIaSwgdGhpcyBpcyBhIGJveCBvZiB0ZXh0LiAoMSknKSwgVGV4dGFyZWEodmFsdWU9dSdIaSwgdGhpcyBpcyBhIGJveCBvZiB0ZXh0LiDigKY=\n"
      ]
     },
     "metadata": {},
     "output_type": "display_data"
    }
   ],
   "source": [
    "ipywidgets.HBox([ta1, ta2, ta3, ta4])"
   ]
  },
  {
   "cell_type": "code",
   "execution_count": 42,
   "metadata": {},
   "outputs": [
    {
     "data": {
      "application/vnd.jupyter.widget-view+json": {
       "model_id": "79aa1d42c65940f4a2c3f29e16dd57a9",
       "version_major": 2,
       "version_minor": 0
      },
      "text/plain": [
       "VkJveChjaGlsZHJlbj0oVGV4dGFyZWEodmFsdWU9dSdIaSwgdGhpcyBpcyBhIGJveCBvZiB0ZXh0LiAoMSknKSwgVGV4dGFyZWEodmFsdWU9dSdIaSwgdGhpcyBpcyBhIGJveCBvZiB0ZXh0LiDigKY=\n"
      ]
     },
     "metadata": {},
     "output_type": "display_data"
    }
   ],
   "source": [
    "ipywidgets.VBox([ta1, ta2, ta3, ta4])"
   ]
  },
  {
   "cell_type": "code",
   "execution_count": 43,
   "metadata": {},
   "outputs": [
    {
     "data": {
      "application/vnd.jupyter.widget-view+json": {
       "model_id": "ec28514d16df483a9d0281793e8b1ff9",
       "version_major": 2,
       "version_minor": 0
      },
      "text/plain": [
       "VkJveChjaGlsZHJlbj0oSEJveChjaGlsZHJlbj0oVGV4dGFyZWEodmFsdWU9dSdIaSwgdGhpcyBpcyBhIGJveCBvZiB0ZXh0LiAoMSknKSwgVGV4dGFyZWEodmFsdWU9dSdIaSwgdGhpcyBpcyDigKY=\n"
      ]
     },
     "metadata": {},
     "output_type": "display_data"
    }
   ],
   "source": [
    "ipywidgets.VBox( [ipywidgets.HBox([ta1, ta2]),\n",
    "                  ipywidgets.Label(\"Hello there!\"),\n",
    "                  ipywidgets.HBox([ta3, ta4])] )"
   ]
  },
  {
   "cell_type": "code",
   "execution_count": 44,
   "metadata": {},
   "outputs": [],
   "source": [
    "ip = ipywidgets.IntProgress()\n",
    "button_plus = ipywidgets.Button(description = \"+10\")\n",
    "button_minus = ipywidgets.Button(description = \"-10\")"
   ]
  },
  {
   "cell_type": "code",
   "execution_count": 45,
   "metadata": {},
   "outputs": [
    {
     "data": {
      "text/plain": [
       "0"
      ]
     },
     "execution_count": 45,
     "metadata": {},
     "output_type": "execute_result"
    }
   ],
   "source": [
    "ip.value"
   ]
  },
  {
   "cell_type": "code",
   "execution_count": 46,
   "metadata": {},
   "outputs": [],
   "source": [
    "def click_down(event):\n",
    "    ip.value -= 10\n",
    "button_minus.on_click(click_down)"
   ]
  },
  {
   "cell_type": "code",
   "execution_count": 47,
   "metadata": {},
   "outputs": [],
   "source": [
    "def click_up(event):\n",
    "    ip.value += 10\n",
    "button_plus.on_click(click_up)"
   ]
  },
  {
   "cell_type": "code",
   "execution_count": 48,
   "metadata": {},
   "outputs": [
    {
     "data": {
      "application/vnd.jupyter.widget-view+json": {
       "model_id": "fef6579cdf67470d9b08118e2540f6ec",
       "version_major": 2,
       "version_minor": 0
      },
      "text/plain": [
       "SEJveChjaGlsZHJlbj0oQnV0dG9uKGRlc2NyaXB0aW9uPXUnLTEwJywgc3R5bGU9QnV0dG9uU3R5bGUoKSksIEludFByb2dyZXNzKHZhbHVlPTApLCBCdXR0b24oZGVzY3JpcHRpb249dScrMTDigKY=\n"
      ]
     },
     "metadata": {},
     "output_type": "display_data"
    }
   ],
   "source": [
    "ipywidgets.HBox([button_minus, ip, button_plus])"
   ]
  },
  {
   "cell_type": "code",
   "execution_count": 49,
   "metadata": {},
   "outputs": [],
   "source": [
    "cp = ipywidgets.ColorPicker()"
   ]
  },
  {
   "cell_type": "code",
   "execution_count": 50,
   "metadata": {},
   "outputs": [],
   "source": [
    "islider = ipywidgets.IntSlider(min = 0, max = 10, step = 1, orientation = 'vertical')"
   ]
  },
  {
   "cell_type": "code",
   "execution_count": 51,
   "metadata": {},
   "outputs": [],
   "source": [
    "islider.style.handle_color = \"#750075\""
   ]
  },
  {
   "cell_type": "code",
   "execution_count": 52,
   "metadata": {},
   "outputs": [
    {
     "data": {
      "application/vnd.jupyter.widget-view+json": {
       "model_id": "b0ad49ac23544739805712cf1fde1186",
       "version_major": 2,
       "version_minor": 0
      },
      "text/plain": [
       "IntSlider(value=0, max=10, orientation=u'vertical', style=SliderStyle(handle_color='#750075'))"
      ]
     },
     "metadata": {},
     "output_type": "display_data"
    }
   ],
   "source": [
    "islider"
   ]
  },
  {
   "cell_type": "code",
   "execution_count": 53,
   "metadata": {},
   "outputs": [
    {
     "data": {
      "text/plain": [
       "<traitlets.traitlets.link at 0x10242a250>"
      ]
     },
     "execution_count": 53,
     "metadata": {},
     "output_type": "execute_result"
    }
   ],
   "source": [
    "ipywidgets.link( (cp, 'value'), (islider.style, 'handle_color'))"
   ]
  },
  {
   "cell_type": "code",
   "execution_count": 54,
   "metadata": {},
   "outputs": [
    {
     "data": {
      "application/vnd.jupyter.widget-view+json": {
       "model_id": "e14b80ef20bc4b6bbbc2b5daa348a09d",
       "version_major": 2,
       "version_minor": 0
      },
      "text/plain": [
       "VkJveChjaGlsZHJlbj0oQ29sb3JQaWNrZXIodmFsdWU9J2JsYWNrJyksIEludFNsaWRlcih2YWx1ZT0wLCBtYXg9MTAsIG9yaWVudGF0aW9uPXUndmVydGljYWwnLCBzdHlsZT1TbGlkZXJTdHnigKY=\n"
      ]
     },
     "metadata": {},
     "output_type": "display_data"
    }
   ],
   "source": [
    "ipywidgets.VBox([cp, islider])"
   ]
  },
  {
   "cell_type": "code",
   "execution_count": 55,
   "metadata": {},
   "outputs": [
    {
     "data": {
      "application/vnd.jupyter.widget-view+json": {
       "model_id": "c7084d647bac425084b05b93c71626b8",
       "version_major": 2,
       "version_minor": 0
      },
      "text/plain": [
       "DatePicker(value=None)"
      ]
     },
     "metadata": {},
     "output_type": "display_data"
    }
   ],
   "source": [
    "ipywidgets.DatePicker()"
   ]
  },
  {
   "cell_type": "code",
   "execution_count": 56,
   "metadata": {},
   "outputs": [
    {
     "data": {
      "application/vnd.jupyter.widget-view+json": {
       "model_id": "2e3b3bacdcb64a1eacb58a6f42d77151",
       "version_major": 2,
       "version_minor": 0
      },
      "text/plain": [
       "Play(value=0)"
      ]
     },
     "metadata": {},
     "output_type": "display_data"
    }
   ],
   "source": [
    "ipywidgets.Play()"
   ]
  },
  {
   "cell_type": "code",
   "execution_count": 57,
   "metadata": {
    "scrolled": true
   },
   "outputs": [
    {
     "data": {
      "application/vnd.jupyter.widget-view+json": {
       "model_id": "517a37356aaf497b957f8ac5078ac47f",
       "version_major": 2,
       "version_minor": 0
      },
      "text/plain": [
       "HBox(children=(Play(value=50, description=u'Press Play', interval=50, min=1), IntSlider(value=50, min=1)))"
      ]
     },
     "metadata": {},
     "output_type": "display_data"
    }
   ],
   "source": [
    "play = ipywidgets.Play(interval = 50, value = 50, min = 1, max = 100, step = 1, description = \"Press Play\")\n",
    "slider = ipywidgets.IntSlider()\n",
    "ipywidgets.link((play, 'min'), (slider, 'min'))\n",
    "ipywidgets.link((play, 'max'), (slider, 'max'))\n",
    "ipywidgets.link((play, 'value'), (slider, 'value'))\n",
    "ipywidgets.HBox([play, slider])"
   ]
  },
  {
   "cell_type": "code",
   "execution_count": 58,
   "metadata": {},
   "outputs": [
    {
     "data": {
      "application/vnd.jupyter.widget-view+json": {
       "model_id": "035748fc6660489393a7f6d0ff55db69",
       "version_major": 2,
       "version_minor": 0
      },
      "text/plain": [
       "IntSlider(value=50, min=1)"
      ]
     },
     "metadata": {},
     "output_type": "display_data"
    }
   ],
   "source": [
    "slider"
   ]
  },
  {
   "cell_type": "code",
   "execution_count": 59,
   "metadata": {},
   "outputs": [],
   "source": [
    "import bqplot\n",
    "import numpy as np"
   ]
  },
  {
   "cell_type": "code",
   "execution_count": 60,
   "metadata": {},
   "outputs": [],
   "source": [
    "x = np.arange(100)\n",
    "y = np.random.random(100) + 5"
   ]
  },
  {
   "cell_type": "code",
   "execution_count": 61,
   "metadata": {},
   "outputs": [],
   "source": [
    "x_sc = bqplot.LinearScale()\n",
    "y_sc = bqplot.LinearScale()"
   ]
  },
  {
   "cell_type": "code",
   "execution_count": 62,
   "metadata": {},
   "outputs": [],
   "source": [
    "lines = bqplot.Lines(x = x, y = y, scales = {'x': x_sc, 'y': y_sc})"
   ]
  },
  {
   "cell_type": "code",
   "execution_count": 63,
   "metadata": {},
   "outputs": [],
   "source": [
    "ax_x = bqplot.Axis(scale = x_sc, label = 'X Value')\n",
    "ax_y = bqplot.Axis(scale = y_sc, label = 'Y Value', orientation = 'vertical')"
   ]
  },
  {
   "cell_type": "code",
   "execution_count": 65,
   "metadata": {},
   "outputs": [
    {
     "data": {
      "application/vnd.jupyter.widget-view+json": {
       "model_id": "fb9229688d614656b46a6dc278b238dd",
       "version_major": 2,
       "version_minor": 0
      },
      "text/plain": [
       "RmlndXJlKGF4ZXM9W0F4aXMobGFiZWw9dSdYIFZhbHVlJywgc2NhbGU9TGluZWFyU2NhbGUoKSwgc2lkZT11J2JvdHRvbScpLCBBeGlzKGxhYmVsPXUnWSBWYWx1ZScsIG9yaWVudGF0aW9uPSfigKY=\n"
      ]
     },
     "metadata": {},
     "output_type": "display_data"
    }
   ],
   "source": [
    "fig = bqplot.Figure(marks = [lines], axes = [ax_x, ax_y])\n",
    "display(fig)"
   ]
  },
  {
   "cell_type": "code",
   "execution_count": 66,
   "metadata": {},
   "outputs": [],
   "source": [
    "pz = bqplot.interacts.PanZoom( scales = {'x': [x_sc], 'y': [y_sc]})"
   ]
  },
  {
   "cell_type": "code",
   "execution_count": 67,
   "metadata": {},
   "outputs": [
    {
     "data": {
      "application/vnd.jupyter.widget-view+json": {
       "model_id": "031d7ccfd337494998f68fead4a54809",
       "version_major": 2,
       "version_minor": 0
      },
      "text/plain": [
       "RmlndXJlKGF4ZXM9W0F4aXMobGFiZWw9dSdYIFZhbHVlJywgc2NhbGU9TGluZWFyU2NhbGUoKSwgc2lkZT11J2JvdHRvbScpLCBBeGlzKGxhYmVsPXUnWSBWYWx1ZScsIG9yaWVudGF0aW9uPSfigKY=\n"
      ]
     },
     "metadata": {},
     "output_type": "display_data"
    }
   ],
   "source": [
    "fig = bqplot.Figure(marks = [lines], axes = [ax_x, ax_y], interaction = pz)\n",
    "display(fig)"
   ]
  },
  {
   "cell_type": "code",
   "execution_count": 68,
   "metadata": {},
   "outputs": [],
   "source": [
    "x = np.mgrid[0.0:10.0:100j]\n",
    "y1 = x * 2\n",
    "y2 = x**2"
   ]
  },
  {
   "cell_type": "code",
   "execution_count": 69,
   "metadata": {},
   "outputs": [],
   "source": [
    "x_sc = bqplot.LinearScale(min = 0, max = 10)\n",
    "y_sc1 = bqplot.LinearScale(min = 1, max = 20)\n",
    "y_sc2 = bqplot.LogScale(min = 1, max = 100)"
   ]
  },
  {
   "cell_type": "code",
   "execution_count": 70,
   "metadata": {},
   "outputs": [],
   "source": [
    "lines1 = bqplot.Lines(x = x, y = y1, scales = {'x': x_sc, 'y': y_sc1})\n",
    "lines2 = bqplot.Lines(x = x, y = y2, scales = {'x': x_sc, 'y': y_sc2})"
   ]
  },
  {
   "cell_type": "code",
   "execution_count": 71,
   "metadata": {},
   "outputs": [],
   "source": [
    "ax_x = bqplot.Axis(scale = x_sc, label = 'X Value')\n",
    "ax_y1 = bqplot.Axis(scale = y_sc1, label = 'Y1 Value', orientation = 'vertical')\n",
    "ax_y2 = bqplot.Axis(scale = y_sc2, label = 'Y2 Value', orientation = 'vertical', side = 'right')"
   ]
  },
  {
   "cell_type": "code",
   "execution_count": 73,
   "metadata": {},
   "outputs": [
    {
     "data": {
      "application/vnd.jupyter.widget-view+json": {
       "model_id": "4307a79ceb1a43c6b9f1a43700f2fb94",
       "version_major": 2,
       "version_minor": 0
      },
      "text/plain": [
       "RmlndXJlKGF4ZXM9W0F4aXMobGFiZWw9dSdYIFZhbHVlJywgc2NhbGU9TGluZWFyU2NhbGUobWF4PTYuNTMxOTMyMjIwMjMzMzkyLCBtaW49NC4xNjI2NTQ2MzM0MTIxNzYpLCBzaWRlPXUnYm/igKY=\n"
      ]
     },
     "metadata": {},
     "output_type": "display_data"
    }
   ],
   "source": [
    "pz = bqplot.interacts.PanZoom(scales = {'x': [x_sc], 'y': [y_sc1, y_sc2]})\n",
    "fig = bqplot.Figure(marks = [lines1, lines2], axes = [ax_x, ax_y1, ax_y2], interaction=pz)\n",
    "display(fig)"
   ]
  },
  {
   "cell_type": "code",
   "execution_count": 74,
   "metadata": {},
   "outputs": [],
   "source": [
    "import pandas as pd"
   ]
  },
  {
   "cell_type": "code",
   "execution_count": 77,
   "metadata": {},
   "outputs": [],
   "source": [
    "buildings = pd.read_csv(\"/Users/jillnaiman1/Downloads/building_inventory.csv\",\n",
    "                        na_values = {'Year Acquired': 0, \n",
    "                                     'Year Constructed': 0, \n",
    "                                     'Square Footage': 0})"
   ]
  },
  {
   "cell_type": "code",
   "execution_count": 78,
   "metadata": {},
   "outputs": [],
   "source": [
    "x_sc = bqplot.LinearScale()\n",
    "y_sc = bqplot.LinearScale()\n",
    "\n",
    "x_ax = bqplot.Axis(scale = x_sc, label = 'Year Constructed')\n",
    "y_ax = bqplot.Axis(scale = y_sc, label = 'Year Acquired', orientation = 'vertical')"
   ]
  },
  {
   "cell_type": "code",
   "execution_count": 79,
   "metadata": {},
   "outputs": [],
   "source": [
    "scatters = bqplot.Scatter(x = buildings['Year Constructed'],\n",
    "                          y = buildings['Year Acquired'],\n",
    "                          scales = {'x': x_sc, 'y': y_sc})"
   ]
  },
  {
   "cell_type": "code",
   "execution_count": 81,
   "metadata": {},
   "outputs": [
    {
     "data": {
      "application/vnd.jupyter.widget-view+json": {
       "model_id": "deba5c54a69b4f7b8602dc0876c08674",
       "version_major": 2,
       "version_minor": 0
      },
      "text/plain": [
       "RmlndXJlKGF4ZXM9W0F4aXMobGFiZWw9dSdZZWFyIENvbnN0cnVjdGVkJywgc2NhbGU9TGluZWFyU2NhbGUoKSwgc2lkZT11J2JvdHRvbScpLCBBeGlzKGxhYmVsPXUnWWVhciBBY3F1aXJlZCfigKY=\n"
      ]
     },
     "metadata": {},
     "output_type": "display_data"
    }
   ],
   "source": [
    "selector = bqplot.interacts.FastIntervalSelector(\n",
    "            scale = x_sc, marks = [scatters])\n",
    "fig = bqplot.Figure(marks = [scatters], axes = [x_ax, y_ax], interaction = selector)\n",
    "display(fig)"
   ]
  },
  {
   "cell_type": "code",
   "execution_count": 82,
   "metadata": {},
   "outputs": [],
   "source": [
    "selector.selected"
   ]
  },
  {
   "cell_type": "code",
   "execution_count": 83,
   "metadata": {},
   "outputs": [
    {
     "data": {
      "application/vnd.jupyter.widget-view+json": {
       "model_id": "5afc2cd9154f45388eafd1bd7cf57e61",
       "version_major": 2,
       "version_minor": 0
      },
      "text/plain": [
       "Label(value=u'Total square footage: ')"
      ]
     },
     "metadata": {},
     "output_type": "display_data"
    }
   ],
   "source": [
    "label = ipywidgets.Label(\"Total square footage: \")\n",
    "display(label)"
   ]
  },
  {
   "cell_type": "code",
   "execution_count": 84,
   "metadata": {},
   "outputs": [],
   "source": [
    "def on_selection_change(change):\n",
    "    min_val, max_val = change['new']\n",
    "    selected = (buildings[\"Year Constructed\"] < max_val) & (buildings[\"Year Constructed\"] > min_val)\n",
    "    total_sqft = buildings[\"Square Footage\"][selected].sum()\n",
    "    label.value = \"Total square footage: %s\" % (total_sqft)"
   ]
  },
  {
   "cell_type": "code",
   "execution_count": 85,
   "metadata": {},
   "outputs": [],
   "source": [
    "selector.observe(on_selection_change, ['selected'])"
   ]
  },
  {
   "cell_type": "code",
   "execution_count": 87,
   "metadata": {},
   "outputs": [
    {
     "data": {
      "application/vnd.jupyter.widget-view+json": {
       "model_id": "790b41ecdda948978e3ff08d075a34e2",
       "version_major": 2,
       "version_minor": 0
      },
      "text/plain": [
       "RmlndXJlKGF4ZXM9W0F4aXMobGFiZWw9dSdZZWFyIENvbnN0cnVjdGVkJywgc2NhbGU9TGluZWFyU2NhbGUoKSwgc2lkZT11J2JvdHRvbScpLCBBeGlzKGxhYmVsPXUnWWVhciBBY3F1aXJlZCfigKY=\n"
      ]
     },
     "metadata": {},
     "output_type": "display_data"
    }
   ],
   "source": [
    "lasso = bqplot.interacts.LassoSelector(scales = {'x': x_sc, 'y': y_sc}, marks = [scatters])\n",
    "fig = bqplot.Figure(marks = [scatters], axes = [x_ax, y_ax], interaction = lasso)\n",
    "display(fig)"
   ]
  },
  {
   "cell_type": "code",
   "execution_count": 88,
   "metadata": {},
   "outputs": [
    {
     "data": {
      "application/vnd.jupyter.widget-view+json": {
       "model_id": "e366345907cc43a38eb8e2066b5ca5f2",
       "version_major": 2,
       "version_minor": 0
      },
      "text/plain": [
       "VkJveChjaGlsZHJlbj0oRmlndXJlKGF4ZXM9W0F4aXMobGFiZWw9dSdZZWFyIENvbnN0cnVjdGVkJywgc2NhbGU9TGluZWFyU2NhbGUoKSksIEF4aXMobGFiZWw9dSdZZWFyIEFjcXVpcmVkJyzigKY=\n"
      ]
     },
     "metadata": {},
     "output_type": "display_data"
    }
   ],
   "source": [
    "x_sc = bqplot.LinearScale()\n",
    "y_sc = bqplot.LinearScale()\n",
    "\n",
    "x_ax = bqplot.Axis(scale = x_sc, label = 'Year Constructed')\n",
    "y_ax = bqplot.Axis(scale = y_sc, label = 'Year Acquired', orientation = 'vertical')\n",
    "\n",
    "tooltip = bqplot.Tooltip(fields = [\"x\", \"y\"])\n",
    "\n",
    "scatters = bqplot.Scatter(x = buildings['Year Constructed'],\n",
    "                          y = buildings['Year Acquired'],\n",
    "                          scales = {'x': x_sc, 'y': y_sc},\n",
    "                          \n",
    "                         tooltip = tooltip)\n",
    "\n",
    "selector = bqplot.interacts.FastIntervalSelector(\n",
    "            scale = x_sc, marks = [scatters])\n",
    "fig = bqplot.Figure(marks = [scatters], axes = [x_ax, y_ax], interaction = selector)\n",
    "tb = bqplot.Toolbar(figure=fig)\n",
    "display(ipywidgets.VBox([fig, tb]))"
   ]
  },
  {
   "cell_type": "code",
   "execution_count": 89,
   "metadata": {},
   "outputs": [],
   "source": [
    "scatters.y = scatters.y * 2"
   ]
  },
  {
   "cell_type": "code",
   "execution_count": 91,
   "metadata": {},
   "outputs": [
    {
     "data": {
      "text/plain": [
       "<traitlets.traitlets.link at 0x10ed16b10>"
      ]
     },
     "execution_count": 91,
     "metadata": {},
     "output_type": "execute_result"
    }
   ],
   "source": [
    "x_sc = bqplot.LinearScale()\n",
    "y_sc = bqplot.LinearScale()\n",
    "x_ax = bqplot.Axis(scale = x_sc)\n",
    "y_ax = bqplot.Axis(scale = y_sc, orientation = 'vertical')\n",
    "\n",
    "hist = bqplot.Hist(sample = buildings[\"Year Acquired\"],\n",
    "            scales = {'sample': x_sc, 'count': y_sc},\n",
    "                   bins = 128, normalized = True,\n",
    "                   colors = [\"#FFFFFF\"])\n",
    "hist2 = bqplot.Hist(sample = buildings[\"Year Acquired\"],\n",
    "                   opacity = 0.1, normalized = True,\n",
    "            scales = {'sample': x_sc, 'count': y_sc},\n",
    "                  bins = 128)\n",
    "\n",
    "fig = bqplot.Figure(marks = [hist, hist2], axes = [x_ax, y_ax])\n",
    "\n",
    "islider = ipywidgets.IntSlider(min = 8, max = 128, step = 1)\n",
    "ipywidgets.link((islider, 'value'), (hist, 'bins'))\n",
    "#cp = ipywidgets.ColorPicker()\n",
    "#ipywidgets.link((cp, 'value'), (hist, 'colors'))\n",
    "#ipywidgets.link((islider, 'value'), (hist2, 'bins'))"
   ]
  },
  {
   "cell_type": "code",
   "execution_count": 92,
   "metadata": {},
   "outputs": [
    {
     "data": {
      "application/vnd.jupyter.widget-view+json": {
       "model_id": "3eefc036108344c3bc3af561c2695f53",
       "version_major": 2,
       "version_minor": 0
      },
      "text/plain": [
       "VkJveChjaGlsZHJlbj0oRmlndXJlKGF4ZXM9W0F4aXMoc2NhbGU9TGluZWFyU2NhbGUoKSwgc2lkZT11J2JvdHRvbScpLCBBeGlzKG9yaWVudGF0aW9uPSd2ZXJ0aWNhbCcsIHNjYWxlPUxpbmXigKY=\n"
      ]
     },
     "metadata": {},
     "output_type": "display_data"
    }
   ],
   "source": [
    "display(ipywidgets.VBox([fig, islider]))"
   ]
  },
  {
   "cell_type": "code",
   "execution_count": 94,
   "metadata": {},
   "outputs": [
    {
     "data": {
      "text/plain": [
       "[]"
      ]
     },
     "execution_count": 94,
     "metadata": {},
     "output_type": "execute_result"
    }
   ],
   "source": [
    "hist2.selected"
   ]
  },
  {
   "cell_type": "code",
   "execution_count": null,
   "metadata": {},
   "outputs": [],
   "source": []
  }
 ],
 "metadata": {
  "kernelspec": {
   "display_name": "Python 3",
   "language": "python",
   "name": "python3"
  },
  "language_info": {
   "codemirror_mode": {
    "name": "ipython",
    "version": 2
   },
   "file_extension": ".py",
   "mimetype": "text/x-python",
   "name": "python",
   "nbconvert_exporter": "python",
   "pygments_lexer": "ipython2",
   "version": "2.7.15"
  }
 },
 "nbformat": 4,
 "nbformat_minor": 2
}
