{
 "cells": [
  {
   "cell_type": "code",
   "execution_count": 1,
   "metadata": {},
   "outputs": [],
   "source": [
    "import traitlets"
   ]
  },
  {
   "cell_type": "code",
   "execution_count": 2,
   "metadata": {},
   "outputs": [],
   "source": [
    "# make a simple (traitlets) class\n",
    "class MyObject(traitlets.HasTraits):\n",
    "    # unicode to give our object a name\n",
    "    name = traitlets.Unicode('unnamed')\n",
    "    # lets also give our object an age\n",
    "    age = traitlets.Int(0)"
   ]
  },
  {
   "cell_type": "code",
   "execution_count": 3,
   "metadata": {},
   "outputs": [
    {
     "data": {
      "text/plain": [
       "<__main__.MyObject at 0x10db18d90>"
      ]
     },
     "execution_count": 3,
     "metadata": {},
     "output_type": "execute_result"
    }
   ],
   "source": [
    "# lets create an object\n",
    "myobj = MyObject()\n",
    "myobj"
   ]
  },
  {
   "cell_type": "code",
   "execution_count": 4,
   "metadata": {},
   "outputs": [
    {
     "data": {
      "text/plain": [
       "(u'unnamed', 0)"
      ]
     },
     "execution_count": 4,
     "metadata": {},
     "output_type": "execute_result"
    }
   ],
   "source": [
    "myobj.name, myobj.age"
   ]
  },
  {
   "cell_type": "code",
   "execution_count": 5,
   "metadata": {},
   "outputs": [],
   "source": [
    "# create object & init\n",
    "obj2 = MyObject(name ='Bob', age=47)"
   ]
  },
  {
   "cell_type": "code",
   "execution_count": 6,
   "metadata": {},
   "outputs": [
    {
     "data": {
      "text/plain": [
       "(u'Bob', 47)"
      ]
     },
     "execution_count": 6,
     "metadata": {},
     "output_type": "execute_result"
    }
   ],
   "source": [
    "obj2.name, obj2.age"
   ]
  },
  {
   "cell_type": "code",
   "execution_count": 7,
   "metadata": {},
   "outputs": [],
   "source": [
    "def name_changed(change):\n",
    "    print(change['new']) # \"change\" is naive to traitlets\n",
    "\n",
    "# hey traitlets, this is going to change myobj\n",
    "myobj.observe(name_changed, ['name'])"
   ]
  },
  {
   "cell_type": "code",
   "execution_count": 8,
   "metadata": {},
   "outputs": [
    {
     "name": "stdout",
     "output_type": "stream",
     "text": [
      "Linda\n"
     ]
    }
   ],
   "source": [
    "myobj.name = \"Linda\""
   ]
  },
  {
   "cell_type": "code",
   "execution_count": 10,
   "metadata": {},
   "outputs": [
    {
     "data": {
      "text/plain": [
       "u'Bob'"
      ]
     },
     "execution_count": 10,
     "metadata": {},
     "output_type": "execute_result"
    }
   ],
   "source": [
    "# lets show the change directory\n",
    "def name_changed2(change):\n",
    "    print(\"I just changed '%s' to '%s'\" % (change['old'], change['new']))\n",
    "    \n",
    "obj2.name"
   ]
  },
  {
   "cell_type": "code",
   "execution_count": 11,
   "metadata": {},
   "outputs": [],
   "source": [
    "# lets observe any changes we make to obj2\n",
    "obj2.observe(name_changed2, ['name'])"
   ]
  },
  {
   "cell_type": "code",
   "execution_count": 12,
   "metadata": {},
   "outputs": [
    {
     "name": "stdout",
     "output_type": "stream",
     "text": [
      "I just changed 'Bob' to 'Gene'\n"
     ]
    }
   ],
   "source": [
    "obj2.name = \"Gene\""
   ]
  },
  {
   "cell_type": "code",
   "execution_count": 13,
   "metadata": {},
   "outputs": [],
   "source": [
    "# lets look \"under the hood\" of what \"change\" is doing\n",
    "obj3 = MyObject()"
   ]
  },
  {
   "cell_type": "code",
   "execution_count": 14,
   "metadata": {},
   "outputs": [],
   "source": [
    "def trait_change(change):\n",
    "    print(\"Change Directory Structure:\")\n",
    "    print(change)\n",
    "    \n",
    "obj3.observe(trait_change)"
   ]
  },
  {
   "cell_type": "code",
   "execution_count": 15,
   "metadata": {},
   "outputs": [
    {
     "name": "stdout",
     "output_type": "stream",
     "text": [
      "Change Directory Structure:\n",
      "{'owner': <__main__.MyObject object at 0x10db3b190>, 'new': u'Tina', 'old': u'unnamed', 'name': 'name', 'type': 'change'}\n"
     ]
    }
   ],
   "source": [
    "obj3.name = \"Tina\""
   ]
  },
  {
   "cell_type": "code",
   "execution_count": 16,
   "metadata": {},
   "outputs": [
    {
     "name": "stdout",
     "output_type": "stream",
     "text": [
      "Change Directory Structure:\n",
      "{'owner': <__main__.MyObject object at 0x10db3b190>, 'new': 13, 'old': 0, 'name': 'age', 'type': 'change'}\n"
     ]
    }
   ],
   "source": [
    "obj3.age = 13"
   ]
  },
  {
   "cell_type": "markdown",
   "metadata": {},
   "source": [
    "## That was traitlets (a quick overview) - now onto more details of widgets"
   ]
  },
  {
   "cell_type": "code",
   "execution_count": 17,
   "metadata": {},
   "outputs": [
    {
     "data": {
      "application/vnd.jupyter.widget-view+json": {
       "model_id": "898ae60be03744a7baf80e53b12b47d1",
       "version_major": 2,
       "version_minor": 0
      },
      "text/plain": [
       "aW50ZXJhY3RpdmUoY2hpbGRyZW49KERyb3Bkb3duKGRlc2NyaXB0aW9uPXUnbmFtZScsIG9wdGlvbnM9KCdMaW5kYScsICdUaW5hJywgJ0xvdWlzZScpLCB2YWx1ZT0nTGluZGEnKSwgT3V0cHXigKY=\n"
      ]
     },
     "metadata": {},
     "output_type": "display_data"
    }
   ],
   "source": [
    "import ipywidgets\n",
    "\n",
    "@ipywidgets.interact(name=['Linda', 'Tina', 'Louise'])\n",
    "def print_name(name):\n",
    "    print(name)"
   ]
  },
  {
   "cell_type": "code",
   "execution_count": 18,
   "metadata": {},
   "outputs": [],
   "source": [
    "itext = ipywidgets.IntText()"
   ]
  },
  {
   "cell_type": "code",
   "execution_count": 19,
   "metadata": {},
   "outputs": [
    {
     "data": {
      "application/vnd.jupyter.widget-view+json": {
       "model_id": "78dbd1d618f84f07b9e4ed6034837fa9",
       "version_major": 2,
       "version_minor": 0
      },
      "text/plain": [
       "IntText(value=0)"
      ]
     },
     "metadata": {},
     "output_type": "display_data"
    }
   ],
   "source": [
    "from IPython.display import display\n",
    "display(itext)"
   ]
  },
  {
   "cell_type": "code",
   "execution_count": 20,
   "metadata": {},
   "outputs": [
    {
     "data": {
      "application/vnd.jupyter.widget-view+json": {
       "model_id": "78dbd1d618f84f07b9e4ed6034837fa9",
       "version_major": 2,
       "version_minor": 0
      },
      "text/plain": [
       "IntText(value=2)"
      ]
     },
     "metadata": {},
     "output_type": "display_data"
    }
   ],
   "source": [
    "display(itext)"
   ]
  },
  {
   "cell_type": "code",
   "execution_count": 24,
   "metadata": {},
   "outputs": [
    {
     "data": {
      "text/plain": [
       "10"
      ]
     },
     "execution_count": 24,
     "metadata": {},
     "output_type": "execute_result"
    }
   ],
   "source": [
    "# what is the value of itext\n",
    "itext.value"
   ]
  },
  {
   "cell_type": "code",
   "execution_count": 23,
   "metadata": {},
   "outputs": [],
   "source": [
    "# setting value by hand\n",
    "itext.value = 10"
   ]
  },
  {
   "cell_type": "code",
   "execution_count": 25,
   "metadata": {},
   "outputs": [],
   "source": [
    "ip = ipywidgets.IntProgress()"
   ]
  },
  {
   "cell_type": "code",
   "execution_count": 26,
   "metadata": {},
   "outputs": [
    {
     "data": {
      "application/vnd.jupyter.widget-view+json": {
       "model_id": "56828076de66411fa2695abdd8d84410",
       "version_major": 2,
       "version_minor": 0
      },
      "text/plain": [
       "IntProgress(value=0)"
      ]
     },
     "metadata": {},
     "output_type": "display_data"
    }
   ],
   "source": [
    "ip"
   ]
  },
  {
   "cell_type": "code",
   "execution_count": 27,
   "metadata": {},
   "outputs": [],
   "source": [
    "ip.value = 90"
   ]
  },
  {
   "cell_type": "code",
   "execution_count": 28,
   "metadata": {},
   "outputs": [],
   "source": [
    "irange = ipywidgets.IntRangeSlider(min=-10, max=10, step=1)"
   ]
  },
  {
   "cell_type": "code",
   "execution_count": 29,
   "metadata": {},
   "outputs": [
    {
     "data": {
      "application/vnd.jupyter.widget-view+json": {
       "model_id": "d4e0540b497a4c8b8b71f1d82b535d94",
       "version_major": 2,
       "version_minor": 0
      },
      "text/plain": [
       "IntRangeSlider(value=(-5, 5), max=10, min=-10)"
      ]
     },
     "metadata": {},
     "output_type": "display_data"
    }
   ],
   "source": [
    "display(irange)"
   ]
  },
  {
   "cell_type": "code",
   "execution_count": 31,
   "metadata": {},
   "outputs": [
    {
     "data": {
      "text/plain": [
       "(-10, 6)"
      ]
     },
     "execution_count": 31,
     "metadata": {},
     "output_type": "execute_result"
    }
   ],
   "source": [
    "irange.value"
   ]
  },
  {
   "cell_type": "markdown",
   "metadata": {},
   "source": [
    "## Linking widgets & traitlets"
   ]
  },
  {
   "cell_type": "code",
   "execution_count": 34,
   "metadata": {},
   "outputs": [
    {
     "data": {
      "text/plain": [
       "<traitlets.traitlets.link at 0x10db3b850>"
      ]
     },
     "execution_count": 34,
     "metadata": {},
     "output_type": "execute_result"
    }
   ],
   "source": [
    "m = MyObject(name = 'Bob', age=47) # traitlets MyObject class\n",
    "la = ipywidgets.Label() # a little label\n",
    "\n",
    "# link the name in the traitlet MyObject class obj with the \n",
    "#  widget label\n",
    "ipywidgets.link( (m, 'name'), (la, 'value'))"
   ]
  },
  {
   "cell_type": "code",
   "execution_count": 35,
   "metadata": {},
   "outputs": [
    {
     "data": {
      "application/vnd.jupyter.widget-view+json": {
       "model_id": "a244e2b0514549418fd597df52ad65e1",
       "version_major": 2,
       "version_minor": 0
      },
      "text/plain": [
       "Label(value=u'Bob')"
      ]
     },
     "metadata": {},
     "output_type": "display_data"
    }
   ],
   "source": [
    "display(la)"
   ]
  },
  {
   "cell_type": "code",
   "execution_count": 36,
   "metadata": {},
   "outputs": [],
   "source": [
    "m.name = \"Linda\""
   ]
  },
  {
   "cell_type": "markdown",
   "metadata": {},
   "source": [
    "## A few more ipywidgets for fun!"
   ]
  },
  {
   "cell_type": "code",
   "execution_count": 37,
   "metadata": {},
   "outputs": [],
   "source": [
    "button1 = ipywidgets.Button(description = \"I am a Clicker\")"
   ]
  },
  {
   "cell_type": "code",
   "execution_count": 38,
   "metadata": {},
   "outputs": [
    {
     "data": {
      "application/vnd.jupyter.widget-view+json": {
       "model_id": "53477f5e02bb485fa951f55d491c54de",
       "version_major": 2,
       "version_minor": 0
      },
      "text/plain": [
       "Button(description=u'I am a Clicker', style=ButtonStyle())"
      ]
     },
     "metadata": {},
     "output_type": "display_data"
    },
    {
     "name": "stdout",
     "output_type": "stream",
     "text": [
      "I have clicked.  Click.\n",
      "I have clicked.  Click.\n",
      "I have clicked.  Click.\n",
      "I have clicked.  Click.\n"
     ]
    }
   ],
   "source": [
    "display(button1)"
   ]
  },
  {
   "cell_type": "code",
   "execution_count": 39,
   "metadata": {},
   "outputs": [],
   "source": [
    "# lets make a function to react to clicks\n",
    "def say_click(event):\n",
    "    print('I have clicked.  Click.')"
   ]
  },
  {
   "cell_type": "code",
   "execution_count": 40,
   "metadata": {},
   "outputs": [],
   "source": [
    "button1.on_click(say_click)"
   ]
  },
  {
   "cell_type": "code",
   "execution_count": 41,
   "metadata": {},
   "outputs": [],
   "source": [
    "ta1 = ipywidgets.Textarea(\"hi! (1)\")\n",
    "ta2 = ipywidgets.Textarea(\"hi! (2)\")\n",
    "ta3 = ipywidgets.Textarea(\"hi! (3)\")\n",
    "ta4 = ipywidgets.Textarea(\"hi! (4)\")\n"
   ]
  },
  {
   "cell_type": "code",
   "execution_count": 42,
   "metadata": {},
   "outputs": [
    {
     "data": {
      "application/vnd.jupyter.widget-view+json": {
       "model_id": "2bfa3a58724e47e58c51de0c54b146f6",
       "version_major": 2,
       "version_minor": 0
      },
      "text/plain": [
       "Textarea(value=u'hi! (1)')"
      ]
     },
     "metadata": {},
     "output_type": "display_data"
    }
   ],
   "source": [
    "display(ta1)"
   ]
  },
  {
   "cell_type": "code",
   "execution_count": 43,
   "metadata": {},
   "outputs": [],
   "source": [
    "tabs = ipywidgets.Tab([ta1, ta2,ta3,ta4])"
   ]
  },
  {
   "cell_type": "code",
   "execution_count": 44,
   "metadata": {},
   "outputs": [
    {
     "data": {
      "application/vnd.jupyter.widget-view+json": {
       "model_id": "4f98427d0bbb4e35b958eb0fae354bbe",
       "version_major": 2,
       "version_minor": 0
      },
      "text/plain": [
       "VGFiKGNoaWxkcmVuPShUZXh0YXJlYSh2YWx1ZT11J2hpISAoMSkgbGFsYWwhIScpLCBUZXh0YXJlYSh2YWx1ZT11J2hpISAoMiknKSwgVGV4dGFyZWEodmFsdWU9dSdoaSEgKDMpJyksIFRleHTigKY=\n"
      ]
     },
     "metadata": {},
     "output_type": "display_data"
    }
   ],
   "source": [
    "display(tabs)"
   ]
  },
  {
   "cell_type": "code",
   "execution_count": 46,
   "metadata": {},
   "outputs": [],
   "source": [
    "acc = ipywidgets.Accordion([ta1,ta2])"
   ]
  },
  {
   "cell_type": "code",
   "execution_count": 47,
   "metadata": {},
   "outputs": [
    {
     "data": {
      "application/vnd.jupyter.widget-view+json": {
       "model_id": "b9500e5e8cd949cab97758af28be5b3a",
       "version_major": 2,
       "version_minor": 0
      },
      "text/plain": [
       "Accordion(children=(Textarea(value=u'hi! (1) lalal!!'), Textarea(value=u'hi! (2)')))"
      ]
     },
     "metadata": {},
     "output_type": "display_data"
    }
   ],
   "source": [
    "acc"
   ]
  },
  {
   "cell_type": "code",
   "execution_count": 48,
   "metadata": {},
   "outputs": [
    {
     "data": {
      "application/vnd.jupyter.widget-view+json": {
       "model_id": "8a7d3a765dd8447eb919b3efec00eec2",
       "version_major": 2,
       "version_minor": 0
      },
      "text/plain": [
       "SEJveChjaGlsZHJlbj0oVGV4dGFyZWEodmFsdWU9dSdoaSEgKDEpIGxhbGFsISEnKSwgVGV4dGFyZWEodmFsdWU9dSdoaSEgKDIpJyksIFRleHRhcmVhKHZhbHVlPXUnaGkhICgzKScpLCBUZXjigKY=\n"
      ]
     },
     "metadata": {},
     "output_type": "display_data"
    }
   ],
   "source": [
    "ipywidgets.HBox([ta1, ta2, ta3, ta4]) # horizontal box"
   ]
  },
  {
   "cell_type": "code",
   "execution_count": 49,
   "metadata": {},
   "outputs": [
    {
     "data": {
      "application/vnd.jupyter.widget-view+json": {
       "model_id": "682cfb43a2f54bcaa1ff3c88ff3339e2",
       "version_major": 2,
       "version_minor": 0
      },
      "text/plain": [
       "VkJveChjaGlsZHJlbj0oVGV4dGFyZWEodmFsdWU9dSdoaSEgKDEpIGxhbGFsISEnKSwgVGV4dGFyZWEodmFsdWU9dSdoaSEgKDIpJyksIFRleHRhcmVhKHZhbHVlPXUnaGkhICgzKScpLCBUZXjigKY=\n"
      ]
     },
     "metadata": {},
     "output_type": "display_data"
    }
   ],
   "source": [
    "ipywidgets.VBox([ta1,ta2,ta3,ta4]) # vertical box"
   ]
  },
  {
   "cell_type": "code",
   "execution_count": 54,
   "metadata": {},
   "outputs": [
    {
     "data": {
      "application/vnd.jupyter.widget-view+json": {
       "model_id": "47eb8031035b4a7bb51d963291bd4e2d",
       "version_major": 2,
       "version_minor": 0
      },
      "text/plain": [
       "VkJveChjaGlsZHJlbj0oSEJveChjaGlsZHJlbj0oVGV4dGFyZWEodmFsdWU9dSdoaSEgKDEpIGxhbGFsISEnKSwgVGV4dGFyZWEodmFsdWU9dSdoaSEgKDIpJykpKSwgTGFiZWwodmFsdWU9dSfigKY=\n"
      ]
     },
     "metadata": {},
     "output_type": "display_data"
    }
   ],
   "source": [
    "ipywidgets.VBox( [ipywidgets.HBox([ta1,ta2]),\n",
    "                  ipywidgets.Label(\"I am a label\"),\n",
    "               ipywidgets.HBox([ta3,ta4]) ] )"
   ]
  },
  {
   "cell_type": "markdown",
   "metadata": {},
   "source": [
    "## Building up interactivity with combinations of widgets"
   ]
  },
  {
   "cell_type": "code",
   "execution_count": 55,
   "metadata": {},
   "outputs": [
    {
     "data": {
      "application/vnd.jupyter.widget-view+json": {
       "model_id": "cf6a74c97aa64b1a86cbb1ef586515b4",
       "version_major": 2,
       "version_minor": 0
      },
      "text/plain": [
       "SEJveChjaGlsZHJlbj0oQnV0dG9uKGRlc2NyaXB0aW9uPXUnLTEwJywgc3R5bGU9QnV0dG9uU3R5bGUoKSksIEludFByb2dyZXNzKHZhbHVlPTApLCBCdXR0b24oZGVzY3JpcHRpb249dScrMTDigKY=\n"
      ]
     },
     "metadata": {},
     "output_type": "display_data"
    }
   ],
   "source": [
    "ip = ipywidgets.IntProgress()\n",
    "# add a button that increments by +10\n",
    "button_plus = ipywidgets.Button(description=\"+10\")\n",
    "# decrements by -10\n",
    "button_minus = ipywidgets.Button(description = \"-10\")\n",
    "\n",
    "ipywidgets.HBox([button_minus, ip, button_plus])"
   ]
  },
  {
   "cell_type": "code",
   "execution_count": 56,
   "metadata": {},
   "outputs": [
    {
     "data": {
      "text/plain": [
       "0"
      ]
     },
     "execution_count": 56,
     "metadata": {},
     "output_type": "execute_result"
    }
   ],
   "source": [
    "ip.value"
   ]
  },
  {
   "cell_type": "code",
   "execution_count": 57,
   "metadata": {},
   "outputs": [],
   "source": [
    "def click_down(event):\n",
    "    ip.value -= 10\n",
    "button_minus.on_click(click_down)"
   ]
  },
  {
   "cell_type": "code",
   "execution_count": 58,
   "metadata": {},
   "outputs": [],
   "source": [
    "def click_up(event):\n",
    "    ip.value += 10\n",
    "button_plus.on_click(click_up)"
   ]
  },
  {
   "cell_type": "code",
   "execution_count": 59,
   "metadata": {},
   "outputs": [
    {
     "data": {
      "text/plain": [
       "50"
      ]
     },
     "execution_count": 59,
     "metadata": {},
     "output_type": "execute_result"
    }
   ],
   "source": [
    "ip.value"
   ]
  },
  {
   "cell_type": "code",
   "execution_count": 60,
   "metadata": {},
   "outputs": [
    {
     "data": {
      "application/vnd.jupyter.widget-view+json": {
       "model_id": "26be592960e34ed4b58cb1a5790a1b3d",
       "version_major": 2,
       "version_minor": 0
      },
      "text/plain": [
       "ColorPicker(value='black')"
      ]
     },
     "metadata": {},
     "output_type": "display_data"
    }
   ],
   "source": [
    "cp = ipywidgets.ColorPicker()\n",
    "cp"
   ]
  },
  {
   "cell_type": "code",
   "execution_count": 61,
   "metadata": {},
   "outputs": [
    {
     "data": {
      "application/vnd.jupyter.widget-view+json": {
       "model_id": "49783b4337464ea88ddf20902c6b931c",
       "version_major": 2,
       "version_minor": 0
      },
      "text/plain": [
       "DatePicker(value=None)"
      ]
     },
     "metadata": {},
     "output_type": "display_data"
    }
   ],
   "source": [
    "ipywidgets.DatePicker()"
   ]
  },
  {
   "cell_type": "code",
   "execution_count": 62,
   "metadata": {},
   "outputs": [
    {
     "data": {
      "application/vnd.jupyter.widget-view+json": {
       "model_id": "f4e937df2bf7494f8e3ce044b93a0b8c",
       "version_major": 2,
       "version_minor": 0
      },
      "text/plain": [
       "Play(value=0)"
      ]
     },
     "metadata": {},
     "output_type": "display_data"
    }
   ],
   "source": [
    "ipywidgets.Play()"
   ]
  },
  {
   "cell_type": "code",
   "execution_count": 65,
   "metadata": {},
   "outputs": [
    {
     "data": {
      "application/vnd.jupyter.widget-view+json": {
       "model_id": "33171652322743f8b8d5b7e722e3c1b1",
       "version_major": 2,
       "version_minor": 0
      },
      "text/plain": [
       "HBox(children=(Play(value=50, interval=50, min=1), IntSlider(value=50, min=1)))"
      ]
     },
     "metadata": {},
     "output_type": "display_data"
    }
   ],
   "source": [
    "# so lets link a play & slider ipywidgets\n",
    "play = ipywidgets.Play(interval = 50, value = 50, min=1, max=100, step=1)\n",
    "# lets also make an int slider\n",
    "slider = ipywidgets.IntSlider()\n",
    "\n",
    "# associate the min & max of the slider with the min & max range of the Play widget\n",
    "ipywidgets.link( (play,'min'), (slider,'min'))\n",
    "ipywidgets.link( (play,'max'), (slider,'max'))\n",
    "ipywidgets.link((play,'value'), (slider, 'value'))\n",
    "ipywidgets.HBox([play,slider])"
   ]
  },
  {
   "cell_type": "code",
   "execution_count": 66,
   "metadata": {},
   "outputs": [
    {
     "data": {
      "application/vnd.jupyter.widget-view+json": {
       "model_id": "077efbfb7b534234a85090a76a039675",
       "version_major": 2,
       "version_minor": 0
      },
      "text/plain": [
       "IntSlider(value=29, min=1)"
      ]
     },
     "metadata": {},
     "output_type": "display_data"
    }
   ],
   "source": [
    "slider"
   ]
  },
  {
   "cell_type": "code",
   "execution_count": 67,
   "metadata": {},
   "outputs": [],
   "source": [
    "#!pip install bqplot\n",
    "import bqplot\n",
    "import numpy as np"
   ]
  },
  {
   "cell_type": "code",
   "execution_count": 69,
   "metadata": {},
   "outputs": [],
   "source": [
    "# use GoG => data first\n",
    "x = np.arange(100)\n",
    "y = np.random.random(100) + 5\n",
    "#x, y"
   ]
  },
  {
   "cell_type": "code",
   "execution_count": 70,
   "metadata": {},
   "outputs": [],
   "source": [
    "# so define how axis/data will be scaled for viewing\n",
    "x_sc = bqplot.LinearScale()\n",
    "y_sc = bqplot.LinearScale()"
   ]
  },
  {
   "cell_type": "code",
   "execution_count": 71,
   "metadata": {},
   "outputs": [],
   "source": [
    "# draw things with our data\n",
    "lines = bqplot.Lines(x=x, y=y, scales={'x':x_sc, 'y':y_sc})"
   ]
  },
  {
   "cell_type": "code",
   "execution_count": 72,
   "metadata": {},
   "outputs": [],
   "source": [
    "# lastly, lets draw some scales\n",
    "ax_x = bqplot.Axis(scale = x_sc, label='X Value')\n",
    "ax_y = bqplot.Axis(scale = y_sc, label = 'Y Value', orientation='vertical')"
   ]
  },
  {
   "cell_type": "code",
   "execution_count": 73,
   "metadata": {},
   "outputs": [
    {
     "data": {
      "application/vnd.jupyter.widget-view+json": {
       "model_id": "7095fbedfcba472e9592b02b6ac5effe",
       "version_major": 2,
       "version_minor": 0
      },
      "text/plain": [
       "RmlndXJlKGF4ZXM9W0F4aXMobGFiZWw9dSdYIFZhbHVlJywgc2NhbGU9TGluZWFyU2NhbGUoKSwgc2lkZT11J2JvdHRvbScpLCBBeGlzKGxhYmVsPXUnWSBWYWx1ZScsIG9yaWVudGF0aW9uPSfigKY=\n"
      ]
     },
     "metadata": {},
     "output_type": "display_data"
    }
   ],
   "source": [
    "fig = bqplot.Figure(marks=[lines], axes=[ax_x, ax_y])\n",
    "display(fig)"
   ]
  },
  {
   "cell_type": "code",
   "execution_count": 74,
   "metadata": {},
   "outputs": [],
   "source": [
    "pz = bqplot.interacts.PanZoom(scales={'x':[x_sc], 'y':[y_sc]})"
   ]
  },
  {
   "cell_type": "code",
   "execution_count": 75,
   "metadata": {},
   "outputs": [
    {
     "data": {
      "application/vnd.jupyter.widget-view+json": {
       "model_id": "9f848609665c40d2adcf994a1112a367",
       "version_major": 2,
       "version_minor": 0
      },
      "text/plain": [
       "RmlndXJlKGF4ZXM9W0F4aXMobGFiZWw9dSdYIFZhbHVlJywgc2NhbGU9TGluZWFyU2NhbGUoKSwgc2lkZT11J2JvdHRvbScpLCBBeGlzKGxhYmVsPXUnWSBWYWx1ZScsIG9yaWVudGF0aW9uPSfigKY=\n"
      ]
     },
     "metadata": {},
     "output_type": "display_data"
    }
   ],
   "source": [
    "fig = bqplot.Figure(marks=[lines], axes=[ax_x,ax_y], interaction = pz)\n",
    "display(fig)"
   ]
  },
  {
   "cell_type": "code",
   "execution_count": 81,
   "metadata": {},
   "outputs": [],
   "source": [
    "# so lets see a failure in action\n",
    "\n",
    "# lets make x from 0-10 in steps of 100\n",
    "x = np.mgrid[0.0:10.0:100j]\n",
    "y1 = x*2\n",
    "y2 = x**2\n",
    "#x"
   ]
  },
  {
   "cell_type": "code",
   "execution_count": 82,
   "metadata": {},
   "outputs": [],
   "source": [
    "# define scales\n",
    "x_sc = bqplot.LinearScale(min=1,max=10)\n",
    "y_sc1 = bqplot.LinearScale(min=1,max=20)\n",
    "y_sc2 = bqplot.LogScale(min=1, max=100)"
   ]
  },
  {
   "cell_type": "code",
   "execution_count": 83,
   "metadata": {},
   "outputs": [],
   "source": [
    "lines1 = bqplot.Lines(x=x,y=y1, scales={'x':x_sc, 'y':y_sc1})\n",
    "lines2 = bqplot.Lines(x=x,y=y2, scales={'x':x_sc, 'y':y_sc2})"
   ]
  },
  {
   "cell_type": "code",
   "execution_count": 84,
   "metadata": {},
   "outputs": [],
   "source": [
    "ax_x = bqplot.Axis(scale = x_sc, Label=\"X\")\n",
    "ax_y1 = bqplot.Axis(scale = y_sc1, label='Y1', orientation='vertical')\n",
    "ax_y2 = bqplot.Axis(scale = y_sc2, label='Y2', orientation='vertical', side='right')"
   ]
  },
  {
   "cell_type": "code",
   "execution_count": 85,
   "metadata": {},
   "outputs": [
    {
     "data": {
      "application/vnd.jupyter.widget-view+json": {
       "model_id": "2428efd8d5224f73b0bc7ea078cbbe37",
       "version_major": 2,
       "version_minor": 0
      },
      "text/plain": [
       "RmlndXJlKGF4ZXM9W0F4aXMoc2NhbGU9TGluZWFyU2NhbGUobWF4PTEwLjAsIG1pbj0xLjApLCBzaWRlPXUnYm90dG9tJyksIEF4aXMobGFiZWw9dSdZMScsIG9yaWVudGF0aW9uPSd2ZXJ0aWPigKY=\n"
      ]
     },
     "metadata": {},
     "output_type": "display_data"
    }
   ],
   "source": [
    "pz = bqplot.interacts.PanZoom(scales={'x': [x_sc], 'y':[y_sc1,y_sc2]})\n",
    "fig = bqplot.Figure(marks=[lines1,lines2], axes = [ax_x, ax_y1, ax_y2], interaction=pz)\n",
    "display(fig)"
   ]
  },
  {
   "cell_type": "code",
   "execution_count": 86,
   "metadata": {},
   "outputs": [],
   "source": [
    "# onto things that work! interactive scatter plot\n",
    "x = np.random.random(100)\n",
    "y = np.random.random(100)\n"
   ]
  },
  {
   "cell_type": "code",
   "execution_count": 87,
   "metadata": {},
   "outputs": [],
   "source": [
    "x_sc = bqplot.LinearScale()\n",
    "y_sc = bqplot.LinearScale()\n",
    "\n",
    "x_ax = bqplot.Axis(scale=x_sc, label='x')\n",
    "y_ax = bqplot.Axis(scale=y_sc, label='y', orientation='vertical')"
   ]
  },
  {
   "cell_type": "code",
   "execution_count": 88,
   "metadata": {},
   "outputs": [],
   "source": [
    "scatters = bqplot.Scatter(x=x, y=y, scales={'x':x_sc, 'y':y_sc})"
   ]
  },
  {
   "cell_type": "code",
   "execution_count": 90,
   "metadata": {},
   "outputs": [
    {
     "data": {
      "application/vnd.jupyter.widget-view+json": {
       "model_id": "00a11646baac4a6db3e0eacfa6437f3b",
       "version_major": 2,
       "version_minor": 0
      },
      "text/plain": [
       "RmlndXJlKGF4ZXM9W0F4aXMobGFiZWw9dSd4Jywgc2NhbGU9TGluZWFyU2NhbGUoKSwgc2lkZT11J2JvdHRvbScpLCBBeGlzKGxhYmVsPXUneScsIG9yaWVudGF0aW9uPSd2ZXJ0aWNhbCcsIHPigKY=\n"
      ]
     },
     "metadata": {},
     "output_type": "display_data"
    }
   ],
   "source": [
    "selector = bqplot.interacts.FastIntervalSelector( scale=x_sc, marks=[scatters])\n",
    "\n",
    "# highlights\n",
    "scatters.unselected_style = {'opacity': 0.5}\n",
    "scatters.selected_style = {'fill':'red', 'stroke':'yellow'}\n",
    "\n",
    "fig = bqplot.Figure(marks=[scatters], axes=[x_ax,y_ax], interaction = selector)\n",
    "display(fig)"
   ]
  },
  {
   "cell_type": "code",
   "execution_count": 92,
   "metadata": {},
   "outputs": [
    {
     "data": {
      "text/plain": [
       "array([0.24745303549229103, 0.804290799770269], dtype=object)"
      ]
     },
     "execution_count": 92,
     "metadata": {},
     "output_type": "execute_result"
    }
   ],
   "source": [
    "selector.selected"
   ]
  },
  {
   "cell_type": "code",
   "execution_count": 93,
   "metadata": {},
   "outputs": [],
   "source": [
    "import pandas as pd\n",
    "initial_year = 1800"
   ]
  },
  {
   "cell_type": "code",
   "execution_count": 94,
   "metadata": {},
   "outputs": [],
   "source": [
    "from wealth_of_nations import process_data, get_min_max, get_data\n"
   ]
  },
  {
   "cell_type": "code",
   "execution_count": 97,
   "metadata": {},
   "outputs": [
    {
     "data": {
      "text/html": [
       "<div>\n",
       "<style scoped>\n",
       "    .dataframe tbody tr th:only-of-type {\n",
       "        vertical-align: middle;\n",
       "    }\n",
       "\n",
       "    .dataframe tbody tr th {\n",
       "        vertical-align: top;\n",
       "    }\n",
       "\n",
       "    .dataframe thead th {\n",
       "        text-align: right;\n",
       "    }\n",
       "</style>\n",
       "<table border=\"1\" class=\"dataframe\">\n",
       "  <thead>\n",
       "    <tr style=\"text-align: right;\">\n",
       "      <th></th>\n",
       "      <th>income</th>\n",
       "      <th>lifeExpectancy</th>\n",
       "      <th>name</th>\n",
       "      <th>population</th>\n",
       "      <th>region</th>\n",
       "    </tr>\n",
       "  </thead>\n",
       "  <tbody>\n",
       "    <tr>\n",
       "      <th>0</th>\n",
       "      <td>[359.93, 359.93, 359.93, 359.93, 359.93, 359.9...</td>\n",
       "      <td>[26.98, 26.98, 26.98, 26.98, 26.98, 26.98, 26....</td>\n",
       "      <td>Angola</td>\n",
       "      <td>[1567028.0, 1567028.0, 1567028.0, 1567028.0, 1...</td>\n",
       "      <td>Sub-Saharan Africa</td>\n",
       "    </tr>\n",
       "    <tr>\n",
       "      <th>1</th>\n",
       "      <td>[553.72, 553.72, 553.72, 553.72, 553.72, 553.7...</td>\n",
       "      <td>[31.0, 31.0, 31.0, 31.0, 31.0, 31.0, 31.0, 31....</td>\n",
       "      <td>Benin</td>\n",
       "      <td>[636559.0, 636559.0, 636559.0, 636559.0, 63655...</td>\n",
       "      <td>Sub-Saharan Africa</td>\n",
       "    </tr>\n",
       "    <tr>\n",
       "      <th>2</th>\n",
       "      <td>[407.36, 407.36, 407.36, 407.36, 407.36, 407.3...</td>\n",
       "      <td>[33.6, 33.6, 33.6, 33.6, 33.6, 33.6, 33.6, 33....</td>\n",
       "      <td>Botswana</td>\n",
       "      <td>[121000.0, 121000.0, 121000.0, 121000.0, 12100...</td>\n",
       "      <td>Sub-Saharan Africa</td>\n",
       "    </tr>\n",
       "    <tr>\n",
       "      <th>3</th>\n",
       "      <td>[454.33, 454.33, 454.33, 454.33, 454.33, 454.3...</td>\n",
       "      <td>[29.2, 29.2, 29.2, 29.2, 29.2, 29.2, 29.2, 29....</td>\n",
       "      <td>Burkina Faso</td>\n",
       "      <td>[1665421.0, 1665421.0, 1665421.0, 1665421.0, 1...</td>\n",
       "      <td>Sub-Saharan Africa</td>\n",
       "    </tr>\n",
       "    <tr>\n",
       "      <th>4</th>\n",
       "      <td>[447.59, 447.59, 447.59, 447.59, 447.59, 447.5...</td>\n",
       "      <td>[31.5, 31.5, 31.5, 31.5, 31.5, 31.5, 31.5, 31....</td>\n",
       "      <td>Burundi</td>\n",
       "      <td>[899097.0, 899097.0, 899097.0, 899097.0, 89909...</td>\n",
       "      <td>Sub-Saharan Africa</td>\n",
       "    </tr>\n",
       "    <tr>\n",
       "      <th>5</th>\n",
       "      <td>[517.46, 517.46, 517.46, 517.46, 517.46, 517.4...</td>\n",
       "      <td>[28.75, 28.75, 28.75, 28.75, 28.75, 28.75, 28....</td>\n",
       "      <td>Cameroon</td>\n",
       "      <td>[1860054.0, 1860054.0, 1860054.0, 1860054.0, 1...</td>\n",
       "      <td>Sub-Saharan Africa</td>\n",
       "    </tr>\n",
       "    <tr>\n",
       "      <th>6</th>\n",
       "      <td>[340.0, 340.0, 340.0, 340.0, 340.0, 340.0, 340...</td>\n",
       "      <td>[33.8, 33.8, 33.8, 33.8, 33.8, 33.8, 33.8, 33....</td>\n",
       "      <td>Cape Verde</td>\n",
       "      <td>[55716.0, 55716.0, 55716.0, 55716.0, 55716.0, ...</td>\n",
       "      <td>Sub-Saharan Africa</td>\n",
       "    </tr>\n",
       "    <tr>\n",
       "      <th>7</th>\n",
       "      <td>[400.69, 400.69, 400.69, 400.69, 400.69, 400.6...</td>\n",
       "      <td>[30.9, 30.9, 30.9, 30.9, 30.9, 30.9, 30.9, 30....</td>\n",
       "      <td>Chad</td>\n",
       "      <td>[1432000.0, 1432000.0, 1432000.0, 1432000.0, 1...</td>\n",
       "      <td>Sub-Saharan Africa</td>\n",
       "    </tr>\n",
       "    <tr>\n",
       "      <th>8</th>\n",
       "      <td>[800.61, 800.61, 800.61, 800.61, 800.61, 800.6...</td>\n",
       "      <td>[32.1, 32.1, 32.1, 32.1, 32.1, 32.1, 32.1, 32....</td>\n",
       "      <td>Comoros</td>\n",
       "      <td>[56346.0, 56346.0, 56346.0, 56346.0, 56346.0, ...</td>\n",
       "      <td>Sub-Saharan Africa</td>\n",
       "    </tr>\n",
       "    <tr>\n",
       "      <th>9</th>\n",
       "      <td>[394.03, 394.03, 394.03, 394.03, 394.03, 394.0...</td>\n",
       "      <td>[31.6, 31.6, 31.6, 31.6, 31.6, 31.6, 31.6, 31....</td>\n",
       "      <td>Congo, Dem. Rep.</td>\n",
       "      <td>[5163819.0, 5163819.0, 5163819.0, 5163819.0, 5...</td>\n",
       "      <td>Sub-Saharan Africa</td>\n",
       "    </tr>\n",
       "    <tr>\n",
       "      <th>10</th>\n",
       "      <td>[387.38, 387.38, 387.38, 387.38, 387.38, 387.3...</td>\n",
       "      <td>[32.7, 32.7, 32.7, 32.7, 32.7, 32.7, 32.7, 32....</td>\n",
       "      <td>Congo, Rep.</td>\n",
       "      <td>[314465.0, 314465.0, 314465.0, 314465.0, 31446...</td>\n",
       "      <td>Sub-Saharan Africa</td>\n",
       "    </tr>\n",
       "    <tr>\n",
       "      <th>11</th>\n",
       "      <td>[549.19, 549.19, 549.19, 549.19, 549.19, 549.1...</td>\n",
       "      <td>[31.9, 31.9, 31.9, 31.9, 31.9, 31.9, 31.9, 31....</td>\n",
       "      <td>Cote d'Ivoire</td>\n",
       "      <td>[1088530.0, 1088530.0, 1088530.0, 1088530.0, 1...</td>\n",
       "      <td>Sub-Saharan Africa</td>\n",
       "    </tr>\n",
       "    <tr>\n",
       "      <th>12</th>\n",
       "      <td>[379.13, 379.13, 379.13, 379.13, 379.13, 379.1...</td>\n",
       "      <td>[29.8, 29.8, 29.8, 29.8, 29.8, 29.8, 29.8, 29....</td>\n",
       "      <td>Equatorial Guinea</td>\n",
       "      <td>[80377.0, 80377.0, 80377.0, 80377.0, 80377.0, ...</td>\n",
       "      <td>Sub-Saharan Africa</td>\n",
       "    </tr>\n",
       "    <tr>\n",
       "      <th>13</th>\n",
       "      <td>[583.95, 583.95, 583.95, 583.95, 583.95, 583.9...</td>\n",
       "      <td>[30.2, 30.2, 30.2, 30.2, 30.2, 30.2, 30.2, 30....</td>\n",
       "      <td>Eritrea</td>\n",
       "      <td>[205010.0, 205010.0, 205010.0, 205010.0, 20501...</td>\n",
       "      <td>Sub-Saharan Africa</td>\n",
       "    </tr>\n",
       "    <tr>\n",
       "      <th>14</th>\n",
       "      <td>[619.21, 619.21, 619.21, 619.21, 619.21, 619.2...</td>\n",
       "      <td>[29.7, 29.7, 29.7, 29.7, 29.7, 29.7, 29.7, 29....</td>\n",
       "      <td>Ethiopia</td>\n",
       "      <td>[2948990.0, 2948990.0, 2948990.0, 2948990.0, 2...</td>\n",
       "      <td>Sub-Saharan Africa</td>\n",
       "    </tr>\n",
       "    <tr>\n",
       "      <th>15</th>\n",
       "      <td>[377.54, 377.54, 377.54, 377.54, 377.54, 377.5...</td>\n",
       "      <td>[30.6, 30.6, 30.6, 30.6, 30.6, 30.6, 30.6, 30....</td>\n",
       "      <td>Gabon</td>\n",
       "      <td>[158227.0, 158227.0, 158227.0, 158227.0, 15822...</td>\n",
       "      <td>Sub-Saharan Africa</td>\n",
       "    </tr>\n",
       "    <tr>\n",
       "      <th>16</th>\n",
       "      <td>[505.14, 505.14, 505.14, 505.14, 505.14, 505.1...</td>\n",
       "      <td>[28.0, 28.0, 28.0, 28.0, 28.0, 28.0, 28.0, 28....</td>\n",
       "      <td>Ghana</td>\n",
       "      <td>[2016034.0, 2016034.0, 2016034.0, 2016034.0, 2...</td>\n",
       "      <td>Sub-Saharan Africa</td>\n",
       "    </tr>\n",
       "    <tr>\n",
       "      <th>17</th>\n",
       "      <td>[375.96, 375.96, 375.96, 375.96, 375.96, 375.9...</td>\n",
       "      <td>[29.5, 29.5, 29.5, 29.5, 29.5, 29.5, 29.5, 29....</td>\n",
       "      <td>Guinea</td>\n",
       "      <td>[983959.0, 983959.0, 983959.0, 983959.0, 98395...</td>\n",
       "      <td>Sub-Saharan Africa</td>\n",
       "    </tr>\n",
       "    <tr>\n",
       "      <th>18</th>\n",
       "      <td>[345.0, 345.0, 345.0, 345.0, 345.0, 345.0, 345...</td>\n",
       "      <td>[29.3, 29.3, 29.3, 29.3, 29.3, 29.3, 29.3, 29....</td>\n",
       "      <td>Guinea-Bissau</td>\n",
       "      <td>[218167.0, 218167.0, 218167.0, 218167.0, 21816...</td>\n",
       "      <td>Sub-Saharan Africa</td>\n",
       "    </tr>\n",
       "    <tr>\n",
       "      <th>19</th>\n",
       "      <td>[512.93, 512.93, 512.93, 512.93, 512.93, 512.9...</td>\n",
       "      <td>[25.5, 25.5, 25.5, 25.5, 25.5, 25.5, 25.5, 25....</td>\n",
       "      <td>Kenya</td>\n",
       "      <td>[2574000.0, 2574000.0, 2574000.0, 2574000.0, 2...</td>\n",
       "      <td>Sub-Saharan Africa</td>\n",
       "    </tr>\n",
       "    <tr>\n",
       "      <th>20</th>\n",
       "      <td>[364.0, 364.0, 364.0, 364.0, 364.0, 364.0, 364...</td>\n",
       "      <td>[32.8, 32.8, 32.8, 32.8, 32.8, 32.8, 32.8, 32....</td>\n",
       "      <td>Lesotho</td>\n",
       "      <td>[276361.0, 276361.0, 276361.0, 276361.0, 27636...</td>\n",
       "      <td>Sub-Saharan Africa</td>\n",
       "    </tr>\n",
       "    <tr>\n",
       "      <th>21</th>\n",
       "      <td>[544.65, 544.65, 544.65, 544.65, 544.65, 544.6...</td>\n",
       "      <td>[31.1, 31.1, 31.1, 31.1, 31.1, 31.1, 31.1, 31....</td>\n",
       "      <td>Liberia</td>\n",
       "      <td>[313543.0, 313543.0, 313543.0, 313543.0, 31354...</td>\n",
       "      <td>Sub-Saharan Africa</td>\n",
       "    </tr>\n",
       "    <tr>\n",
       "      <th>22</th>\n",
       "      <td>[434.14, 434.14, 434.14, 434.14, 434.14, 434.1...</td>\n",
       "      <td>[30.5, 30.5, 30.5, 30.5, 30.5, 30.5, 30.5, 30....</td>\n",
       "      <td>Madagascar</td>\n",
       "      <td>[1683000.0, 1683000.0, 1683000.0, 1683000.0, 1...</td>\n",
       "      <td>Sub-Saharan Africa</td>\n",
       "    </tr>\n",
       "    <tr>\n",
       "      <th>23</th>\n",
       "      <td>[360.0, 360.0, 360.0, 360.0, 360.0, 360.0, 360...</td>\n",
       "      <td>[30.3, 30.3, 30.3, 30.3, 30.3, 30.3, 30.3, 30....</td>\n",
       "      <td>Malawi</td>\n",
       "      <td>[737000.0, 737000.0, 737000.0, 737000.0, 73700...</td>\n",
       "      <td>Sub-Saharan Africa</td>\n",
       "    </tr>\n",
       "    <tr>\n",
       "      <th>24</th>\n",
       "      <td>[427.43, 427.43, 427.43, 427.43, 427.43, 427.4...</td>\n",
       "      <td>[29.6, 29.6, 29.6, 29.6, 29.6, 29.6, 29.6, 29....</td>\n",
       "      <td>Mali</td>\n",
       "      <td>[1403398.0, 1403398.0, 1403398.0, 1403398.0, 1...</td>\n",
       "      <td>Sub-Saharan Africa</td>\n",
       "    </tr>\n",
       "    <tr>\n",
       "      <th>25</th>\n",
       "      <td>[374.38, 374.38, 374.38, 374.38, 374.38, 374.3...</td>\n",
       "      <td>[32.0, 32.0, 32.0, 32.0, 32.0, 32.0, 32.0, 32....</td>\n",
       "      <td>Mauritania</td>\n",
       "      <td>[382696.0, 382696.0, 382696.0, 382696.0, 38269...</td>\n",
       "      <td>Sub-Saharan Africa</td>\n",
       "    </tr>\n",
       "    <tr>\n",
       "      <th>26</th>\n",
       "      <td>[799.61, 799.61, 799.61, 799.61, 799.61, 799.6...</td>\n",
       "      <td>[31.2, 31.20016129032258, 31.20032258064516, 3...</td>\n",
       "      <td>Mauritius</td>\n",
       "      <td>[181000.0, 181000.0, 181000.0, 181000.0, 18100...</td>\n",
       "      <td>Sub-Saharan Africa</td>\n",
       "    </tr>\n",
       "    <tr>\n",
       "      <th>28</th>\n",
       "      <td>[358.0, 358.0, 358.0, 358.0, 358.0, 358.0, 358...</td>\n",
       "      <td>[30.28, 30.28, 30.28, 30.28, 30.28, 30.28, 30....</td>\n",
       "      <td>Mozambique</td>\n",
       "      <td>[2096000.0, 2096000.0, 2096000.0, 2096000.0, 2...</td>\n",
       "      <td>Sub-Saharan Africa</td>\n",
       "    </tr>\n",
       "    <tr>\n",
       "      <th>29</th>\n",
       "      <td>[350.0, 350.0, 350.0, 350.0, 350.0, 350.0, 350...</td>\n",
       "      <td>[32.4, 32.4, 32.4, 32.4, 32.4, 32.4, 32.4, 32....</td>\n",
       "      <td>Namibia</td>\n",
       "      <td>[229000.0, 229000.0, 229000.0, 229000.0, 22900...</td>\n",
       "      <td>Sub-Saharan Africa</td>\n",
       "    </tr>\n",
       "    <tr>\n",
       "      <th>30</th>\n",
       "      <td>[371.26, 371.26, 371.26, 371.26, 371.26, 371.2...</td>\n",
       "      <td>[30.8, 30.8, 30.8, 30.8, 30.8, 30.8, 30.8, 30....</td>\n",
       "      <td>Niger</td>\n",
       "      <td>[1244861.0, 1244861.0, 1244861.0, 1244861.0, 1...</td>\n",
       "      <td>Sub-Saharan Africa</td>\n",
       "    </tr>\n",
       "    <tr>\n",
       "      <th>...</th>\n",
       "      <td>...</td>\n",
       "      <td>...</td>\n",
       "      <td>...</td>\n",
       "      <td>...</td>\n",
       "      <td>...</td>\n",
       "    </tr>\n",
       "    <tr>\n",
       "      <th>149</th>\n",
       "      <td>[346.43, 346.7945, 347.159, 347.5235, 347.8880...</td>\n",
       "      <td>[54.96, 54.96, 54.96, 54.96, 54.96, 54.96, 54....</td>\n",
       "      <td>Uzbekistan</td>\n",
       "      <td>[1919159.0, 1919159.0, 1919159.0, 1919159.0, 1...</td>\n",
       "      <td>Europe &amp; Central Asia</td>\n",
       "    </tr>\n",
       "    <tr>\n",
       "      <th>150</th>\n",
       "      <td>[671.48, 672.9575, 674.4350000000001, 675.9125...</td>\n",
       "      <td>[34.05, 34.05, 34.05, 34.05, 34.05, 34.05, 34....</td>\n",
       "      <td>Australia</td>\n",
       "      <td>[334000.0, 334000.0, 334000.0, 334000.0, 33400...</td>\n",
       "      <td>East Asia &amp; Pacific</td>\n",
       "    </tr>\n",
       "    <tr>\n",
       "      <th>151</th>\n",
       "      <td>[1011.68, 1011.68, 1011.68, 1011.68, 1011.68, ...</td>\n",
       "      <td>[29.2, 29.2, 29.2, 29.2, 29.2, 29.2, 29.2, 29....</td>\n",
       "      <td>Brunei</td>\n",
       "      <td>[2128.0, 2128.0, 2128.0, 2128.0, 2128.0, 2128....</td>\n",
       "      <td>East Asia &amp; Pacific</td>\n",
       "    </tr>\n",
       "    <tr>\n",
       "      <th>152</th>\n",
       "      <td>[809.23, 809.23, 809.23, 809.23, 809.23, 809.2...</td>\n",
       "      <td>[35.0, 35.0, 35.0, 35.0, 35.0, 35.0, 35.0, 35....</td>\n",
       "      <td>Cambodia</td>\n",
       "      <td>[2090000.0, 2090000.0, 2090000.0, 2090000.0, 2...</td>\n",
       "      <td>East Asia &amp; Pacific</td>\n",
       "    </tr>\n",
       "    <tr>\n",
       "      <th>153</th>\n",
       "      <td>[985.89, 979.7479999999999, 973.606, 967.46399...</td>\n",
       "      <td>[32.0, 32.0, 32.0, 32.0, 32.0, 32.0, 32.0, 32....</td>\n",
       "      <td>China</td>\n",
       "      <td>[381000000.0, 381000000.0, 381000000.0, 381000...</td>\n",
       "      <td>East Asia &amp; Pacific</td>\n",
       "    </tr>\n",
       "    <tr>\n",
       "      <th>154</th>\n",
       "      <td>[472.12, 472.12, 472.12, 472.12, 472.12, 472.1...</td>\n",
       "      <td>[26.1, 26.1, 26.1, 26.1, 26.1, 26.1, 26.1, 26....</td>\n",
       "      <td>Fiji</td>\n",
       "      <td>[130533.0, 130753.16279069768, 130973.32558139...</td>\n",
       "      <td>East Asia &amp; Pacific</td>\n",
       "    </tr>\n",
       "    <tr>\n",
       "      <th>155</th>\n",
       "      <td>[809.34, 809.34, 809.34, 809.34, 809.34, 809.3...</td>\n",
       "      <td>[45.51, 45.51, 45.51, 45.51, 45.51, 45.51, 45....</td>\n",
       "      <td>French Polynesia</td>\n",
       "      <td>[62530.0, 62610.6976744186, 62691.395348837206...</td>\n",
       "      <td>East Asia &amp; Pacific</td>\n",
       "    </tr>\n",
       "    <tr>\n",
       "      <th>156</th>\n",
       "      <td>[790.15, 790.15, 790.15, 790.15, 790.15, 790.1...</td>\n",
       "      <td>[59.22, 59.22, 59.22, 59.22, 59.22, 59.22, 59....</td>\n",
       "      <td>Hong Kong, China</td>\n",
       "      <td>[20000.0, 20000.0, 20000.0, 20000.0, 20000.0, ...</td>\n",
       "      <td>East Asia &amp; Pacific</td>\n",
       "    </tr>\n",
       "    <tr>\n",
       "      <th>157</th>\n",
       "      <td>[514.12, 514.3505, 514.581, 514.8115, 515.042,...</td>\n",
       "      <td>[30.0, 30.0, 30.0, 30.0, 30.0, 30.0, 30.0, 30....</td>\n",
       "      <td>Indonesia</td>\n",
       "      <td>[17927000.0, 17927000.0, 17927000.0, 17927000....</td>\n",
       "      <td>East Asia &amp; Pacific</td>\n",
       "    </tr>\n",
       "    <tr>\n",
       "      <th>158</th>\n",
       "      <td>[1055.06, 1056.4869999999999, 1057.914, 1059.3...</td>\n",
       "      <td>[36.4, 36.400461538461535, 36.40092307692308, ...</td>\n",
       "      <td>Japan</td>\n",
       "      <td>[31000000.0, 31000000.0, 31000000.0, 31000000....</td>\n",
       "      <td>East Asia &amp; Pacific</td>\n",
       "    </tr>\n",
       "    <tr>\n",
       "      <th>159</th>\n",
       "      <td>[698.0, 698.0, 698.0, 698.0, 698.0, 698.0, 698...</td>\n",
       "      <td>[26.0, 26.0, 26.0, 26.0, 26.0, 26.0, 26.0, 26....</td>\n",
       "      <td>Korea, Dem. Rep.</td>\n",
       "      <td>[4345000.0, 4345000.0, 4345000.0, 4345000.0, 4...</td>\n",
       "      <td>East Asia &amp; Pacific</td>\n",
       "    </tr>\n",
       "    <tr>\n",
       "      <th>160</th>\n",
       "      <td>[596.0, 596.0, 596.0, 596.0, 596.0, 596.0, 596...</td>\n",
       "      <td>[25.8, 25.8, 25.8, 25.8, 25.8, 25.8, 25.8, 25....</td>\n",
       "      <td>Korea, Rep.</td>\n",
       "      <td>[9395000.0, 9395000.0, 9395000.0, 9395000.0, 9...</td>\n",
       "      <td>East Asia &amp; Pacific</td>\n",
       "    </tr>\n",
       "    <tr>\n",
       "      <th>161</th>\n",
       "      <td>[607.01, 607.01, 607.01, 607.01, 607.01, 607.0...</td>\n",
       "      <td>[52.98, 52.98, 52.98, 52.98, 52.98, 52.98, 52....</td>\n",
       "      <td>Macao, China</td>\n",
       "      <td>[35000.0, 35000.0, 35000.0, 35000.0, 35000.0, ...</td>\n",
       "      <td>East Asia &amp; Pacific</td>\n",
       "    </tr>\n",
       "    <tr>\n",
       "      <th>162</th>\n",
       "      <td>[750.13, 750.13, 750.13, 750.13, 750.13, 750.1...</td>\n",
       "      <td>[30.6, 30.6, 30.6, 30.6, 30.6, 30.6, 30.6, 30....</td>\n",
       "      <td>Malaysia</td>\n",
       "      <td>[287000.0, 287000.0, 287000.0, 287000.0, 28700...</td>\n",
       "      <td>East Asia &amp; Pacific</td>\n",
       "    </tr>\n",
       "    <tr>\n",
       "      <th>163</th>\n",
       "      <td>[553.05, 553.05, 553.05, 553.05, 553.05, 553.0...</td>\n",
       "      <td>[53.78, 53.78, 53.78, 53.78, 53.78, 53.78, 53....</td>\n",
       "      <td>Micronesia, Fed. Sts.</td>\n",
       "      <td>[16416.0, 16416.0, 16416.0, 16416.0, 16416.0, ...</td>\n",
       "      <td>East Asia &amp; Pacific</td>\n",
       "    </tr>\n",
       "    <tr>\n",
       "      <th>164</th>\n",
       "      <td>[606.93, 606.93, 606.93, 606.93, 606.93, 606.9...</td>\n",
       "      <td>[31.8, 31.8, 31.8, 31.8, 31.8, 31.8, 31.8, 31....</td>\n",
       "      <td>Mongolia</td>\n",
       "      <td>[619000.0, 619000.0, 619000.0, 619000.0, 61900...</td>\n",
       "      <td>East Asia &amp; Pacific</td>\n",
       "    </tr>\n",
       "    <tr>\n",
       "      <th>165</th>\n",
       "      <td>[569.07, 569.07, 569.07, 569.07, 569.07, 569.0...</td>\n",
       "      <td>[30.8, 30.8, 30.8, 30.8, 30.8, 30.8, 30.8, 30....</td>\n",
       "      <td>Myanmar</td>\n",
       "      <td>[3506000.0, 3506000.0, 3506000.0, 3506000.0, 3...</td>\n",
       "      <td>East Asia &amp; Pacific</td>\n",
       "    </tr>\n",
       "    <tr>\n",
       "      <th>166</th>\n",
       "      <td>[944.24, 944.24, 944.24, 944.24, 944.24, 944.2...</td>\n",
       "      <td>[51.93, 51.93, 51.93, 51.93, 51.93, 51.93, 51....</td>\n",
       "      <td>New Caledonia</td>\n",
       "      <td>[29432.0, 29432.0, 29432.0, 29432.0, 29432.0, ...</td>\n",
       "      <td>East Asia &amp; Pacific</td>\n",
       "    </tr>\n",
       "    <tr>\n",
       "      <th>167</th>\n",
       "      <td>[541.62, 541.62, 541.62, 541.62, 541.62, 541.6...</td>\n",
       "      <td>[34.05, 34.05, 34.05, 34.05, 34.05, 34.05, 34....</td>\n",
       "      <td>New Zealand</td>\n",
       "      <td>[100000.0, 100000.0, 100000.0, 100000.0, 10000...</td>\n",
       "      <td>East Asia &amp; Pacific</td>\n",
       "    </tr>\n",
       "    <tr>\n",
       "      <th>168</th>\n",
       "      <td>[573.29, 573.29, 573.29, 573.29, 573.29, 573.2...</td>\n",
       "      <td>[31.5, 31.5, 31.5, 31.5, 31.5, 31.5, 31.5, 31....</td>\n",
       "      <td>Papua New Guinea</td>\n",
       "      <td>[754894.0, 754894.0, 754894.0, 754894.0, 75489...</td>\n",
       "      <td>East Asia &amp; Pacific</td>\n",
       "    </tr>\n",
       "    <tr>\n",
       "      <th>169</th>\n",
       "      <td>[626.97, 626.97, 626.97, 626.97, 626.97, 626.9...</td>\n",
       "      <td>[30.9, 30.9, 30.9, 30.9, 30.9, 30.9, 30.9, 30....</td>\n",
       "      <td>Philippines</td>\n",
       "      <td>[2176000.0, 2176000.0, 2176000.0, 2176000.0, 2...</td>\n",
       "      <td>East Asia &amp; Pacific</td>\n",
       "    </tr>\n",
       "    <tr>\n",
       "      <th>170</th>\n",
       "      <td>[1308.44, 1308.44, 1308.44, 1308.44, 1308.44, ...</td>\n",
       "      <td>[44.9, 44.9, 44.9, 44.9, 44.9, 44.9, 44.9, 44....</td>\n",
       "      <td>Samoa</td>\n",
       "      <td>[47300.0, 47291.98, 47283.96, 47275.94, 47267....</td>\n",
       "      <td>East Asia &amp; Pacific</td>\n",
       "    </tr>\n",
       "    <tr>\n",
       "      <th>171</th>\n",
       "      <td>[861.82, 861.82, 861.82, 861.82, 861.82, 861.8...</td>\n",
       "      <td>[29.1, 29.1, 29.1, 29.1, 29.1, 29.1, 29.1, 29....</td>\n",
       "      <td>Singapore</td>\n",
       "      <td>[30000.0, 30000.0, 30000.0, 30000.0, 30000.0, ...</td>\n",
       "      <td>East Asia &amp; Pacific</td>\n",
       "    </tr>\n",
       "    <tr>\n",
       "      <th>172</th>\n",
       "      <td>[387.81, 387.81, 387.81, 387.81, 387.81, 387.8...</td>\n",
       "      <td>[25.7, 25.7, 25.7, 25.7, 25.7, 25.7, 25.7, 25....</td>\n",
       "      <td>Solomon Islands</td>\n",
       "      <td>[56998.0, 56998.0, 56998.0, 56998.0, 56998.0, ...</td>\n",
       "      <td>East Asia &amp; Pacific</td>\n",
       "    </tr>\n",
       "    <tr>\n",
       "      <th>173</th>\n",
       "      <td>[871.0, 871.0, 871.0, 871.0, 871.0, 871.0, 871...</td>\n",
       "      <td>[28.3, 28.3, 28.3, 28.3, 28.3, 28.3, 28.3, 28....</td>\n",
       "      <td>Taiwan</td>\n",
       "      <td>[2000000.0, 2000000.0, 2000000.0, 2000000.0, 2...</td>\n",
       "      <td>East Asia &amp; Pacific</td>\n",
       "    </tr>\n",
       "    <tr>\n",
       "      <th>174</th>\n",
       "      <td>[496.98, 496.98, 496.98, 496.98, 496.98, 496.9...</td>\n",
       "      <td>[30.4, 30.4, 30.4, 30.4, 30.4, 30.4, 30.4, 30....</td>\n",
       "      <td>Thailand</td>\n",
       "      <td>[4665000.0, 4665000.0, 4665000.0, 4665000.0, 4...</td>\n",
       "      <td>East Asia &amp; Pacific</td>\n",
       "    </tr>\n",
       "    <tr>\n",
       "      <th>175</th>\n",
       "      <td>[514.12, 514.3505, 514.581, 514.8115, 515.042,...</td>\n",
       "      <td>[28.97, 28.97, 28.97, 28.97, 28.97, 28.97, 28....</td>\n",
       "      <td>Timor-Leste</td>\n",
       "      <td>[137262.0, 137262.0, 137262.0, 137262.0, 13726...</td>\n",
       "      <td>East Asia &amp; Pacific</td>\n",
       "    </tr>\n",
       "    <tr>\n",
       "      <th>177</th>\n",
       "      <td>[667.71, 667.71, 667.71, 667.71, 667.71, 667.7...</td>\n",
       "      <td>[57.91, 57.91, 57.91, 57.91, 57.91, 57.91, 57....</td>\n",
       "      <td>Tonga</td>\n",
       "      <td>[18658.0, 18654.325581395347, 18650.6511627907...</td>\n",
       "      <td>East Asia &amp; Pacific</td>\n",
       "    </tr>\n",
       "    <tr>\n",
       "      <th>178</th>\n",
       "      <td>[459.71, 459.71, 459.71, 459.71, 459.71, 459.7...</td>\n",
       "      <td>[32.0, 32.0, 32.0, 32.0, 32.0, 32.0, 32.0, 32....</td>\n",
       "      <td>Vietnam</td>\n",
       "      <td>[6551000.0, 6551000.0, 6551000.0, 6551000.0, 6...</td>\n",
       "      <td>East Asia &amp; Pacific</td>\n",
       "    </tr>\n",
       "    <tr>\n",
       "      <th>179</th>\n",
       "      <td>[829.58, 829.58, 829.58, 829.58, 829.58, 829.5...</td>\n",
       "      <td>[40.8, 40.8, 40.8, 40.8, 40.8, 40.8, 40.8, 40....</td>\n",
       "      <td>Vanuatu</td>\n",
       "      <td>[27791.0, 27791.0, 27791.0, 27791.0, 27791.0, ...</td>\n",
       "      <td>East Asia &amp; Pacific</td>\n",
       "    </tr>\n",
       "  </tbody>\n",
       "</table>\n",
       "<p>178 rows × 5 columns</p>\n",
       "</div>"
      ],
      "text/plain": [
       "                                                income  \\\n",
       "0    [359.93, 359.93, 359.93, 359.93, 359.93, 359.9...   \n",
       "1    [553.72, 553.72, 553.72, 553.72, 553.72, 553.7...   \n",
       "2    [407.36, 407.36, 407.36, 407.36, 407.36, 407.3...   \n",
       "3    [454.33, 454.33, 454.33, 454.33, 454.33, 454.3...   \n",
       "4    [447.59, 447.59, 447.59, 447.59, 447.59, 447.5...   \n",
       "5    [517.46, 517.46, 517.46, 517.46, 517.46, 517.4...   \n",
       "6    [340.0, 340.0, 340.0, 340.0, 340.0, 340.0, 340...   \n",
       "7    [400.69, 400.69, 400.69, 400.69, 400.69, 400.6...   \n",
       "8    [800.61, 800.61, 800.61, 800.61, 800.61, 800.6...   \n",
       "9    [394.03, 394.03, 394.03, 394.03, 394.03, 394.0...   \n",
       "10   [387.38, 387.38, 387.38, 387.38, 387.38, 387.3...   \n",
       "11   [549.19, 549.19, 549.19, 549.19, 549.19, 549.1...   \n",
       "12   [379.13, 379.13, 379.13, 379.13, 379.13, 379.1...   \n",
       "13   [583.95, 583.95, 583.95, 583.95, 583.95, 583.9...   \n",
       "14   [619.21, 619.21, 619.21, 619.21, 619.21, 619.2...   \n",
       "15   [377.54, 377.54, 377.54, 377.54, 377.54, 377.5...   \n",
       "16   [505.14, 505.14, 505.14, 505.14, 505.14, 505.1...   \n",
       "17   [375.96, 375.96, 375.96, 375.96, 375.96, 375.9...   \n",
       "18   [345.0, 345.0, 345.0, 345.0, 345.0, 345.0, 345...   \n",
       "19   [512.93, 512.93, 512.93, 512.93, 512.93, 512.9...   \n",
       "20   [364.0, 364.0, 364.0, 364.0, 364.0, 364.0, 364...   \n",
       "21   [544.65, 544.65, 544.65, 544.65, 544.65, 544.6...   \n",
       "22   [434.14, 434.14, 434.14, 434.14, 434.14, 434.1...   \n",
       "23   [360.0, 360.0, 360.0, 360.0, 360.0, 360.0, 360...   \n",
       "24   [427.43, 427.43, 427.43, 427.43, 427.43, 427.4...   \n",
       "25   [374.38, 374.38, 374.38, 374.38, 374.38, 374.3...   \n",
       "26   [799.61, 799.61, 799.61, 799.61, 799.61, 799.6...   \n",
       "28   [358.0, 358.0, 358.0, 358.0, 358.0, 358.0, 358...   \n",
       "29   [350.0, 350.0, 350.0, 350.0, 350.0, 350.0, 350...   \n",
       "30   [371.26, 371.26, 371.26, 371.26, 371.26, 371.2...   \n",
       "..                                                 ...   \n",
       "149  [346.43, 346.7945, 347.159, 347.5235, 347.8880...   \n",
       "150  [671.48, 672.9575, 674.4350000000001, 675.9125...   \n",
       "151  [1011.68, 1011.68, 1011.68, 1011.68, 1011.68, ...   \n",
       "152  [809.23, 809.23, 809.23, 809.23, 809.23, 809.2...   \n",
       "153  [985.89, 979.7479999999999, 973.606, 967.46399...   \n",
       "154  [472.12, 472.12, 472.12, 472.12, 472.12, 472.1...   \n",
       "155  [809.34, 809.34, 809.34, 809.34, 809.34, 809.3...   \n",
       "156  [790.15, 790.15, 790.15, 790.15, 790.15, 790.1...   \n",
       "157  [514.12, 514.3505, 514.581, 514.8115, 515.042,...   \n",
       "158  [1055.06, 1056.4869999999999, 1057.914, 1059.3...   \n",
       "159  [698.0, 698.0, 698.0, 698.0, 698.0, 698.0, 698...   \n",
       "160  [596.0, 596.0, 596.0, 596.0, 596.0, 596.0, 596...   \n",
       "161  [607.01, 607.01, 607.01, 607.01, 607.01, 607.0...   \n",
       "162  [750.13, 750.13, 750.13, 750.13, 750.13, 750.1...   \n",
       "163  [553.05, 553.05, 553.05, 553.05, 553.05, 553.0...   \n",
       "164  [606.93, 606.93, 606.93, 606.93, 606.93, 606.9...   \n",
       "165  [569.07, 569.07, 569.07, 569.07, 569.07, 569.0...   \n",
       "166  [944.24, 944.24, 944.24, 944.24, 944.24, 944.2...   \n",
       "167  [541.62, 541.62, 541.62, 541.62, 541.62, 541.6...   \n",
       "168  [573.29, 573.29, 573.29, 573.29, 573.29, 573.2...   \n",
       "169  [626.97, 626.97, 626.97, 626.97, 626.97, 626.9...   \n",
       "170  [1308.44, 1308.44, 1308.44, 1308.44, 1308.44, ...   \n",
       "171  [861.82, 861.82, 861.82, 861.82, 861.82, 861.8...   \n",
       "172  [387.81, 387.81, 387.81, 387.81, 387.81, 387.8...   \n",
       "173  [871.0, 871.0, 871.0, 871.0, 871.0, 871.0, 871...   \n",
       "174  [496.98, 496.98, 496.98, 496.98, 496.98, 496.9...   \n",
       "175  [514.12, 514.3505, 514.581, 514.8115, 515.042,...   \n",
       "177  [667.71, 667.71, 667.71, 667.71, 667.71, 667.7...   \n",
       "178  [459.71, 459.71, 459.71, 459.71, 459.71, 459.7...   \n",
       "179  [829.58, 829.58, 829.58, 829.58, 829.58, 829.5...   \n",
       "\n",
       "                                        lifeExpectancy                   name  \\\n",
       "0    [26.98, 26.98, 26.98, 26.98, 26.98, 26.98, 26....                 Angola   \n",
       "1    [31.0, 31.0, 31.0, 31.0, 31.0, 31.0, 31.0, 31....                  Benin   \n",
       "2    [33.6, 33.6, 33.6, 33.6, 33.6, 33.6, 33.6, 33....               Botswana   \n",
       "3    [29.2, 29.2, 29.2, 29.2, 29.2, 29.2, 29.2, 29....           Burkina Faso   \n",
       "4    [31.5, 31.5, 31.5, 31.5, 31.5, 31.5, 31.5, 31....                Burundi   \n",
       "5    [28.75, 28.75, 28.75, 28.75, 28.75, 28.75, 28....               Cameroon   \n",
       "6    [33.8, 33.8, 33.8, 33.8, 33.8, 33.8, 33.8, 33....             Cape Verde   \n",
       "7    [30.9, 30.9, 30.9, 30.9, 30.9, 30.9, 30.9, 30....                   Chad   \n",
       "8    [32.1, 32.1, 32.1, 32.1, 32.1, 32.1, 32.1, 32....                Comoros   \n",
       "9    [31.6, 31.6, 31.6, 31.6, 31.6, 31.6, 31.6, 31....       Congo, Dem. Rep.   \n",
       "10   [32.7, 32.7, 32.7, 32.7, 32.7, 32.7, 32.7, 32....            Congo, Rep.   \n",
       "11   [31.9, 31.9, 31.9, 31.9, 31.9, 31.9, 31.9, 31....          Cote d'Ivoire   \n",
       "12   [29.8, 29.8, 29.8, 29.8, 29.8, 29.8, 29.8, 29....      Equatorial Guinea   \n",
       "13   [30.2, 30.2, 30.2, 30.2, 30.2, 30.2, 30.2, 30....                Eritrea   \n",
       "14   [29.7, 29.7, 29.7, 29.7, 29.7, 29.7, 29.7, 29....               Ethiopia   \n",
       "15   [30.6, 30.6, 30.6, 30.6, 30.6, 30.6, 30.6, 30....                  Gabon   \n",
       "16   [28.0, 28.0, 28.0, 28.0, 28.0, 28.0, 28.0, 28....                  Ghana   \n",
       "17   [29.5, 29.5, 29.5, 29.5, 29.5, 29.5, 29.5, 29....                 Guinea   \n",
       "18   [29.3, 29.3, 29.3, 29.3, 29.3, 29.3, 29.3, 29....          Guinea-Bissau   \n",
       "19   [25.5, 25.5, 25.5, 25.5, 25.5, 25.5, 25.5, 25....                  Kenya   \n",
       "20   [32.8, 32.8, 32.8, 32.8, 32.8, 32.8, 32.8, 32....                Lesotho   \n",
       "21   [31.1, 31.1, 31.1, 31.1, 31.1, 31.1, 31.1, 31....                Liberia   \n",
       "22   [30.5, 30.5, 30.5, 30.5, 30.5, 30.5, 30.5, 30....             Madagascar   \n",
       "23   [30.3, 30.3, 30.3, 30.3, 30.3, 30.3, 30.3, 30....                 Malawi   \n",
       "24   [29.6, 29.6, 29.6, 29.6, 29.6, 29.6, 29.6, 29....                   Mali   \n",
       "25   [32.0, 32.0, 32.0, 32.0, 32.0, 32.0, 32.0, 32....             Mauritania   \n",
       "26   [31.2, 31.20016129032258, 31.20032258064516, 3...              Mauritius   \n",
       "28   [30.28, 30.28, 30.28, 30.28, 30.28, 30.28, 30....             Mozambique   \n",
       "29   [32.4, 32.4, 32.4, 32.4, 32.4, 32.4, 32.4, 32....                Namibia   \n",
       "30   [30.8, 30.8, 30.8, 30.8, 30.8, 30.8, 30.8, 30....                  Niger   \n",
       "..                                                 ...                    ...   \n",
       "149  [54.96, 54.96, 54.96, 54.96, 54.96, 54.96, 54....             Uzbekistan   \n",
       "150  [34.05, 34.05, 34.05, 34.05, 34.05, 34.05, 34....              Australia   \n",
       "151  [29.2, 29.2, 29.2, 29.2, 29.2, 29.2, 29.2, 29....                 Brunei   \n",
       "152  [35.0, 35.0, 35.0, 35.0, 35.0, 35.0, 35.0, 35....               Cambodia   \n",
       "153  [32.0, 32.0, 32.0, 32.0, 32.0, 32.0, 32.0, 32....                  China   \n",
       "154  [26.1, 26.1, 26.1, 26.1, 26.1, 26.1, 26.1, 26....                   Fiji   \n",
       "155  [45.51, 45.51, 45.51, 45.51, 45.51, 45.51, 45....       French Polynesia   \n",
       "156  [59.22, 59.22, 59.22, 59.22, 59.22, 59.22, 59....       Hong Kong, China   \n",
       "157  [30.0, 30.0, 30.0, 30.0, 30.0, 30.0, 30.0, 30....              Indonesia   \n",
       "158  [36.4, 36.400461538461535, 36.40092307692308, ...                  Japan   \n",
       "159  [26.0, 26.0, 26.0, 26.0, 26.0, 26.0, 26.0, 26....       Korea, Dem. Rep.   \n",
       "160  [25.8, 25.8, 25.8, 25.8, 25.8, 25.8, 25.8, 25....            Korea, Rep.   \n",
       "161  [52.98, 52.98, 52.98, 52.98, 52.98, 52.98, 52....           Macao, China   \n",
       "162  [30.6, 30.6, 30.6, 30.6, 30.6, 30.6, 30.6, 30....               Malaysia   \n",
       "163  [53.78, 53.78, 53.78, 53.78, 53.78, 53.78, 53....  Micronesia, Fed. Sts.   \n",
       "164  [31.8, 31.8, 31.8, 31.8, 31.8, 31.8, 31.8, 31....               Mongolia   \n",
       "165  [30.8, 30.8, 30.8, 30.8, 30.8, 30.8, 30.8, 30....                Myanmar   \n",
       "166  [51.93, 51.93, 51.93, 51.93, 51.93, 51.93, 51....          New Caledonia   \n",
       "167  [34.05, 34.05, 34.05, 34.05, 34.05, 34.05, 34....            New Zealand   \n",
       "168  [31.5, 31.5, 31.5, 31.5, 31.5, 31.5, 31.5, 31....       Papua New Guinea   \n",
       "169  [30.9, 30.9, 30.9, 30.9, 30.9, 30.9, 30.9, 30....            Philippines   \n",
       "170  [44.9, 44.9, 44.9, 44.9, 44.9, 44.9, 44.9, 44....                  Samoa   \n",
       "171  [29.1, 29.1, 29.1, 29.1, 29.1, 29.1, 29.1, 29....              Singapore   \n",
       "172  [25.7, 25.7, 25.7, 25.7, 25.7, 25.7, 25.7, 25....        Solomon Islands   \n",
       "173  [28.3, 28.3, 28.3, 28.3, 28.3, 28.3, 28.3, 28....                 Taiwan   \n",
       "174  [30.4, 30.4, 30.4, 30.4, 30.4, 30.4, 30.4, 30....               Thailand   \n",
       "175  [28.97, 28.97, 28.97, 28.97, 28.97, 28.97, 28....            Timor-Leste   \n",
       "177  [57.91, 57.91, 57.91, 57.91, 57.91, 57.91, 57....                  Tonga   \n",
       "178  [32.0, 32.0, 32.0, 32.0, 32.0, 32.0, 32.0, 32....                Vietnam   \n",
       "179  [40.8, 40.8, 40.8, 40.8, 40.8, 40.8, 40.8, 40....                Vanuatu   \n",
       "\n",
       "                                            population                 region  \n",
       "0    [1567028.0, 1567028.0, 1567028.0, 1567028.0, 1...     Sub-Saharan Africa  \n",
       "1    [636559.0, 636559.0, 636559.0, 636559.0, 63655...     Sub-Saharan Africa  \n",
       "2    [121000.0, 121000.0, 121000.0, 121000.0, 12100...     Sub-Saharan Africa  \n",
       "3    [1665421.0, 1665421.0, 1665421.0, 1665421.0, 1...     Sub-Saharan Africa  \n",
       "4    [899097.0, 899097.0, 899097.0, 899097.0, 89909...     Sub-Saharan Africa  \n",
       "5    [1860054.0, 1860054.0, 1860054.0, 1860054.0, 1...     Sub-Saharan Africa  \n",
       "6    [55716.0, 55716.0, 55716.0, 55716.0, 55716.0, ...     Sub-Saharan Africa  \n",
       "7    [1432000.0, 1432000.0, 1432000.0, 1432000.0, 1...     Sub-Saharan Africa  \n",
       "8    [56346.0, 56346.0, 56346.0, 56346.0, 56346.0, ...     Sub-Saharan Africa  \n",
       "9    [5163819.0, 5163819.0, 5163819.0, 5163819.0, 5...     Sub-Saharan Africa  \n",
       "10   [314465.0, 314465.0, 314465.0, 314465.0, 31446...     Sub-Saharan Africa  \n",
       "11   [1088530.0, 1088530.0, 1088530.0, 1088530.0, 1...     Sub-Saharan Africa  \n",
       "12   [80377.0, 80377.0, 80377.0, 80377.0, 80377.0, ...     Sub-Saharan Africa  \n",
       "13   [205010.0, 205010.0, 205010.0, 205010.0, 20501...     Sub-Saharan Africa  \n",
       "14   [2948990.0, 2948990.0, 2948990.0, 2948990.0, 2...     Sub-Saharan Africa  \n",
       "15   [158227.0, 158227.0, 158227.0, 158227.0, 15822...     Sub-Saharan Africa  \n",
       "16   [2016034.0, 2016034.0, 2016034.0, 2016034.0, 2...     Sub-Saharan Africa  \n",
       "17   [983959.0, 983959.0, 983959.0, 983959.0, 98395...     Sub-Saharan Africa  \n",
       "18   [218167.0, 218167.0, 218167.0, 218167.0, 21816...     Sub-Saharan Africa  \n",
       "19   [2574000.0, 2574000.0, 2574000.0, 2574000.0, 2...     Sub-Saharan Africa  \n",
       "20   [276361.0, 276361.0, 276361.0, 276361.0, 27636...     Sub-Saharan Africa  \n",
       "21   [313543.0, 313543.0, 313543.0, 313543.0, 31354...     Sub-Saharan Africa  \n",
       "22   [1683000.0, 1683000.0, 1683000.0, 1683000.0, 1...     Sub-Saharan Africa  \n",
       "23   [737000.0, 737000.0, 737000.0, 737000.0, 73700...     Sub-Saharan Africa  \n",
       "24   [1403398.0, 1403398.0, 1403398.0, 1403398.0, 1...     Sub-Saharan Africa  \n",
       "25   [382696.0, 382696.0, 382696.0, 382696.0, 38269...     Sub-Saharan Africa  \n",
       "26   [181000.0, 181000.0, 181000.0, 181000.0, 18100...     Sub-Saharan Africa  \n",
       "28   [2096000.0, 2096000.0, 2096000.0, 2096000.0, 2...     Sub-Saharan Africa  \n",
       "29   [229000.0, 229000.0, 229000.0, 229000.0, 22900...     Sub-Saharan Africa  \n",
       "30   [1244861.0, 1244861.0, 1244861.0, 1244861.0, 1...     Sub-Saharan Africa  \n",
       "..                                                 ...                    ...  \n",
       "149  [1919159.0, 1919159.0, 1919159.0, 1919159.0, 1...  Europe & Central Asia  \n",
       "150  [334000.0, 334000.0, 334000.0, 334000.0, 33400...    East Asia & Pacific  \n",
       "151  [2128.0, 2128.0, 2128.0, 2128.0, 2128.0, 2128....    East Asia & Pacific  \n",
       "152  [2090000.0, 2090000.0, 2090000.0, 2090000.0, 2...    East Asia & Pacific  \n",
       "153  [381000000.0, 381000000.0, 381000000.0, 381000...    East Asia & Pacific  \n",
       "154  [130533.0, 130753.16279069768, 130973.32558139...    East Asia & Pacific  \n",
       "155  [62530.0, 62610.6976744186, 62691.395348837206...    East Asia & Pacific  \n",
       "156  [20000.0, 20000.0, 20000.0, 20000.0, 20000.0, ...    East Asia & Pacific  \n",
       "157  [17927000.0, 17927000.0, 17927000.0, 17927000....    East Asia & Pacific  \n",
       "158  [31000000.0, 31000000.0, 31000000.0, 31000000....    East Asia & Pacific  \n",
       "159  [4345000.0, 4345000.0, 4345000.0, 4345000.0, 4...    East Asia & Pacific  \n",
       "160  [9395000.0, 9395000.0, 9395000.0, 9395000.0, 9...    East Asia & Pacific  \n",
       "161  [35000.0, 35000.0, 35000.0, 35000.0, 35000.0, ...    East Asia & Pacific  \n",
       "162  [287000.0, 287000.0, 287000.0, 287000.0, 28700...    East Asia & Pacific  \n",
       "163  [16416.0, 16416.0, 16416.0, 16416.0, 16416.0, ...    East Asia & Pacific  \n",
       "164  [619000.0, 619000.0, 619000.0, 619000.0, 61900...    East Asia & Pacific  \n",
       "165  [3506000.0, 3506000.0, 3506000.0, 3506000.0, 3...    East Asia & Pacific  \n",
       "166  [29432.0, 29432.0, 29432.0, 29432.0, 29432.0, ...    East Asia & Pacific  \n",
       "167  [100000.0, 100000.0, 100000.0, 100000.0, 10000...    East Asia & Pacific  \n",
       "168  [754894.0, 754894.0, 754894.0, 754894.0, 75489...    East Asia & Pacific  \n",
       "169  [2176000.0, 2176000.0, 2176000.0, 2176000.0, 2...    East Asia & Pacific  \n",
       "170  [47300.0, 47291.98, 47283.96, 47275.94, 47267....    East Asia & Pacific  \n",
       "171  [30000.0, 30000.0, 30000.0, 30000.0, 30000.0, ...    East Asia & Pacific  \n",
       "172  [56998.0, 56998.0, 56998.0, 56998.0, 56998.0, ...    East Asia & Pacific  \n",
       "173  [2000000.0, 2000000.0, 2000000.0, 2000000.0, 2...    East Asia & Pacific  \n",
       "174  [4665000.0, 4665000.0, 4665000.0, 4665000.0, 4...    East Asia & Pacific  \n",
       "175  [137262.0, 137262.0, 137262.0, 137262.0, 13726...    East Asia & Pacific  \n",
       "177  [18658.0, 18654.325581395347, 18650.6511627907...    East Asia & Pacific  \n",
       "178  [6551000.0, 6551000.0, 6551000.0, 6551000.0, 6...    East Asia & Pacific  \n",
       "179  [27791.0, 27791.0, 27791.0, 27791.0, 27791.0, ...    East Asia & Pacific  \n",
       "\n",
       "[178 rows x 5 columns]"
      ]
     },
     "execution_count": 97,
     "metadata": {},
     "output_type": "execute_result"
    }
   ],
   "source": [
    "data = process_data('/Users/jillnaiman1/Downloads/nations.json')\n",
    "data"
   ]
  },
  {
   "cell_type": "code",
   "execution_count": 98,
   "metadata": {},
   "outputs": [],
   "source": [
    "income_min, income_max, life_exp_min, life_exp_max, pop_min, pop_max = get_min_max(data)"
   ]
  },
  {
   "cell_type": "code",
   "execution_count": 99,
   "metadata": {},
   "outputs": [],
   "source": [
    "tt = bqplot.Tooltip( fields = ['name', 'x', 'y'], \n",
    "                   labels=['Country Name', 'Income per Capita', 'Life Expectancy'])"
   ]
  },
  {
   "cell_type": "code",
   "execution_count": 100,
   "metadata": {},
   "outputs": [],
   "source": [
    "year_label = bqplot.Label(x=[0.75],y=[0.10], font_size=52, font_weight='bolder', \n",
    "                         colors=['orange'], text=[str(initial_year)], enable_move=True)"
   ]
  },
  {
   "cell_type": "code",
   "execution_count": 102,
   "metadata": {},
   "outputs": [],
   "source": [
    "# scales\n",
    "x_sc = bqplot.LogScale(min=income_min, max=income_max)\n",
    "y_sc = bqplot.LinearScale(min=life_exp_min, max=life_exp_max)\n",
    "\n",
    "c_sc = bqplot.OrdinalColorScale(domain=data['region'].unique().tolist(), colors=bqplot.CATEGORY10[:6])\n",
    "\n",
    "size_sc = bqplot.LinearScale(min=pop_min, max=pop_max)"
   ]
  },
  {
   "cell_type": "code",
   "execution_count": 103,
   "metadata": {},
   "outputs": [],
   "source": [
    "ax_y = bqplot.Axis(label='Life Expectancy', scale=y_sc, orientation='vertical', side='left', grid_lines='solid')\n",
    "ax_x = bqplot.Axis(label='Income per Capita', scale=x_sc, grid_lines='solid')"
   ]
  },
  {
   "cell_type": "code",
   "execution_count": 104,
   "metadata": {},
   "outputs": [],
   "source": [
    "cap_income, life_exp, pop = get_data(data, initial_year, initial_year)"
   ]
  },
  {
   "cell_type": "code",
   "execution_count": 105,
   "metadata": {},
   "outputs": [],
   "source": [
    "wealth_scat = bqplot.Scatter(x=cap_income, y=life_exp, color=data['region'], size=pop, \n",
    "                            names=data['name'], display_names=False, \n",
    "                            scales={'x':x_sc, 'y':y_sc, 'color':c_sc, 'size':size_sc},\n",
    "                            default=4112, tooltip=tt, animate=True, stroke='Black', \n",
    "                            unhovered_style={'opacity':0.5})"
   ]
  },
  {
   "cell_type": "code",
   "execution_count": 106,
   "metadata": {},
   "outputs": [],
   "source": [
    "nation_line = bqplot.Lines(x=data['income'][0], y=data['lifeExpectancy'][0], \n",
    "                          colors=['Gray'], \n",
    "                          scales={'x':x_sc, 'y':y_sc}, visible=False)"
   ]
  },
  {
   "cell_type": "code",
   "execution_count": 107,
   "metadata": {},
   "outputs": [],
   "source": [
    "time_interval = 10"
   ]
  },
  {
   "cell_type": "code",
   "execution_count": 108,
   "metadata": {},
   "outputs": [],
   "source": [
    "fig = bqplot.Figure(marks=[wealth_scat, year_label, nation_line], axes=[ax_x, ax_y], \n",
    "                   title='Health and Wealth of Nations', \n",
    "                   animation_duration = time_interval)"
   ]
  },
  {
   "cell_type": "code",
   "execution_count": 109,
   "metadata": {},
   "outputs": [],
   "source": [
    "fig.layout.min_width='960px'\n",
    "fig.layout.min_height = '640px'"
   ]
  },
  {
   "cell_type": "code",
   "execution_count": 112,
   "metadata": {},
   "outputs": [
    {
     "ename": "AttributeError",
     "evalue": "'module' object has no attribute 'initjs'",
     "output_type": "error",
     "traceback": [
      "\u001b[0;31m---------------------------------------------------------------------------\u001b[0m",
      "\u001b[0;31mAttributeError\u001b[0m                            Traceback (most recent call last)",
      "\u001b[0;32m<ipython-input-112-6676ca64e276>\u001b[0m in \u001b[0;36m<module>\u001b[0;34m()\u001b[0m\n\u001b[0;32m----> 1\u001b[0;31m \u001b[0mbqplot\u001b[0m\u001b[0;34m.\u001b[0m\u001b[0minitjs\u001b[0m\u001b[0;34m(\u001b[0m\u001b[0;34m)\u001b[0m\u001b[0;34m\u001b[0m\u001b[0m\n\u001b[0m",
      "\u001b[0;31mAttributeError\u001b[0m: 'module' object has no attribute 'initjs'"
     ]
    }
   ],
   "source": []
  },
  {
   "cell_type": "code",
   "execution_count": null,
   "metadata": {},
   "outputs": [],
   "source": []
  }
 ],
 "metadata": {
  "kernelspec": {
   "display_name": "Python 3",
   "language": "python",
   "name": "python3"
  },
  "language_info": {
   "codemirror_mode": {
    "name": "ipython",
    "version": 2
   },
   "file_extension": ".py",
   "mimetype": "text/x-python",
   "name": "python",
   "nbconvert_exporter": "python",
   "pygments_lexer": "ipython2",
   "version": "2.7.15"
  }
 },
 "nbformat": 4,
 "nbformat_minor": 2
}
