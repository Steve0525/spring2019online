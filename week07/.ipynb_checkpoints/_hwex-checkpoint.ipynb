{
 "cells": [
  {
   "cell_type": "code",
   "execution_count": 1,
   "metadata": {},
   "outputs": [],
   "source": [
    "# lets start by loading the UFO dataset\n",
    "import pandas as pd\n",
    "buildings = pd.read_csv(\"/Users/jillnaiman1/Downloads/building_inventory.csv\",\n",
    "                        na_values = {'Year Acquired': 0, \n",
    "                                     'Year Constructed': 0, \n",
    "                                     'Square Footage': 0})"
   ]
  },
  {
   "cell_type": "markdown",
   "metadata": {},
   "source": [
    "## Note: you can also do with pandas & pivot table as the slack suggested, this is just one way of organizing the data"
   ]
  },
  {
   "cell_type": "markdown",
   "metadata": {},
   "source": [
    "### For heatmap"
   ]
  },
  {
   "cell_type": "code",
   "execution_count": 2,
   "metadata": {},
   "outputs": [],
   "source": [
    "x = buildings['Congress Dist']\n",
    "y = buildings['Agency Name']\n",
    "z = buildings['Square Footage']\n",
    "#x.shape, y.shape, z.shape\n",
    "\n",
    "# find unique things\n",
    "import numpy as np\n",
    "xnames = x.unique()\n",
    "ynames = y.unique()\n",
    "znames = np.zeros([len(xnames),len(ynames)])\n",
    "\n",
    "# loop and fill\n",
    "for i,xn in enumerate(xnames):\n",
    "    for j, yn in enumerate(ynames):\n",
    "        mask = (x == xn) & (y == yn)\n",
    "        znames[i,j] = z[mask].sum()\n",
    "        \n",
    "#znames"
   ]
  },
  {
   "cell_type": "markdown",
   "metadata": {},
   "source": [
    "### For lineplot"
   ]
  },
  {
   "cell_type": "code",
   "execution_count": 3,
   "metadata": {},
   "outputs": [],
   "source": [
    "xl = buildings['Year Acquired'].values # in float\n",
    "yl = buildings['Square Footage'].values\n",
    "#buildings.keys()\n",
    "#xl"
   ]
  },
  {
   "cell_type": "code",
   "execution_count": 23,
   "metadata": {},
   "outputs": [
    {
     "name": "stderr",
     "output_type": "stream",
     "text": [
      "/usr/local/lib/python2.7/site-packages/ipykernel_launcher.py:23: RuntimeWarning: divide by zero encountered in log10\n"
     ]
    },
    {
     "data": {
      "application/vnd.jupyter.widget-view+json": {
       "model_id": "39c5ab26e13b489eaa3068da68c539cd",
       "version_major": 2,
       "version_minor": 0
      },
      "text/plain": [
       "SEJveChjaGlsZHJlbj0oRmlndXJlKGF4ZXM9W0NvbG9yQXhpcyhvcmllbnRhdGlvbj0ndmVydGljYWwnLCBzY2FsZT1Db2xvclNjYWxlKHNjaGVtZT11J1JkUHUnKSwgc2lkZT0ncmlnaHQnKSzigKY=\n"
      ]
     },
     "metadata": {},
     "output_type": "display_data"
    }
   ],
   "source": [
    "import bqplot\n",
    "\n",
    "# first, the heatmap\n",
    "col_sc = bqplot.ColorScale(scheme=\"RdPu\")\n",
    "x_sc = bqplot.OrdinalScale()\n",
    "y_sc = bqplot.OrdinalScale()\n",
    "\n",
    "# create axis - for colors, x & y\n",
    "c_ax = bqplot.ColorAxis(scale = col_sc, \n",
    "                        orientation = 'vertical', \n",
    "                        side = 'right')\n",
    "x_ax = bqplot.Axis(scale = x_sc, label='Agency Name', \n",
    "                  tick_rotate=45, # rotated\n",
    "                   tick_style={ 'font-size':'10px'})\n",
    "y_ax = bqplot.Axis(scale = y_sc, \n",
    "                   orientation = 'vertical', \n",
    "                   label = 'Congressional District')\n",
    "\n",
    "    \n",
    "heat_map = bqplot.GridHeatMap(color = np.log10(znames),\n",
    "                              row = xnames, \n",
    "                              column = ynames,\n",
    "                              scales = {'color': col_sc,\n",
    "                                        'row': y_sc,\n",
    "                                        'column': x_sc},\n",
    "                              interactions = {'click': 'select'},\n",
    "                              anchor_style = {'fill':'blue'}, \n",
    "                              selected_style = {'opacity': 1.0},\n",
    "                              unselected_style = {'opacity': 1.0})\n",
    "\n",
    "fig = bqplot.Figure(marks = [heat_map], axes = [c_ax, y_ax, x_ax], \n",
    "                    fig_margin = dict(top=50, bottom=150, left=50, right=50))\n",
    "\n",
    "# second, the lineplot\n",
    "x_scl = bqplot.LinearScale() \n",
    "y_scl = bqplot.LinearScale()\n",
    "ax_xcl = bqplot.Axis(label='Date', scale=x_scl)\n",
    "ax_ycl = bqplot.Axis(label='Square footage in year aquired', scale=y_scl, \n",
    "                    orientation='vertical', side='left')\n",
    "\n",
    "# start with defaults\n",
    "i,j = 0,0\n",
    "mask = (x.values == xnames[i]) & (y.values == ynames[j])\n",
    "yrs = xl[mask]\n",
    "sqrf = yl[mask]\n",
    "# no nans for years\n",
    "sqrf = sqrf[~pd.isnull(yrs)]\n",
    "yrs = yrs[~pd.isnull(yrs)]\n",
    "# fill years\n",
    "yrsu = np.unique(yrs)\n",
    "sqrfu = [sqrf[yrs == yrsu[i]].sum() for i in range(len(yrsu)) ]\n",
    "\n",
    "lines = bqplot.Lines(x = yrsu, y = sqrfu,\n",
    "                    scales = {'x': x_scl, 'y': y_scl})\n",
    "\n",
    "fig_lines = bqplot.Figure(marks = [lines], axes = [ax_ycl, ax_xcl])\n",
    "\n",
    "# link\n",
    "#  to what we've selected so:\n",
    "def get_data_value(change):\n",
    "    i,j = change['owner'].selected[0]\n",
    "    mask = (x.values == xnames[i]) & (y.values == ynames[j])\n",
    "    yrs = xl[mask]\n",
    "    sqrf = yl[mask]\n",
    "    # no nans for years\n",
    "    sqrf = sqrf[~pd.isnull(yrs)]\n",
    "    yrs = yrs[~pd.isnull(yrs)]\n",
    "    # fill years\n",
    "    yrsu = np.unique(yrs)\n",
    "    sqrfu = [sqrf[yrs == yrsu[b]].sum() for b in range(len(yrsu)) ]\n",
    "    lines.x = yrsu\n",
    "    lines.y = sqrfu\n",
    "    \n",
    "# make sure we connect to heatmap     \n",
    "heat_map.observe(get_data_value, 'selected')\n",
    "\n",
    "# sizing\n",
    "fig.layout.max_width = '500px'\n",
    "fig.layout.max_height= '500px'\n",
    "fig_lines.layout.max_width='400px'\n",
    "fig_lines.layout.max_height='400px'\n",
    "\n",
    "import ipywidgets\n",
    "ipywidgets.HBox([fig,fig_lines])\n",
    "\n",
    "#xlin\n",
    "\n",
    "#fig"
   ]
  },
  {
   "cell_type": "code",
   "execution_count": 19,
   "metadata": {},
   "outputs": [
    {
     "data": {
      "text/plain": [
       "array(['   Department of Natural Resources',\n",
       "       '   Department of Corrections', '   Department of Human Services',\n",
       "       '   Department of Transportation', '   Department of State Police',\n",
       "       '   Department of Military Affairs',\n",
       "       '   Department of Agriculture', '   Governors State University',\n",
       "       '   Department of Central Management Services',\n",
       "       '   Illinois State University', '   Historic Preservation Agency',\n",
       "       '   Department of Juvenile Justice',\n",
       "       '   Southern Illinois University',\n",
       "       '   Illinois Medical District Commission',\n",
       "       '   University of Illinois', \"   Department of Veterans' Affairs\",\n",
       "       '   Chicago State University', '   Northern Illinois University',\n",
       "       '   Office of the Secretary of State',\n",
       "       '   Illinois Emergency Management Agency',\n",
       "       '   Western Illinois University', '   Eastern Illinois University',\n",
       "       '   Northeastern Illinois University',\n",
       "       '   Illinois Community College Board',\n",
       "       '   Illinois Board of Higher Education',\n",
       "       '   IL State Board of Education', '   Department of Revenue',\n",
       "       \"   Governor's Office\", '   Office of the Attorney General',\n",
       "       '   Appellate Court / Fourth District',\n",
       "       '   Department of Public Health', '   Illinois Courts',\n",
       "       '   Appellate Court / Third District',\n",
       "       '   Appellate Court / Fifth District',\n",
       "       '   Appellate Court / Second District'], dtype=object)"
      ]
     },
     "execution_count": 19,
     "metadata": {},
     "output_type": "execute_result"
    }
   ],
   "source": []
  },
  {
   "cell_type": "code",
   "execution_count": null,
   "metadata": {},
   "outputs": [],
   "source": []
  }
 ],
 "metadata": {
  "kernelspec": {
   "display_name": "Python 3",
   "language": "python",
   "name": "python3"
  },
  "language_info": {
   "codemirror_mode": {
    "name": "ipython",
    "version": 2
   },
   "file_extension": ".py",
   "mimetype": "text/x-python",
   "name": "python",
   "nbconvert_exporter": "python",
   "pygments_lexer": "ipython2",
   "version": "2.7.15"
  }
 },
 "nbformat": 4,
 "nbformat_minor": 2
}
