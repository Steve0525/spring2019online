{
 "cells": [
  {
   "cell_type": "markdown",
   "metadata": {},
   "source": [
    "# Activity #1: Heat maps\n",
    "* we'll start with building up a heat map based on some small, randomly generate data\n",
    "* we'll use this methodology to make our plot interactive & then move on to using \"real\" data"
   ]
  },
  {
   "cell_type": "code",
   "execution_count": 1,
   "metadata": {},
   "outputs": [],
   "source": [
    "# lets import our usual stuff\n",
    "import pandas as pd\n",
    "import bqplot\n",
    "import numpy as np\n",
    "import traitlets\n",
    "import ipywidgets\n",
    "%matplotlib inline"
   ]
  },
  {
   "cell_type": "code",
   "execution_count": 2,
   "metadata": {},
   "outputs": [
    {
     "data": {
      "text/plain": [
       "array([[0.95405926, 0.2402435 , 0.34090379, 0.84476242, 0.94035166,\n",
       "        0.46198794, 0.30606024, 0.5094162 , 0.02919076, 0.69801277],\n",
       "       [0.40563398, 0.98715177, 0.38669062, 0.07171536, 0.93225784,\n",
       "        0.15868398, 0.26300432, 0.7234504 , 0.26378315, 0.64795084],\n",
       "       [0.23086127, 0.65082457, 0.84622733, 0.19505782, 0.40030913,\n",
       "        0.30846152, 0.44111055, 0.41953905, 0.34890885, 0.71278634],\n",
       "       [0.46014208, 0.6915995 , 0.70909772, 0.55701089, 0.35864802,\n",
       "        0.77223947, 0.67728341, 0.40096339, 0.0161139 , 0.55381603],\n",
       "       [0.59021364, 0.71939785, 0.11350997, 0.49027535, 0.84917984,\n",
       "        0.81929141, 0.06985508, 0.21034174, 0.5540879 , 0.03258568],\n",
       "       [0.44997725, 0.80468247, 0.83698768, 0.69253844, 0.11712469,\n",
       "        0.5966843 , 0.06208076, 0.77002347, 0.82747863, 0.68448286],\n",
       "       [0.05480848, 0.05656224, 0.88545484, 0.94462743, 0.87419852,\n",
       "        0.29098424, 0.95192182, 0.27129632, 0.62502844, 0.4486377 ],\n",
       "       [0.04667971, 0.62211616, 0.71173936, 0.51045952, 0.15806326,\n",
       "        0.88385446, 0.27025766, 0.9921888 , 0.99848474, 0.89472809],\n",
       "       [0.43060937, 0.06974285, 0.72727867, 0.66678668, 0.01785265,\n",
       "        0.40519372, 0.37015992, 0.50783281, 0.05907968, 0.58801483],\n",
       "       [0.5424959 , 0.83423224, 0.83292248, 0.33146722, 0.72640825,\n",
       "        0.34375723, 0.79193577, 0.91118227, 0.72495317, 0.65523485]])"
      ]
     },
     "execution_count": 2,
     "metadata": {},
     "output_type": "execute_result"
    }
   ],
   "source": [
    "# lets start thinking about heatmaps with some random data\n",
    "data = np.random.random((10, 10))\n",
    "data\n",
    "# so we just have a 10 x 10 array here"
   ]
  },
  {
   "cell_type": "code",
   "execution_count": 3,
   "metadata": {},
   "outputs": [
    {
     "data": {
      "application/vnd.jupyter.widget-view+json": {
       "model_id": "91c3e3c83c394ecab9c942d28a4f6da7",
       "version_major": 2,
       "version_minor": 0
      },
      "text/plain": [
       "RmlndXJlKGF4ZXM9W0NvbG9yQXhpcyhvcmllbnRhdGlvbj0ndmVydGljYWwnLCBzY2FsZT1Db2xvclNjYWxlKHNjaGVtZT11J1JlZHMnKSwgc2lkZT0ncmlnaHQnKSwgQXhpcyhvcmllbnRhdGnigKY=\n"
      ]
     },
     "metadata": {},
     "output_type": "display_data"
    }
   ],
   "source": [
    "# lets start by generating a quick heat map\n",
    "\n",
    "# (1)\n",
    "# create our first scale of our plot: just a color scale\n",
    "col_sc = bqplot.ColorScale() \n",
    "# now we'll use bqplot's gridheatmap function\n",
    "#  with our randomly generated data & our scales to \n",
    "#  make a heatmap like so:\n",
    "heat_map = bqplot.GridHeatMap(color = data, scales = {'color': col_sc})\n",
    "# put our marks into our figure and lets go!\n",
    "fig = bqplot.Figure(marks = [heat_map])\n",
    "\n",
    "# (2) ok, this is fine and all, but lets add some reference for our \n",
    "#  color scheme with a colorbar & also lets choose a different \n",
    "#  color scheme\n",
    "col_sc = bqplot.ColorScale(scheme = \"Reds\")\n",
    "# lets plot some axes on our plot as well, in this case\n",
    "#  our axis will be a color bar, vertically on the right\n",
    "#  of our heatmap\n",
    "c_ax = bqplot.ColorAxis(scale = col_sc, orientation = 'vertical', side = 'right')\n",
    "# put it all together and lets take a look!\n",
    "heat_map = bqplot.GridHeatMap(color = data, scales = {'color': col_sc})\n",
    "# generate fig!\n",
    "fig = bqplot.Figure(marks = [heat_map], axes = [c_ax])\n",
    "\n",
    "# (3) finally, lets add some axes labels on the x & y axis,\n",
    "#  we need to add their scales first\n",
    "# this scale will just count up the boxes in the vertical \n",
    "#   & horizontal direction\n",
    "x_sc = bqplot.OrdinalScale()\n",
    "y_sc = bqplot.OrdinalScale()\n",
    "# add our axes objects\n",
    "x_ax = bqplot.Axis(scale = x_sc)\n",
    "y_ax = bqplot.Axis(scale = y_sc, orientation = 'vertical')\n",
    "heat_map = bqplot.GridHeatMap(color = data, scales = {'color': col_sc, \n",
    "                                                     'row': y_sc,\n",
    "                                                     'column':x_sc})\n",
    "fig = bqplot.Figure(marks = [heat_map], axes = [c_ax, y_ax, x_ax])\n",
    "\n",
    "\n",
    "fig"
   ]
  },
  {
   "cell_type": "code",
   "execution_count": 4,
   "metadata": {},
   "outputs": [
    {
     "data": {
      "application/vnd.jupyter.widget-view+json": {
       "model_id": "2fcd8cf85daf4a1ab9faf85b7a2157ea",
       "version_major": 2,
       "version_minor": 0
      },
      "text/plain": [
       "RmlndXJlKGF4ZXM9W0NvbG9yQXhpcyhvcmllbnRhdGlvbj0ndmVydGljYWwnLCBzY2FsZT1Db2xvclNjYWxlKHNjaGVtZT11J1JlZHMnKSwgc2lkZT0ncmlnaHQnKSwgQXhpcyhvcmllbnRhdGnigKY=\n"
      ]
     },
     "metadata": {},
     "output_type": "display_data"
    }
   ],
   "source": [
    "# so, while this indeed a lovely heatmap, it isn't interactive in any way!\n",
    "#  boo to that!\n",
    "# Lets start adding in some interactivity\n",
    "\n",
    "# keep data from last time\n",
    "\n",
    "# now add scales - colors, x & y\n",
    "col_sc = bqplot.ColorScale(scheme = \"Reds\")\n",
    "x_sc = bqplot.OrdinalScale()\n",
    "y_sc = bqplot.OrdinalScale()\n",
    "\n",
    "# create axis - for colors, x & y\n",
    "c_ax = bqplot.ColorAxis(scale = col_sc, orientation = 'vertical', side = 'right')\n",
    "x_ax = bqplot.Axis(scale = x_sc)\n",
    "y_ax = bqplot.Axis(scale = y_sc, orientation = 'vertical')\n",
    "\n",
    "# lets now re-do our heat map & add in some interactivity:\n",
    "heat_map = bqplot.GridHeatMap(color = data,\n",
    "                              scales = {'color': col_sc,\n",
    "                                        'row': y_sc,\n",
    "                                        'column': x_sc},\n",
    "                              interactions = {'click': 'select'},\n",
    "                              anchor_style = {'fill':'blue'}, # to make our selection blue\n",
    "                              selected_style = {'opacity': 1.0},\n",
    "                              unselected_style = {'opacity': 0.8})\n",
    "\n",
    "# stir and combine into 1 figure\n",
    "fig = bqplot.Figure(marks = [heat_map], axes = [c_ax, y_ax, x_ax])\n",
    "\n",
    "fig\n"
   ]
  },
  {
   "cell_type": "code",
   "execution_count": 5,
   "metadata": {},
   "outputs": [
    {
     "data": {
      "text/plain": [
       "[]"
      ]
     },
     "execution_count": 5,
     "metadata": {},
     "output_type": "execute_result"
    }
   ],
   "source": [
    "#  Ok fine, but our selection isn't linked to anything!\n",
    "#  lets check out what heat_map selected is\n",
    "heat_map.selected\n",
    "#  note if I select a different box & re-run this cell,\n",
    "#  I get out different values\n"
   ]
  },
  {
   "cell_type": "code",
   "execution_count": 10,
   "metadata": {},
   "outputs": [
    {
     "data": {
      "application/vnd.jupyter.widget-view+json": {
       "model_id": "6367ae34047244908da71acea3d34c23",
       "version_major": 2,
       "version_minor": 0
      },
      "text/plain": [
       "VkJveChjaGlsZHJlbj0oTGFiZWwodmFsdWU9dScnKSwgRmlndXJlKGF4ZXM9W0NvbG9yQXhpcyhvcmllbnRhdGlvbj0ndmVydGljYWwnLCBzY2FsZT1Db2xvclNjYWxlKHNjaGVtZT11J1JlZHPigKY=\n"
      ]
     },
     "metadata": {},
     "output_type": "display_data"
    }
   ],
   "source": [
    "# so now, lets write a little function that links the data value\n",
    "#  to the selected & lets print this in a little ipywidgets label\n",
    "mySelectedLabel = ipywidgets.Label()\n",
    "\n",
    "# (1) \n",
    "# lets write our linking function\n",
    "# there are a few ways to link this,\n",
    "#  here is a simple way first\n",
    "def get_data_value(change):\n",
    "    i,j = heat_map.selected[0]\n",
    "    v = data[i,j] # grab data value\n",
    "    mySelectedLabel.value = str(v) # set our label\n",
    "\n",
    "# (2) this is maybe in-elegant as we are \n",
    "#  explicitly calling our origininal heat map!\n",
    "#  so, lets instead remind ourselves what \"change\" is here\n",
    "def get_data_value(change):\n",
    "    print(change)\n",
    "    i,j = heat_map.selected[0]\n",
    "    v = data[i,j] # grab data value\n",
    "    mySelectedLabel.value = str(v) # set our label\n",
    "# now we see when we click we get back a whole\n",
    "#  dictionary of information - if we recall, \n",
    "#  \"owner\" here is our heat_map which \"owns\" \n",
    "# this change.\n",
    "#  If we want to be able to apply our function to \n",
    "#  this or any other heatmap figure we generate,\n",
    "#  we can re-write the above function as follows:\n",
    "\n",
    "# (3)\n",
    "#def get_data_value(change,mylab):\n",
    "def get_data_value(change):\n",
    "    #print(change['owner'].selected)\n",
    "    i,j = change['owner'].selected[0]\n",
    "    v = data[i,j] # grab data value\n",
    "    mySelectedLabel.value = str(v) # set our label\n",
    "    #mylab.value = str(v) # set our label\n",
    "# so, this now is applied to any map that we choose to input\n",
    "    \n",
    "# regenerate our heatmap to use in our fig canvas\n",
    "heat_map = bqplot.GridHeatMap(color = data,\n",
    "                              scales = {'color': col_sc,\n",
    "                                        'row': y_sc,\n",
    "                                        'column': x_sc},\n",
    "                              interactions = {'click': 'select'},\n",
    "                              anchor_style = {'fill':'blue'}, \n",
    "                              selected_style = {'opacity': 1.0},\n",
    "                              unselected_style = {'opacity': 0.8})\n",
    "    \n",
    "# make sure we check out     \n",
    "heat_map.observe(get_data_value, 'selected')\n",
    "#heat_map.observe(self, mySelectedLabel)\n",
    "fig = bqplot.Figure(marks = [heat_map], axes = [c_ax, y_ax, x_ax])\n",
    "\n",
    "ipywidgets.VBox([mySelectedLabel, fig])\n",
    "#fig"
   ]
  },
  {
   "cell_type": "code",
   "execution_count": null,
   "metadata": {},
   "outputs": [],
   "source": [
    "# now lets move on to making a preliminary dashboard for multi-dimensional datasets\n",
    "#  lets first start with some randomly generated data again"
   ]
  },
  {
   "cell_type": "code",
   "execution_count": 27,
   "metadata": {},
   "outputs": [
    {
     "data": {
      "application/vnd.jupyter.widget-view+json": {
       "model_id": "eef37b99bfee445bb588cf29eb072a8f",
       "version_major": 2,
       "version_minor": 0
      },
      "text/plain": [
       "VkJveChjaGlsZHJlbj0oTGFiZWwodmFsdWU9dScnKSwgSEJveChjaGlsZHJlbj0oRmlndXJlKGF4ZXM9W0NvbG9yQXhpcyhvcmllbnRhdGlvbj0ndmVydGljYWwnLCBzY2FsZT1Db2xvclNjYWzigKY=\n"
      ]
     },
     "metadata": {},
     "output_type": "display_data"
    },
    {
     "name": "stdout",
     "output_type": "stream",
     "text": [
      "[0.05338513 0.11171841 0.5819798  0.12457197 0.13907554 0.70979324\n",
      " 0.69784075 0.74625553 0.67956493 0.59083884 0.23743839 0.42141649\n",
      " 0.46167342 0.47072882 0.56896268 0.10957356 0.06479109 0.10204977\n",
      " 0.65211704 0.34477628]\n",
      "[0.41351937 0.58252837 0.75648238 0.1337779  0.42376705 0.66626573\n",
      " 0.59184308 0.43328271 0.05808368 0.76153639 0.39407506 0.54547538\n",
      " 0.98205314 0.32066135 0.65494866 0.58395757 0.09784621 0.85761512\n",
      " 0.32048514 0.81573683]\n",
      "[0.52859144 0.1240241  0.4132427  0.55032564 0.03277673 0.36487834\n",
      " 0.2034292  0.58625508 0.30304302 0.84359551 0.52225639 0.93907286\n",
      " 0.07096643 0.37042497 0.5673053  0.85575648 0.40203061 0.32509867\n",
      " 0.91728746 0.77814759]\n",
      "[0.19707978 0.49017584 0.09031649 0.61500317 0.71969257 0.57769486\n",
      " 0.25731558 0.27290609 0.75904074 0.00550949 0.47542786 0.44431471\n",
      " 0.74483514 0.33863635 0.10878279 0.05889272 0.25334607 0.05441805\n",
      " 0.53650486 0.23293238]\n",
      "[0.47072385 0.61208258 0.53828123 0.66264911 0.59388976 0.70328173\n",
      " 0.59128561 0.79253576 0.27208855 0.64035498 0.62955811 0.37725049\n",
      " 0.53688335 0.6385955  0.83570586 0.86350795 0.72017977 0.54337433\n",
      " 0.54105143 0.93965215]\n",
      "[0.89354141 0.04644358 0.61579885 0.33719269 0.2205795  0.64312035\n",
      " 0.18442117 0.05040983 0.7319633  0.26903407 0.31314976 0.26977701\n",
      " 0.65051084 0.78025019 0.17424307 0.0817545  0.00948145 0.001003\n",
      " 0.52037363 0.22768575]\n"
     ]
    }
   ],
   "source": [
    "data = np.random.random((10, 10,20))\n",
    "data\n",
    "\n",
    "data.shape\n",
    "\n",
    "data[0,0,:]\n",
    "# we can see that no instead of 1 value, each \"i,j\" component\n",
    "#  has an array of values\n",
    "\n",
    "# lets start building up linked plots\n",
    "#  first, lets re-do our plot above with our label printing\n",
    "#  out the sum along this 5-d array\n",
    "\n",
    "# now add scales - colors, x & y\n",
    "col_sc = bqplot.ColorScale(scheme = \"Reds\")\n",
    "x_sc = bqplot.OrdinalScale()\n",
    "y_sc = bqplot.OrdinalScale()\n",
    "\n",
    "# create axis - for colors, x & y\n",
    "c_ax = bqplot.ColorAxis(scale = col_sc, orientation = 'vertical', side = 'right')\n",
    "x_ax = bqplot.Axis(scale = x_sc)\n",
    "y_ax = bqplot.Axis(scale = y_sc, orientation = 'vertical')\n",
    "\n",
    "# create label again\n",
    "mySelectedLabel = ipywidgets.Label()\n",
    "\n",
    "def get_data_value(change):\n",
    "    i,j = change['owner'].selected[0]\n",
    "    # if we run with this, our label is the 20 elements\n",
    "    #v = data[i,j] # grab data value\n",
    "    # but,lets sum instead\n",
    "    v = data[i,j].sum() # grab data value\n",
    "    mySelectedLabel.value = str(v) # set our label\n",
    "# so, this now is applied to any map that we choose to input\n",
    "    \n",
    "    \n",
    "    \n",
    "# regenerate our heatmap to use in our fig canvas\n",
    "# now, we want to plot the sum along our 3rd axis as well, \n",
    "#  so, lets do this with \"np.sum\" along our 3rd axis\n",
    "heat_map = bqplot.GridHeatMap(color = np.sum(data,axis=2),\n",
    "                              scales = {'color': col_sc,\n",
    "                                        'row': y_sc,\n",
    "                                        'column': x_sc},\n",
    "                              interactions = {'click': 'select'},\n",
    "                              anchor_style = {'fill':'blue'}, \n",
    "                              selected_style = {'opacity': 1.0},\n",
    "                              unselected_style = {'opacity': 0.8})\n",
    "    \n",
    "# make sure we check out     \n",
    "heat_map.observe(get_data_value, 'selected')\n",
    "#heat_map.observe(self, mySelectedLabel)\n",
    "fig = bqplot.Figure(marks = [heat_map], axes = [c_ax, y_ax, x_ax])\n",
    "\n",
    "#(1)\n",
    "#ipywidgets.VBox([mySelectedLabel, fig])\n",
    "\n",
    "# (2)\n",
    "# now, lets generate another figure that just plots the histogram of values in our 3rd axis\n",
    "x_sch = bqplot.LinearScale()\n",
    "y_sch = bqplot.LinearScale()\n",
    "x_axh = bqplot.Axis(scale = x_sch)\n",
    "y_axh = bqplot.Axis(scale = y_sch, orientation = 'vertical')\n",
    "\n",
    "hist = bqplot.Hist(sample = data[0,0,:],\n",
    "                    opacity = 0.1, normalized = True,\n",
    "                    scales = {'sample': x_sch, 'count': y_sch},\n",
    "                  bins = 5)\n",
    "figh = bqplot.Figure(marks = [hist], axes = [x_axh, y_axh])\n",
    "# ok, so side by side plots, but nothing updates!\n",
    "\n",
    "#(3) so, we have to update what our heatmap has access to as \n",
    "#  far as being able to update both the label *AND* the \n",
    "# histogram's data\n",
    "def get_data_value2(change):\n",
    "    i,j = change['owner'].selected[0]\n",
    "    # if we run with this, our label is the 20 elements\n",
    "    #v = data[i,j] # grab data value\n",
    "    # but,lets sum instead\n",
    "    v = data[i,j].sum() # grab data value\n",
    "    mySelectedLabel.value = str(v) # set our label\n",
    "    hist.sample = data[i,j]\n",
    "    #print(data[i,j])\n",
    "heat_map.observe(get_data_value2, 'selected')\n",
    "\n",
    "\n",
    "ipywidgets.VBox([mySelectedLabel, ipywidgets.HBox([fig,figh])] )\n"
   ]
  },
  {
   "cell_type": "code",
   "execution_count": null,
   "metadata": {},
   "outputs": [],
   "source": []
  }
 ],
 "metadata": {
  "kernelspec": {
   "display_name": "Python 3",
   "language": "python",
   "name": "python3"
  },
  "language_info": {
   "codemirror_mode": {
    "name": "ipython",
    "version": 2
   },
   "file_extension": ".py",
   "mimetype": "text/x-python",
   "name": "python",
   "nbconvert_exporter": "python",
   "pygments_lexer": "ipython2",
   "version": "2.7.15"
  }
 },
 "nbformat": 4,
 "nbformat_minor": 2
}
